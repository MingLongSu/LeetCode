{
 "cells": [
  {
   "cell_type": "markdown",
   "metadata": {},
   "source": [
    "# LeetCode 7\n",
    "![lc-7](./assets/question.jpg)"
   ]
  },
  {
   "cell_type": "markdown",
   "metadata": {},
   "source": [
    "> Observations:\n",
    "> - MIN INT = -2^31\n",
    "> - MAX INT = 2^31 - 1\n",
    "> - Digit reversing can be done by extracting the digits\n",
    "> - Digit extraction may be completed through modulus (%) by 10\n",
    "> - To get following digits, utilise integer division (//) by 10 \n",
    "> - If reversing integer series is greater than or less than 32-bit integer range MAX INT values, then return 0\n",
    "> - Otherwise, then n, where n is the reverse digit integer, multiplies by 10 and adds the extracted digit to gradually build the new reverse int"
   ]
  },
  {
   "cell_type": "markdown",
   "metadata": {},
   "source": [
    "![lc-7-ex1](./assets/ex1.jpg)"
   ]
  },
  {
   "cell_type": "markdown",
   "metadata": {},
   "source": [
    "> Notes:\n",
    "> - With the current algorithm highlighted above, our result with be the same as the output's result.\n",
    "> - Run-through:\n",
    ">   - 123 % 10 = 3\n",
    ">   - 123 / 10 = 12\n",
    ">   - Note that current int is < MAX INT / 10 and 3 is less than 7\n",
    ">   - Since current int does not exceed the 32-bit integer range, then (current * 10 + digit); note that this means we need an int called \"reverse\" to track reverse"
   ]
  },
  {
   "cell_type": "markdown",
   "metadata": {},
   "source": [
    "![lc-7-ex2](./assets/ex2.jpg)"
   ]
  },
  {
   "cell_type": "code",
   "execution_count": 12,
   "metadata": {},
   "outputs": [
    {
     "name": "stdout",
     "output_type": "stream",
     "text": [
      "7\n",
      "-13\n"
     ]
    }
   ],
   "source": [
    "print(-123 % 10)\n",
    "print(-123 // 10)"
   ]
  },
  {
   "cell_type": "code",
   "execution_count": 10,
   "metadata": {},
   "outputs": [
    {
     "name": "stdout",
     "output_type": "stream",
     "text": [
      "-3\n",
      "-12\n"
     ]
    }
   ],
   "source": [
    "import math\n",
    "print(int(math.fmod(-123, 10)))\n",
    "print(int(-123 / 10))"
   ]
  },
  {
   "cell_type": "markdown",
   "metadata": {},
   "source": [
    "> Notes:\n",
    "> - In the first cell above, regular -123 % 10 gives the correct modulus; however, not for the context of our problem, so we use fmod as in the second cell\n",
    "> - In the first cell above, regular -123 // 10 gives -13, and although it is floored, what we want is -12, so we cast the result of -123 / 10 to int "
   ]
  },
  {
   "cell_type": "markdown",
   "metadata": {},
   "source": [
    "![lc-7-ex3](./assets/ex3.jpg)"
   ]
  },
  {
   "cell_type": "markdown",
   "metadata": {},
   "source": [
    "> Notes:\n",
    "> - Running through the algorithm:\n",
    ">   - 120 % 10 = 0 \n",
    ">   - 120 / 10 = 12\n",
    ">   - 0 * 10 + 0 = 0\n",
    ">   ---\n",
    ">   - 12 % 10 = 2\n",
    ">   - 12 / 10 = 1\n",
    ">   - 0 * 10 + 2 = 2\n",
    ">   --- \n",
    ">   - 1 % 10 = 1\n",
    ">   - 1 / 10 = 0\n",
    ">   - 2 * 10 + 1 = 21\n",
    ">   ---\n",
    ">   - END: Since 1 / 10 resolved to 0 after rounding"
   ]
  }
 ],
 "metadata": {
  "kernelspec": {
   "display_name": "Python 3.9.5 64-bit",
   "language": "python",
   "name": "python3"
  },
  "language_info": {
   "codemirror_mode": {
    "name": "ipython",
    "version": 3
   },
   "file_extension": ".py",
   "mimetype": "text/x-python",
   "name": "python",
   "nbconvert_exporter": "python",
   "pygments_lexer": "ipython3",
   "version": "3.9.5"
  },
  "orig_nbformat": 4,
  "vscode": {
   "interpreter": {
    "hash": "058bbb4884dca741715548dc8689daaa712f0bb17b4c8a018873ab55db552143"
   }
  }
 },
 "nbformat": 4,
 "nbformat_minor": 2
}
