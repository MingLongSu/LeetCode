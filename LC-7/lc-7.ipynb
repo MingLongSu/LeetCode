{
 "cells": [
  {
   "cell_type": "markdown",
   "metadata": {},
   "source": [
    "# LeetCode 7\n",
    "![lc-7](./assets/question.jpg)"
   ]
  },
  {
   "cell_type": "markdown",
   "metadata": {},
   "source": [
    "> Observations:\n",
    "> - MIN INT = -2^31\n",
    "> - MAX INT = 2^31 - 1\n",
    "> - Digit reversing can be done by extracting the digits\n",
    "> - Digit extraction may be completed through modulus (%) by 10\n",
    "> - To get following digits, utilise integer division (//) by 10 \n",
    "> - If reversing integer series is greater than or less than 32-bit integer range MAX INT values, then return 0\n",
    "> - Otherwise, then n, where n is the reverse digit integer, multiplies by 10 and adds the extracted digit to gradually build the new reverse int"
   ]
  }
 ],
 "metadata": {
  "language_info": {
   "name": "python"
  },
  "orig_nbformat": 4
 },
 "nbformat": 4,
 "nbformat_minor": 2
}
