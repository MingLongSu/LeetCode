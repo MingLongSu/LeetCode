{
 "cells": [
  {
   "cell_type": "markdown",
   "metadata": {},
   "source": [
    "# LeetCode 48\n",
    "![lc-48](./assets/question.jpg)"
   ]
  },
  {
   "cell_type": "markdown",
   "metadata": {},
   "source": [
    "> Observations:\n",
    "> - n x n matrix\n",
    "> - Rotation of the matrix of 90 degress specifically"
   ]
  },
  {
   "cell_type": "markdown",
   "metadata": {},
   "source": [
    "![lc-48-ex1](./assets/ex1.jpg)"
   ]
  },
  {
   "cell_type": "markdown",
   "metadata": {},
   "source": [
    "> Notes:\n",
    "> - Note that 1 is at the (0, 0) position and moves to the (0, 2) position and the 2 is at (0, 2) and moves to the (1, 2) position\n",
    "> - The operation of the 90 degree on a 2D array is exhibits a similar behavior to that of a transpose on a matrix\n",
    "> - Moreover, it's a transpose on an n x n matrix that then has its columns reversed"
   ]
  },
  {
   "cell_type": "markdown",
   "metadata": {},
   "source": [
    "![lc-48-ex2](./assets/ex2.jpg)"
   ]
  },
  {
   "cell_type": "markdown",
   "metadata": {},
   "source": [
    "> Notes:\n",
    "> - Transpose algorithm will be simple as the values stored at the (i, j) indices will be swapped with values at the (j, i) indices\n",
    "> - Column reversal algorithm may make use of two pointers (one on the left and right) that gradually converge with a nested for-loop to move through each row of the matrix. This means that we could set up the column reversal to where (l, j) indices will swap values with (r, j) indices until l >= r."
   ]
  },
  {
   "cell_type": "markdown",
   "metadata": {},
   "source": [
    "> ### Final Algorithm\n",
    "> - Two pieces of important information are given, the fact that the matrix is of n x n size, and the rotation is strictly 90 degrees\n",
    "> - Given the matrix, we transpose by the algorithm mentined above\n",
    "> - Then with the transpose matrix, we use the column reversal algorithm highlighted above\n",
    "> - With such, this should give the result of a 90 degree-rotated matrix"
   ]
  }
 ],
 "metadata": {
  "kernelspec": {
   "display_name": "Python 3.9.5 64-bit",
   "language": "python",
   "name": "python3"
  },
  "language_info": {
   "codemirror_mode": {
    "name": "ipython",
    "version": 3
   },
   "file_extension": ".py",
   "mimetype": "text/x-python",
   "name": "python",
   "nbconvert_exporter": "python",
   "pygments_lexer": "ipython3",
   "version": "3.9.5"
  },
  "orig_nbformat": 4,
  "vscode": {
   "interpreter": {
    "hash": "058bbb4884dca741715548dc8689daaa712f0bb17b4c8a018873ab55db552143"
   }
  }
 },
 "nbformat": 4,
 "nbformat_minor": 2
}
