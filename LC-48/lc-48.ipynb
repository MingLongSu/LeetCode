{
 "cells": [
  {
   "cell_type": "markdown",
   "metadata": {},
   "source": [
    "# LeetCode 48\n",
    "![lc-48](./assets/question.jpg)"
   ]
  },
  {
   "cell_type": "markdown",
   "metadata": {},
   "source": [
    "> Observations:\n",
    "> - n x n matrix\n",
    "> - Rotation of the matrix of 90 degress specifically"
   ]
  },
  {
   "cell_type": "markdown",
   "metadata": {},
   "source": [
    "![lc-48-ex1](./assets/ex1.jpg)"
   ]
  },
  {
   "cell_type": "markdown",
   "metadata": {},
   "source": [
    "> Notes:\n",
    "> - Note that 1 is at the (0, 0) position and moves to the (0, 2) position and the 2 is at (0, 2) and moves to the (1, 2) position\n",
    "> - The operation of the 90 degree on a 2D array is exhibits a similar behavior to that of a transpose on a matrix\n",
    "> - Moreover, it's a transpose on an n x n matrix that then has its columns reversed"
   ]
  },
  {
   "cell_type": "markdown",
   "metadata": {},
   "source": [
    "![lc-48-ex2](./assets/ex2.jpg)"
   ]
  },
  {
   "cell_type": "markdown",
   "metadata": {},
   "source": [
    "> Notes:\n",
    "> - Transpose algorithm will be simple as the values stored at the (i, j) indices will be swapped with values at the (j, i) indices\n",
    "> - Later realised: \n",
    ">   - i and j indices will recur, this causes the swapped values to be re-swapped, which defeats the purpose of a transpose\n",
    ">   - Let's consider the following example:\n",
    ">       - Suppose we swap values of matrix[0][1] with matrix[1][0]\n",
    ">       - Then when the iterators reach matrix[1][0], then matrix[1][0] will swap with matrix[0][1], so we make it so that swaps only occur when i < j, in this case, it only occurs for 0 < 1 since 1 < 0 is not true\n",
    "> - Column reversal algorithm may make use of two pointers (one on the left and right) that gradually converge with a nested for-loop to move through each row of the matrix. This means that we could set up the column reversal to where (l, j) indices will swap values with (r, j) indices until l >= r."
   ]
  },
  {
   "cell_type": "markdown",
   "metadata": {},
   "source": [
    "> ### Final Algorithm\n",
    "> - Two pieces of important information are given, the fact that the matrix is of n x n size, and the rotation is strictly 90 degrees\n",
    "> - Given the matrix, we transpose by the algorithm mentined above\n",
    "> - Then with the transpose matrix, we use the column reversal algorithm highlighted above\n",
    "> - With such, this should give the result of a 90 degree-rotated matrix"
   ]
  },
  {
   "cell_type": "markdown",
   "metadata": {},
   "source": [
    "## Initial Implementation"
   ]
  },
  {
   "cell_type": "code",
   "execution_count": 41,
   "metadata": {},
   "outputs": [],
   "source": [
    "class Solution:\n",
    "    def rotate(self, matrix) -> None:\n",
    "        # getting the transpose of the matrix\n",
    "        length = len(matrix)\n",
    "        for i in range(length):\n",
    "            for j in range(length):\n",
    "                if (i < j):\n",
    "                    matrix[i][j], matrix[j][i] = matrix[j][i], matrix[i][j]\n",
    "\n",
    "        # column reversal\n",
    "        l = 0\n",
    "        r = length - 1\n",
    "        while (l < r):\n",
    "            for i in range(length):\n",
    "                matrix[i][l], matrix[i][r] = matrix[i][r], matrix[i][l]\n",
    "            l = l + 1\n",
    "            r = r - 1"
   ]
  },
  {
   "cell_type": "code",
   "execution_count": 42,
   "metadata": {},
   "outputs": [
    {
     "name": "stdout",
     "output_type": "stream",
     "text": [
      "[[7, 4, 1], [8, 5, 2], [9, 6, 3]]\n"
     ]
    }
   ],
   "source": [
    "matrix_ex1 = [[1,2,3],[4,5,6],[7,8,9]]\n",
    "sol = Solution()\n",
    "sol.rotate(matrix_ex1)\n",
    "print(matrix_ex1)"
   ]
  },
  {
   "cell_type": "code",
   "execution_count": 43,
   "metadata": {},
   "outputs": [
    {
     "name": "stdout",
     "output_type": "stream",
     "text": [
      "[[15, 13, 2, 5], [14, 3, 4, 1], [12, 6, 8, 9], [16, 7, 10, 11]]\n"
     ]
    }
   ],
   "source": [
    "matrix_ex2 = [[5,1,9,11],[2,4,8,10],[13,3,6,7],[15,14,12,16]]\n",
    "sol = Solution()\n",
    "sol.rotate(matrix_ex2)\n",
    "print(matrix_ex2)"
   ]
  },
  {
   "cell_type": "markdown",
   "metadata": {},
   "source": [
    "> Additional Notes:\n",
    "> - The current implementation of the algorithm for the rotate image problem is designed to where each value of the matrix is actually accessed twice. This means although we can state that the algorithm is an O(M) algorithm, where M = N * N, it is technically O(2M) to increase the efficency of the algorithm, then we can consider iterator j to be j = i + 1. \n",
    ">   - This is because an j = i swap will do nothing, and we only want to swap when i < j\n",
    ">   - Hence the algorithm for transposing the image can be slightly altered to reach an O(M) time by changing the second for-loop to be for j in (i + 1, length)"
   ]
  }
 ],
 "metadata": {
  "kernelspec": {
   "display_name": "Python 3.9.5 64-bit",
   "language": "python",
   "name": "python3"
  },
  "language_info": {
   "codemirror_mode": {
    "name": "ipython",
    "version": 3
   },
   "file_extension": ".py",
   "mimetype": "text/x-python",
   "name": "python",
   "nbconvert_exporter": "python",
   "pygments_lexer": "ipython3",
   "version": "3.9.5"
  },
  "orig_nbformat": 4,
  "vscode": {
   "interpreter": {
    "hash": "058bbb4884dca741715548dc8689daaa712f0bb17b4c8a018873ab55db552143"
   }
  }
 },
 "nbformat": 4,
 "nbformat_minor": 2
}
