{
 "cells": [
  {
   "cell_type": "markdown",
   "metadata": {},
   "source": [
    "# LeetCode 167\n",
    "![lc-167](./assets/question.jpg)\n",
    "![lc-167](./assets/constraints.jpg)"
   ]
  },
  {
   "cell_type": "markdown",
   "metadata": {},
   "source": [
    "> Observations:\n",
    "> - Notice that, unlike 2-sum, this question is managed in such a way that the input array is sorted in non-decreasing order this time\n",
    "> - Tests are guaranteed to have exactly one solution\n",
    "> - There are at least two numbers in the array\n",
    "> - We cannot make use of an element at the same index twice\n",
    "> - The algorithm chosen must implement a O(1) space complexity solution"
   ]
  },
  {
   "cell_type": "markdown",
   "metadata": {},
   "source": [
    "![lc-167-ex1](./assets/ex1.jpg)\n",
    "![lc-167-ex2](./assets/ex2.jpg)\n",
    "![lc-167-ex3](./assets/ex3.jpg)"
   ]
  },
  {
   "cell_type": "markdown",
   "metadata": {},
   "source": [
    "> Notes:\n",
    "> - Take into consideration the equation a + b = t\n",
    "> - Notice also the equations a + b > t and a + b < t. In order to find a value for a and b, notice that we can rearrange these equations in the following way:\n",
    ">   - b > t - a and b < t - a\n",
    "> - Since there are always at least two elements in the numbers array, and we are summing to integers, then it may be good to consider the use of double pointers\n",
    "> - Suppose we leave the two pointers (left and right) on the extremes of the two sides of the array - which represent the smallest (left) and the largest (right) number\n",
    "> - Considering our equations, if we replace a and b with numbers[left] and numbers[right] respectively, then we may be able to make use of the rearranged equations as well\n",
    ">   - That is, if b > t - a = numbers[right] > t - numbers[left], then perhaps the number on the right is too large, and we should move the right pointer to the left\n",
    ">   - Similarly, if b < t - a = numbers[right] < t - numbers[left] = a < t - b = numbers[left] < t - numbers[right], then perhaps the number on the left is too small, and we should move it to the right\n",
    "> - Since we are guaranteed to have a solution, then by moving the pointers by one position each condition should result in eventually leading to the condition of b = t - a, or numbers[right] = t - numbers[left]\n",
    "> - By following this sort of idea derived from the mathematical relationships held in simple rearrangement of an addition statement, we can arrive at the solutions of each equatione example\n",
    ">   - For example 1, note that 9 - 2 = 7 < 15, so the right pointer on 15 will have to move down all the way to the 7 since 9 - 2 = 7 = numbers[right (eventually)]\n",
    ">   - For example 2, note that 6 - 2 = 4 = numbers[right], and so that would return an array of the indices\n",
    ">   - For example 3, s similar argument to that of example 2 may be used"
   ]
  },
  {
   "cell_type": "markdown",
   "metadata": {},
   "source": [
    "> ### Algorithm\n",
    "> - We will need to make use of two pointers, one on the left and another on the right of the array\n",
    "> - We then need to move the pointers till we generate a solution, but this will also occur while the left pointer is still less than the right pointer - as given by the problem introduction\n",
    "> - To move the pointers, we move the right pointer is numbers[right] > target - numbers[left] since this means that the amount we are adding by is too large to reach the desired sum\n",
    "> - We move the left pointer when numbers[right] < target - numbers[left] since this also means that numbers[left] < target - numbers[right], or in other words, the value at the left pointer is too small to sum to the target value\n",
    "> - But if target = numbers[left] + numbers[right], then we simply return an array of the left and right pointers [left, right]"
   ]
  }
 ],
 "metadata": {
  "kernelspec": {
   "display_name": "Python 3.9.5 64-bit",
   "language": "python",
   "name": "python3"
  },
  "language_info": {
   "name": "python",
   "version": "3.9.5"
  },
  "orig_nbformat": 4,
  "vscode": {
   "interpreter": {
    "hash": "058bbb4884dca741715548dc8689daaa712f0bb17b4c8a018873ab55db552143"
   }
  }
 },
 "nbformat": 4,
 "nbformat_minor": 2
}
