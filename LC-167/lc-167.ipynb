{
 "cells": [
  {
   "cell_type": "markdown",
   "metadata": {},
   "source": [
    "# LeetCode 167\n",
    "![lc-167](./assets/question.jpg)\n",
    "![lc-167](./assets/constraints.jpg)"
   ]
  },
  {
   "cell_type": "markdown",
   "metadata": {},
   "source": [
    "> Observations:\n",
    "> - Notice that, unlike 2-sum, this question is managed in such a way that the input array is sorted in non-decreasing order this time\n",
    "> - Tests are guaranteed to have exactly one solution\n",
    "> - There are at least two numbers in the array\n",
    "> - We cannot make use of an element at the same index twice\n",
    "> - The algorithm chosen must implement a O(1) space complexity solution"
   ]
  }
 ],
 "metadata": {
  "kernelspec": {
   "display_name": "Python 3.9.5 64-bit",
   "language": "python",
   "name": "python3"
  },
  "language_info": {
   "name": "python",
   "version": "3.9.5"
  },
  "orig_nbformat": 4,
  "vscode": {
   "interpreter": {
    "hash": "058bbb4884dca741715548dc8689daaa712f0bb17b4c8a018873ab55db552143"
   }
  }
 },
 "nbformat": 4,
 "nbformat_minor": 2
}
