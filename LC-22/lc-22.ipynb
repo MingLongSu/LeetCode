{
 "cells": [
  {
   "cell_type": "markdown",
   "metadata": {},
   "source": [
    "# LeetCode 22\n",
    "![lc-22](./assets/question.jpg)\n",
    "![lc-22](./assets/constraints.jpg)"
   ]
  },
  {
   "cell_type": "markdown",
   "metadata": {},
   "source": [
    "> Observations/Analysis:\n",
    "> - We aren't generating all possible combinations of parenthesis, but rather, all combinations of valid parenthesis pairs\n",
    "> - Something that might be important to keep track of is the count on the number of opening and closing braces used\n",
    "> - To find all possible combinations, something that could be attempted is recursion, but what might be the base cases? \n",
    "> - If also recursive, we could use a string to represent the parentheses combinations, but that would mean that we must also pass a string as a param? \n",
    "> - Oddly enough, the number of paranthesis pairs minimises at 1 and maximises at 8."
   ]
  },
  {
   "cell_type": "markdown",
   "metadata": {},
   "source": [
    "![lc-22-ex1](./assets/ex1.jpg)\n",
    "![lc-22-ex2](./assets/ex2.jpg)"
   ]
  },
  {
   "cell_type": "markdown",
   "metadata": {},
   "source": [
    "> Notes:\n",
    "> - Noticeably, since we are only finding all the VALID combinations of parentheses, that means it's entirely allowed to start with an opening parenthesis \"(\"\n",
    "> - That means when keeping track of the count on the opening parentheses, the number of opening parenthesis will initially be 1, while closing is initially 0\n",
    "> - Earlier, I proposed using a string, this would mean that we have to pass it as a parameter to the recursive function, is there a way to avoid this?\n",
    ">   - Actually, yes, we could just make use of a Stack so that our recursive function only keeps track of the count on # of opening and # of closing parentheses\n",
    ">   - We just need to pop off the most recently added parenthesis type after each iteration\n",
    "> - Since we are going with recursion, we need base cases:\n",
    ">   - if open == closing == n, then combinations.append(...), where open and closing are the # of opening and # of closing parenthesis, respectively. Moreover, combinations is just the valid results\n",
    ">   - if open < n, then we can recurse for when we add an opening parenthesis (increment open by 1) and recurse for when we add a closing parenthesis (increment closing by 1)\n",
    ">   - if closing < open, then add a closing parenthesis and increment closing by 1"
   ]
  },
  {
   "cell_type": "markdown",
   "metadata": {},
   "source": [
    "> ### Algorithm\n",
    "> - We need a list called \"combinations\" to store the results of the combinations\n",
    "> - We need a list called \"stack\" to behave as our stack data structure for building the combinations of brackets, and initialise it with a single opening brace since valid cannot start with closing\n",
    "> - Using a recursive function called \"build_combos,\" it takes in the number of opening braces and the number of closing braces presently in the stack\n",
    "> - As for base cases:\n",
    ">   - if open == close == n, then append that combo to \"combinations\" \n",
    ">   - if open < n then we add a open parenthesis and call recurse and then pop \n",
    ">       - Unlike in the notes earlier, we don't actually need to add a closing parenthesis because this could actually lead to situations like \"())\", which is undesired\n",
    ">   - if close < open, then add a closing parenthesis and increment closing by 1 (this is mainly to match up with any remaining opening braces that may be unmatched)\n",
    "> - Finally, we return the combinations"
   ]
  },
  {
   "cell_type": "markdown",
   "metadata": {},
   "source": [
    "## Implementation"
   ]
  },
  {
   "cell_type": "code",
   "execution_count": 7,
   "metadata": {},
   "outputs": [],
   "source": [
    "class Solution:\n",
    "    def generateParenthesis(self, n: int):\n",
    "        combinations = []\n",
    "        stack = ['(']\n",
    "        def build_combos(open, close):\n",
    "            if (open == close == n):\n",
    "                combinations.append(''.join(stack))\n",
    "            if (open < n):\n",
    "                stack.append('(')\n",
    "                build_combos(open + 1, close)\n",
    "                stack.pop()\n",
    "            if (close < open):\n",
    "                stack.append(')')\n",
    "                build_combos(open, close + 1)\n",
    "                stack.pop()\n",
    "        build_combos(1, 0)\n",
    "        return combinations"
   ]
  },
  {
   "cell_type": "code",
   "execution_count": 8,
   "metadata": {},
   "outputs": [
    {
     "name": "stdout",
     "output_type": "stream",
     "text": [
      "Ex 1:\n",
      " Result: ['((()))', '(()())', '(())()', '()(())', '()()()']\n",
      " Desire: [\"((()))\",\"(()())\",\"(())()\",\"()(())\",\"()()()\"]\n",
      "Ex 2:\n",
      " Result: ['()']\n",
      " Desire: [\"()\"]\n"
     ]
    }
   ],
   "source": [
    "sol = Solution()\n",
    "print('Ex 1:')\n",
    "print(' Result:', sol.generateParenthesis(3))\n",
    "print(' Desire: [\"((()))\",\"(()())\",\"(())()\",\"()(())\",\"()()()\"]')\n",
    "print('Ex 2:')\n",
    "print(' Result:', sol.generateParenthesis(1))\n",
    "print(' Desire: [\"()\"]')"
   ]
  },
  {
   "cell_type": "markdown",
   "metadata": {},
   "source": [
    "> ### Final Verdict\n",
    "> - Note that we can go almost two directions with each iterations, for example \"()()()\" as a valid string, this gives gives us O(2^2n) time complexity. As for space complexity, we make use of the stack O(2^2n) times in the worst case scenario. Hence a space complexity of O(2^2n)"
   ]
  }
 ],
 "metadata": {
  "kernelspec": {
   "display_name": "Python 3.9.5 64-bit",
   "language": "python",
   "name": "python3"
  },
  "language_info": {
   "codemirror_mode": {
    "name": "ipython",
    "version": 3
   },
   "file_extension": ".py",
   "mimetype": "text/x-python",
   "name": "python",
   "nbconvert_exporter": "python",
   "pygments_lexer": "ipython3",
   "version": "3.9.5"
  },
  "orig_nbformat": 4,
  "vscode": {
   "interpreter": {
    "hash": "058bbb4884dca741715548dc8689daaa712f0bb17b4c8a018873ab55db552143"
   }
  }
 },
 "nbformat": 4,
 "nbformat_minor": 2
}
