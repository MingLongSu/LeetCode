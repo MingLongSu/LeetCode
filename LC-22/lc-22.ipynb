{
 "cells": [
  {
   "cell_type": "markdown",
   "metadata": {},
   "source": [
    "# LeetCode 22\n",
    "![lc-22](./assets/question.jpg)\n",
    "![lc-22](./assets/constraints.jpg)"
   ]
  },
  {
   "cell_type": "markdown",
   "metadata": {},
   "source": [
    "> Observations/Analysis:\n",
    "> - We aren't generating all possible combinations of parenthesis, but rather, all combinations of valid parenthesis pairs\n",
    "> - Something that might be important to keep track of is the count on the number of opening and closing braces used\n",
    "> - To find all possible combinations, something that could be attempted is recursion, but what might be the base cases? \n",
    "> - If also recursive, we could use a string to represent the parentheses combinations, but that would mean that we must also pass a string as a param? \n",
    "> - Oddly enough, the number of paranthesis pairs minimises at 1 and maximises at 8."
   ]
  }
 ],
 "metadata": {
  "kernelspec": {
   "display_name": "Python 3.9.5 64-bit",
   "language": "python",
   "name": "python3"
  },
  "language_info": {
   "name": "python",
   "version": "3.9.5"
  },
  "orig_nbformat": 4,
  "vscode": {
   "interpreter": {
    "hash": "058bbb4884dca741715548dc8689daaa712f0bb17b4c8a018873ab55db552143"
   }
  }
 },
 "nbformat": 4,
 "nbformat_minor": 2
}
