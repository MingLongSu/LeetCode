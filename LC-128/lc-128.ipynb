{
 "cells": [
  {
   "cell_type": "markdown",
   "metadata": {},
   "source": [
    "# LeetCode 128\n",
    "![lc-128](./assets/question.jpg)\n",
    "![lc-128](./assets/constraints.jpg)"
   ]
  },
  {
   "cell_type": "markdown",
   "metadata": {},
   "source": [
    "> Observations:\n",
    "> - The length of the nums array could also be 0 in length - this here is an edge case and so if len(nums) == 0 then we should return 0 as the longest consequtive sequence length\n",
    "> - Note that we are immediately put under the pressure of developing a O(n) time solution, this means that sorting the otherwise unsorted array is not an option since that would require O(nlogn) time complexity where n is the length of nums\n",
    "> - But if we could, I would first put the numbers into a set, since longest CONSECUTIVE sequence will not have to concern itself with repeated digits\n",
    "> - Then have them get sorted, and traverse the array accumulating a count on the longest sequence thus far, and resetting such a counter to 1 once there is a break in the sequence\n",
    "> - Such a solution would be of O(nlogn + n) time complexity and O(n) space complexity - which is alright but not as efficient as it could be\n",
    "> - However, perhaps making use of a hashset would be beneficial as the lookup time complexity will be O(1) on average as opposed to searching an array in O(n) or O(logn) time"
   ]
  },
  {
   "cell_type": "markdown",
   "metadata": {},
   "source": [
    "![lc-128-ex1](./assets/ex1.jpg)\n",
    "![lc-128-ex2](./assets/ex2.jpg)"
   ]
  },
  {
   "cell_type": "markdown",
   "metadata": {},
   "source": [
    "> Notes:\n",
    "> - Suppose that we go forward with using a hashset, this clears the array nums of any repetition in its values so that we don't do any repetitive or unnecessary checking\n",
    "> - Note that we always want the longest consecutive sequence which means that we will for sure want to start at the beginning of a sequence before we begin counting\n",
    "> - Note that we should keep incrementing the count on the longest consecutive sequence while the next number in the sequence is present in the hashset\n",
    "> - Using that heuristic algorithm on example 2, the hashset will remove any repeated values: in this case, it will remove the extra 0\n",
    "> - Then traversing through the array nums, we check if nums[i] - 1 is in the hashset, if it is, then we know to skip since it is the start of the consecutive sequence that we want to start counting from\n",
    ">   - For example, in example 2, when checking 3, we notice that 2 is in the hashmap and therefore, we skip nums[i] = 3\n",
    "> - But, if nums[i] - 1 is not in the hashset, then we know that nums[i] is the start of the sequence so we make use of a counter to accumulate the amount of times that the next number in the sequence occurs, that is next_num = nums[i] + 1 at first\n",
    ">   - For example, in example 2, the number that has no preceding consecutive values would be 0, and thus we start counting from there\n",
    "> - We then return the max consecutive sequence length at the end; hence getting 9 as the result for example 2\n",
    "> - But does this break if we have multiple sequences? It will not, because any integer amount apart breaks continuity"
   ]
  },
  {
   "cell_type": "markdown",
   "metadata": {},
   "source": [
    "> ### Algorithm\n",
    "> - We first need to check whether nums is of length 0, if it is, then we return 0 (if we default longest to 0, then we will not even have to write this line of code in fact! (see solution))\n",
    "> - First convert nums to a hashset\n",
    "> - We need a variable to store the longest consecutive sequence thus far\n",
    "> - We need a variable to store the count on building sequences\n",
    "> - We need a variable to store the next number to check for (used in checking for the continuation of the sequence)\n",
    "> - We then need to traverse the hashset and check if nums[i] is the first value of a sequence by checking whether nums[i] - 1 is in the hashset, if it is, we skip to the next value\n",
    "> - But, if it's not, then we are sure that we have the first value of a potential sequence and we check whether the next value in that potential sequence exists in the hashset\n",
    ">   - if it is in, then we update the next value to check for, increment the count of the length of this consecutive sequence, and check if the record of the longest sequence can be updated\n",
    "> - Finally, we return the variable storing the longest consecutive sequence in the array nums"
   ]
  },
  {
   "cell_type": "code",
   "execution_count": 8,
   "metadata": {},
   "outputs": [],
   "source": [
    "class Solution:\n",
    "    def longestConsecutive(self, nums):\n",
    "        nums = set(nums)\n",
    "        longest, count, next_num = 0, 0, 0\n",
    "\n",
    "        for num in nums:\n",
    "            if (num - 1 in nums):\n",
    "                continue\n",
    "            count = 1\n",
    "            next_num = num + 1\n",
    "            longest = max(longest, count)\n",
    "            while (next_num in nums):\n",
    "                count += 1\n",
    "                next_num += 1\n",
    "                longest = max(longest, count)\n",
    "        return longest\n"
   ]
  },
  {
   "cell_type": "code",
   "execution_count": 9,
   "metadata": {},
   "outputs": [
    {
     "name": "stdout",
     "output_type": "stream",
     "text": [
      "Ex 1:\n",
      " Result: 4\n",
      " Desire: 4\n",
      "Ex 2:\n",
      " Result: 9\n",
      " Desire: 9\n"
     ]
    }
   ],
   "source": [
    "sol = Solution()\n",
    "print('Ex 1:')\n",
    "print(' Result:', sol.longestConsecutive(nums = [100,4,200,1,3,2]))\n",
    "print(' Desire: 4')\n",
    "print('Ex 2:')\n",
    "print(' Result:', sol.longestConsecutive(nums = [0,3,7,2,5,8,4,6,0,1]))\n",
    "print(' Desire: 9')"
   ]
  },
  {
   "cell_type": "markdown",
   "metadata": {},
   "source": [
    "> ### Final Verdict\n",
    "> - Note that, in the worst case scenario where all values are unique, we will traverse the array at most n times; where n is the length of nums. In addition, since we make use of a hashset, then checking whether a value is in the hashmap is on average O(1) time complexity. Therefore, we get an overall time complexity of O(n) as required\n",
    "> - In terms of space complexity, again, in the worst case scenario, all original values of nums is unique, hence we will have a hashset storing n items. We do not make use of any further data structures; and therefore, we have a space complexity of O(n) as well"
   ]
  }
 ],
 "metadata": {
  "kernelspec": {
   "display_name": "Python 3.9.5 64-bit",
   "language": "python",
   "name": "python3"
  },
  "language_info": {
   "codemirror_mode": {
    "name": "ipython",
    "version": 3
   },
   "file_extension": ".py",
   "mimetype": "text/x-python",
   "name": "python",
   "nbconvert_exporter": "python",
   "pygments_lexer": "ipython3",
   "version": "3.9.5"
  },
  "orig_nbformat": 4,
  "vscode": {
   "interpreter": {
    "hash": "058bbb4884dca741715548dc8689daaa712f0bb17b4c8a018873ab55db552143"
   }
  }
 },
 "nbformat": 4,
 "nbformat_minor": 2
}
