{
 "cells": [
  {
   "cell_type": "markdown",
   "metadata": {},
   "source": [
    "# LeetCode 128\n",
    "![lc-128](./assets/question.jpg)\n",
    "![lc-128](./assets/constraints.jpg)"
   ]
  },
  {
   "cell_type": "markdown",
   "metadata": {},
   "source": [
    "> Observations:\n",
    "> - The length of the nums array could also be 0 in length - this here is an edge case and so if len(nums) == 0 then we should return 0 as the longest consequtive sequence length\n",
    "> - Note that we are immediately put under the pressure of developing a O(n) time solution, this means that sorting the otherwise unsorted array is not an option since that would require O(nlogn) time complexity where n is the length of nums\n",
    "> - But if we could, I would first put the numbers into a set, since longest CONSECUTIVE sequence will not have to concern itself with repeated digits\n",
    "> - Then have them get sorted, and traverse the array accumulating a count on the longest sequence thus far, and resetting such a counter to 1 once there is a break in the sequence\n",
    "> - Such a solution would be of O(nlogn + n) time complexity and O(n) space complexity - which is alright but not as efficient as it could be\n",
    "> - However, perhaps making use of a hashset would be beneficial as the lookup time complexity will be O(1) on average as opposed to searching an array in O(n) or O(logn) time"
   ]
  }
 ],
 "metadata": {
  "kernelspec": {
   "display_name": "Python 3.9.5 64-bit",
   "language": "python",
   "name": "python3"
  },
  "language_info": {
   "name": "python",
   "version": "3.9.5"
  },
  "orig_nbformat": 4,
  "vscode": {
   "interpreter": {
    "hash": "058bbb4884dca741715548dc8689daaa712f0bb17b4c8a018873ab55db552143"
   }
  }
 },
 "nbformat": 4,
 "nbformat_minor": 2
}
