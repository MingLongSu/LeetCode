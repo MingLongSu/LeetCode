{
 "cells": [
  {
   "cell_type": "markdown",
   "metadata": {},
   "source": [
    "# LeetCode 100\n",
    "![lc-100](./assets/question.jpg)\n",
    "![lc-100](./assets/constraints.jpg)"
   ]
  },
  {
   "cell_type": "markdown",
   "metadata": {},
   "source": [
    "> Observations:\n",
    "> - Note that we are to check whether two trees p and q are the same\n",
    "> - Since both p and q are binary trees, there are only two directions to explore in order to validate the tree; those being the root of the trees left and right sides\n",
    "> - Note that the number of nodes can range between 0-100 inclusive; one assumption to make is that an empty tree is passed as undefined\n",
    "> - Note that when we traverse the tree, the left and right of the parent node becomes the parent node at each iteration\n",
    "> - When is a tree the same? Well, when all nodes are matching - but when do all the nodes match, they all match if every iteration reaches undefined at the same time\n",
    "> - As edge cases, note that if node reaches undefined before another, then they are not identical trees\n",
    "> - Similarly, if the values are different for a node between p and q, then p and q are also not identical trees"
   ]
  },
  {
   "cell_type": "markdown",
   "metadata": {},
   "source": [
    "![lc-100-ex1](./assets/ex1.jpg)\n",
    "![lc-100-ex2](./assets/ex2.jpg)\n",
    "![lc-100-ex3](./assets/ex3.jpg)"
   ]
  },
  {
   "cell_type": "markdown",
   "metadata": {},
   "source": [
    "> Notes:\n",
    "> - For example 1, note the following steps:\n",
    ">   - We first check the roots of p and q -> note that the roots of p and q are both defined, and the values at the roots of p and q are the same: therefore, we move onto the left and right nodes\n",
    ">   - For the left nodes of p and q, note that p and q are defined and the values are the same once more: therefore, we now check the right node - if we move further to the left and right nodes of this current left node, then we run into double undefines, which mark the end of the tree, and therefore, we know this side of the tree is also matching\n",
    ">   - For the right nodes of p and q, note that, again, the values are the same: therefore, we move to the left and rights nodes of these right nodes, and notice that they are both undefined: therefore, both the right sides of the original p and q must also be matching \n",
    "> - For example 2, following a similar path that was utilised in the first example, notice that the left side of one tree is undefined while the left side of another tree is defined, this means that the two trees do not match, and should therefore return False\n",
    "> - For example 3, note that some values on the left and right trees do not match, and therefore, makes both p and q also not identical"
   ]
  }
 ],
 "metadata": {
  "kernelspec": {
   "display_name": "Python 3.9.5 64-bit",
   "language": "python",
   "name": "python3"
  },
  "language_info": {
   "name": "python",
   "version": "3.9.5"
  },
  "orig_nbformat": 4,
  "vscode": {
   "interpreter": {
    "hash": "058bbb4884dca741715548dc8689daaa712f0bb17b4c8a018873ab55db552143"
   }
  }
 },
 "nbformat": 4,
 "nbformat_minor": 2
}
