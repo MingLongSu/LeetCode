{
 "cells": [
  {
   "cell_type": "markdown",
   "metadata": {},
   "source": [
    "# LeetCode 100\n",
    "![lc-100](./assets/question.jpg)\n",
    "![lc-100](./assets/constraints.jpg)"
   ]
  },
  {
   "cell_type": "markdown",
   "metadata": {},
   "source": [
    "> Observations:\n",
    "> - Note that we are to check whether two trees p and q are the same\n",
    "> - Since both p and q are binary trees, there are only two directions to explore in order to validate the tree; those being the root of the trees left and right sides\n",
    "> - Note that the number of nodes can range between 0-100 inclusive; one assumption to make is that an empty tree is passed as undefined\n",
    "> - Note that when we traverse the tree, the left and right of the parent node becomes the parent node at each iteration\n",
    "> - When is a tree the same? Well, when all nodes are matching - but when do all the nodes match, they all match if every iteration reaches undefined at the same time\n",
    "> - As edge cases, note that if node reaches undefined before another, then they are not identical trees\n",
    "> - Similarly, if the values are different for a node between p and q, then p and q are also not identical trees"
   ]
  },
  {
   "cell_type": "markdown",
   "metadata": {},
   "source": [
    "![lc-100-ex1](./assets/ex1.jpg)\n",
    "![lc-100-ex2](./assets/ex2.jpg)\n",
    "![lc-100-ex3](./assets/ex3.jpg)"
   ]
  },
  {
   "cell_type": "markdown",
   "metadata": {},
   "source": [
    "> Notes:\n",
    "> - For example 1, note the following steps:\n",
    ">   - We first check the roots of p and q -> note that the roots of p and q are both defined, and the values at the roots of p and q are the same: therefore, we move onto the left and right nodes\n",
    ">   - For the left nodes of p and q, note that p and q are defined and the values are the same once more: therefore, we now check the right node - if we move further to the left and right nodes of this current left node, then we run into double undefines, which mark the end of the tree, and therefore, we know this side of the tree is also matching\n",
    ">   - For the right nodes of p and q, note that, again, the values are the same: therefore, we move to the left and rights nodes of these right nodes, and notice that they are both undefined: therefore, both the right sides of the original p and q must also be matching \n",
    "> - For example 2, following a similar path that was utilised in the first example, notice that the left side of one tree is undefined while the left side of another tree is defined, this means that the two trees do not match, and should therefore return False\n",
    "> - For example 3, note that some values on the left and right trees do not match, and therefore, makes both p and q also not identical"
   ]
  },
  {
   "cell_type": "markdown",
   "metadata": {},
   "source": [
    "> ### Algorithm\n",
    "> - Since we are traversing binary trees, perhaps a more intuitive way of understanding the problem is to make use of recursion\n",
    "> - We will have the following base cases: \n",
    ">   - First, we will check whether both p and q are defined, if are both not defined, then we return True - since it marks that both trees end on the same node for a particular node\n",
    ">   - Second, we check whether one is defined while the other is not, because this will determine whether they are structurally the same\n",
    ">   - Third, we will then check whether their values are both the same, if not, then return False\n",
    "> - We then explore both the left and right nodes; while storing the results of recursively accessing each and every left and right node in left and right variables, respectively\n",
    "> - Then return the results of checking left and right"
   ]
  },
  {
   "cell_type": "code",
   "execution_count": 3,
   "metadata": {},
   "outputs": [],
   "source": [
    "# Definition for a binary tree node.\n",
    "# class TreeNode:\n",
    "#     def __init__(self, val=0, left=None, right=None):\n",
    "#         self.val = val\n",
    "#         self.left = left\n",
    "#         self.right = right\n",
    "class Solution:\n",
    "    def isSameTree(self, p, q) -> bool:\n",
    "        if ((not p and q) or (p and not q) or (p and q and p.val != q.val)):\n",
    "            return False\n",
    "        if (not p and not q):\n",
    "            return True\n",
    "        left = self.isSameTree(p.left, q.left)\n",
    "        right = self.isSameTree(p.right, q.right)\n",
    "        return left and right"
   ]
  },
  {
   "cell_type": "markdown",
   "metadata": {},
   "source": [
    "> ### Final Verdict\n",
    "> - Note that, in all cases, in order to check whether p and q are the same trees, we must check the entire height of the shortest of the two given trees; p and q. That is, the time complexity of this algorithm is O(min(P, Q)) where P and Q are the heights of the trees, p and q\n",
    "> - Note that, for space complexity, since we make use of a recursive stack, the space complexity is O(min(P, Q)) where P and Q are the heights of the trees p and q"
   ]
  }
 ],
 "metadata": {
  "kernelspec": {
   "display_name": "Python 3.9.5 64-bit",
   "language": "python",
   "name": "python3"
  },
  "language_info": {
   "codemirror_mode": {
    "name": "ipython",
    "version": 3
   },
   "file_extension": ".py",
   "mimetype": "text/x-python",
   "name": "python",
   "nbconvert_exporter": "python",
   "pygments_lexer": "ipython3",
   "version": "3.9.5"
  },
  "orig_nbformat": 4,
  "vscode": {
   "interpreter": {
    "hash": "058bbb4884dca741715548dc8689daaa712f0bb17b4c8a018873ab55db552143"
   }
  }
 },
 "nbformat": 4,
 "nbformat_minor": 2
}
