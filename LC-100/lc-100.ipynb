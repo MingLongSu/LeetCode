{
 "cells": [
  {
   "cell_type": "markdown",
   "metadata": {},
   "source": [
    "# LeetCode 100\n",
    "![lc-100](./assets/question.jpg)\n",
    "![lc-100](./assets/constraints.jpg)"
   ]
  },
  {
   "cell_type": "markdown",
   "metadata": {},
   "source": [
    "> Observations:\n",
    "> - Note that we are to check whether two trees p and q are the same\n",
    "> - Since both p and q are binary trees, there are only two directions to explore in order to validate the tree; those being the root of the trees left and right sides\n",
    "> - Note that the number of nodes can range between 0-100 inclusive; one assumption to make is that an empty tree is passed as undefined\n",
    "> - Note that when we traverse the tree, the left and right of the parent node becomes the parent node at each iteration\n",
    "> - When is a tree the same? Well, when all nodes are matching - but when do all the nodes match, they all match if every iteration reaches undefined at the same time\n",
    "> - As edge cases, note that if node reaches undefined before another, then they are not identical trees\n",
    "> - Similarly, if the values are different for a node between p and q, then p and q are also not identical trees"
   ]
  }
 ],
 "metadata": {
  "kernelspec": {
   "display_name": "Python 3.9.5 64-bit",
   "language": "python",
   "name": "python3"
  },
  "language_info": {
   "name": "python",
   "version": "3.9.5"
  },
  "orig_nbformat": 4,
  "vscode": {
   "interpreter": {
    "hash": "058bbb4884dca741715548dc8689daaa712f0bb17b4c8a018873ab55db552143"
   }
  }
 },
 "nbformat": 4,
 "nbformat_minor": 2
}
