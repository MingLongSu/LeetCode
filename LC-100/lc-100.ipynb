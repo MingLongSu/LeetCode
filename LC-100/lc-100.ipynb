{
 "cells": [
  {
   "cell_type": "markdown",
   "metadata": {},
   "source": [
    "# LeetCode 100\n",
    "![lc-100](./assets/question.jpg)\n",
    "![lc-100](./assets/constraints.jpg)"
   ]
  },
  {
   "cell_type": "markdown",
   "metadata": {},
   "source": [
    "> Observations:\n",
    "> - Note that we are to check whether two trees p and q are the same\n",
    "> - Since both p and q are binary trees, there are only two directions to explore in order to validate the tree; those being the root of the trees left and right sides\n",
    "> - Note that the number of nodes can range between 0-100 inclusive; one assumption to make is that an empty tree is passed as undefined\n",
    "> - Note that when we traverse the tree, the left and right of the parent node becomes the parent node at each iteration\n",
    "> - When is a tree the same? Well, when all nodes are matching - but when do all the nodes match, they all match if every iteration reaches undefined at the same time\n",
    "> - As edge cases, note that if node reaches undefined before another, then they are not identical trees\n",
    "> - Similarly, if the values are different for a node between p and q, then p and q are also not identical trees"
   ]
  },
  {
   "cell_type": "markdown",
   "metadata": {},
   "source": [
    "![lc-100-ex1](./assets/ex1.jpg)\n",
    "![lc-100-ex2](./assets/ex2.jpg)\n",
    "![lc-100-ex3](./assets/ex3.jpg)"
   ]
  },
  {
   "cell_type": "markdown",
   "metadata": {},
   "source": [
    "> Notes:\n",
    "> - For example 1, note the following steps:\n",
    ">   - We first check the roots of p and q -> note that the roots of p and q are both defined, and the values at the roots of p and q are the same: therefore, we move onto the left and right nodes\n",
    ">   - For the left nodes of p and q, note that p and q are defined and the values are the same once more: therefore, we now check the right node - if we move further to the left and right nodes of this current left node, then we run into double undefines, which mark the end of the tree, and therefore, we know this side of the tree is also matching\n",
    ">   - For the right nodes of p and q, note that, again, the values are the same: therefore, we move to the left and rights nodes of these right nodes, and notice that they are both undefined: therefore, both the right sides of the original p and q must also be matching \n",
    "> - For example 2, following a similar path that was utilised in the first example, notice that the left side of one tree is undefined while the left side of another tree is defined, this means that the two trees do not match, and should therefore return False\n",
    "> - For example 3, note that some values on the left and right trees do not match, and therefore, makes both p and q also not identical"
   ]
  },
  {
   "cell_type": "markdown",
   "metadata": {},
   "source": [
    "> ### Algorithm\n",
    "> - Since we are traversing binary trees, perhaps a more intuitive way of understanding the problem is to make use of recursion\n",
    "> - We will have the following base cases: \n",
    ">   - First, we will check whether both p and q are defined, if are both not defined, then we return True - since it marks that both trees end on the same node for a particular node\n",
    ">   - Second, we check whether one is defined while the other is not, because this will determine whether they are structurally the same\n",
    ">   - Third, we will then check whether their values are both the same, if not, then return False\n",
    "> - We then explore both the left and right nodes; while storing the results of recursively accessing each and every left and right node in left and right variables, respectively\n",
    "> - Then return the results of checking left and right"
   ]
  },
  {
   "cell_type": "code",
   "execution_count": 3,
   "metadata": {},
   "outputs": [],
   "source": [
    "# Definition for a binary tree node.\n",
    "# class TreeNode:\n",
    "#     def __init__(self, val=0, left=None, right=None):\n",
    "#         self.val = val\n",
    "#         self.left = left\n",
    "#         self.right = right\n",
    "class Solution:\n",
    "    def isSameTree(self, p, q) -> bool:\n",
    "        if ((not p and q) or (p and not q) or (p and q and p.val != q.val)):\n",
    "            return False\n",
    "        if (not p and not q):\n",
    "            return True\n",
    "        left = self.isSameTree(p.left, q.left)\n",
    "        right = self.isSameTree(p.right, q.right)\n",
    "        return left and right"
   ]
  },
  {
   "cell_type": "code",
   "execution_count": 2,
   "metadata": {},
   "outputs": [
    {
     "name": "stdout",
     "output_type": "stream",
     "text": [
      "Ex 1:\n"
     ]
    },
    {
     "ename": "AttributeError",
     "evalue": "'list' object has no attribute 'val'",
     "output_type": "error",
     "traceback": [
      "\u001b[1;31m---------------------------------------------------------------------------\u001b[0m",
      "\u001b[1;31mAttributeError\u001b[0m                            Traceback (most recent call last)",
      "\u001b[1;32mc:\\Users\\banan\\Desktop\\LeetCode\\LC-100\\lc-100.ipynb Cell 7\u001b[0m in \u001b[0;36m<cell line: 3>\u001b[1;34m()\u001b[0m\n\u001b[0;32m      <a href='vscode-notebook-cell:/c%3A/Users/banan/Desktop/LeetCode/LC-100/lc-100.ipynb#W6sZmlsZQ%3D%3D?line=0'>1</a>\u001b[0m sol \u001b[39m=\u001b[39m Solution()\n\u001b[0;32m      <a href='vscode-notebook-cell:/c%3A/Users/banan/Desktop/LeetCode/LC-100/lc-100.ipynb#W6sZmlsZQ%3D%3D?line=1'>2</a>\u001b[0m \u001b[39mprint\u001b[39m(\u001b[39m'\u001b[39m\u001b[39mEx 1:\u001b[39m\u001b[39m'\u001b[39m)\n\u001b[1;32m----> <a href='vscode-notebook-cell:/c%3A/Users/banan/Desktop/LeetCode/LC-100/lc-100.ipynb#W6sZmlsZQ%3D%3D?line=2'>3</a>\u001b[0m \u001b[39mprint\u001b[39m(\u001b[39m'\u001b[39m\u001b[39m Result:\u001b[39m\u001b[39m'\u001b[39m, sol\u001b[39m.\u001b[39;49misSameTree(p \u001b[39m=\u001b[39;49m [\u001b[39m1\u001b[39;49m,\u001b[39m2\u001b[39;49m,\u001b[39m3\u001b[39;49m], q \u001b[39m=\u001b[39;49m [\u001b[39m1\u001b[39;49m,\u001b[39m2\u001b[39;49m,\u001b[39m3\u001b[39;49m]))\n\u001b[0;32m      <a href='vscode-notebook-cell:/c%3A/Users/banan/Desktop/LeetCode/LC-100/lc-100.ipynb#W6sZmlsZQ%3D%3D?line=3'>4</a>\u001b[0m \u001b[39mprint\u001b[39m(\u001b[39m'\u001b[39m\u001b[39m Desire: true\u001b[39m\u001b[39m'\u001b[39m)\n\u001b[0;32m      <a href='vscode-notebook-cell:/c%3A/Users/banan/Desktop/LeetCode/LC-100/lc-100.ipynb#W6sZmlsZQ%3D%3D?line=4'>5</a>\u001b[0m \u001b[39mprint\u001b[39m(\u001b[39m'\u001b[39m\u001b[39mEx 2:\u001b[39m\u001b[39m'\u001b[39m)\n",
      "\u001b[1;32mc:\\Users\\banan\\Desktop\\LeetCode\\LC-100\\lc-100.ipynb Cell 7\u001b[0m in \u001b[0;36mSolution.isSameTree\u001b[1;34m(self, p, q)\u001b[0m\n\u001b[0;32m      <a href='vscode-notebook-cell:/c%3A/Users/banan/Desktop/LeetCode/LC-100/lc-100.ipynb#W6sZmlsZQ%3D%3D?line=7'>8</a>\u001b[0m \u001b[39mdef\u001b[39;00m \u001b[39misSameTree\u001b[39m(\u001b[39mself\u001b[39m, p, q) \u001b[39m-\u001b[39m\u001b[39m>\u001b[39m \u001b[39mbool\u001b[39m:\n\u001b[1;32m----> <a href='vscode-notebook-cell:/c%3A/Users/banan/Desktop/LeetCode/LC-100/lc-100.ipynb#W6sZmlsZQ%3D%3D?line=8'>9</a>\u001b[0m     \u001b[39mif\u001b[39;00m ((\u001b[39mnot\u001b[39;00m p \u001b[39mand\u001b[39;00m q) \u001b[39mor\u001b[39;00m (q \u001b[39mand\u001b[39;00m \u001b[39mnot\u001b[39;00m p) \u001b[39mor\u001b[39;00m (p \u001b[39mand\u001b[39;00m q \u001b[39mand\u001b[39;00m p\u001b[39m.\u001b[39;49mval \u001b[39m!=\u001b[39m q\u001b[39m.\u001b[39mval)):\n\u001b[0;32m     <a href='vscode-notebook-cell:/c%3A/Users/banan/Desktop/LeetCode/LC-100/lc-100.ipynb#W6sZmlsZQ%3D%3D?line=9'>10</a>\u001b[0m         \u001b[39mreturn\u001b[39;00m \u001b[39mFalse\u001b[39;00m\n\u001b[0;32m     <a href='vscode-notebook-cell:/c%3A/Users/banan/Desktop/LeetCode/LC-100/lc-100.ipynb#W6sZmlsZQ%3D%3D?line=10'>11</a>\u001b[0m     \u001b[39mif\u001b[39;00m (\u001b[39mnot\u001b[39;00m p \u001b[39mand\u001b[39;00m \u001b[39mnot\u001b[39;00m q):\n",
      "\u001b[1;31mAttributeError\u001b[0m: 'list' object has no attribute 'val'"
     ]
    }
   ],
   "source": [
    "sol = Solution()\n",
    "print('Ex 1:')\n",
    "print(' Result:', sol.isSameTree(p = [1,2,3], q = [1,2,3]))\n",
    "print(' Desire: true')\n",
    "print('Ex 2:')\n",
    "print(' Result:', sol.isSameTree(p = [1,2], q = [1,None,2]))\n",
    "print(' Desire: false')\n",
    "print('Ex 3:')\n",
    "print(' Result:', sol.isSameTree(p = [1,2,1], q = [1,1,2]))\n",
    "print(' Desire: false')"
   ]
  },
  {
   "cell_type": "markdown",
   "metadata": {},
   "source": [
    "> ### Final Verdict\n",
    "> - Note that, in all cases, in order to check whether p and q are the same trees, we must check the entire height of the shortest of the two given trees; p and q. That is, the time complexity of this algorithm is O(min(P, Q)) where P and Q are the heights of the trees, p and q\n",
    "> - Note that, for space complexity, since we make use of a recursive stack, the space complexity is O(min(P, Q)) where P and Q are the heights of the trees p and q"
   ]
  }
 ],
 "metadata": {
  "kernelspec": {
   "display_name": "Python 3.9.5 64-bit",
   "language": "python",
   "name": "python3"
  },
  "language_info": {
   "codemirror_mode": {
    "name": "ipython",
    "version": 3
   },
   "file_extension": ".py",
   "mimetype": "text/x-python",
   "name": "python",
   "nbconvert_exporter": "python",
   "pygments_lexer": "ipython3",
   "version": "3.9.5"
  },
  "orig_nbformat": 4,
  "vscode": {
   "interpreter": {
    "hash": "058bbb4884dca741715548dc8689daaa712f0bb17b4c8a018873ab55db552143"
   }
  }
 },
 "nbformat": 4,
 "nbformat_minor": 2
}
