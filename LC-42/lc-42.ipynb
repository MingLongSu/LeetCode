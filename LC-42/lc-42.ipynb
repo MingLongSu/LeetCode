{
 "cells": [
  {
   "cell_type": "markdown",
   "metadata": {},
   "source": [
    "# LeetCode 42\n",
    "![lc-42](./assets/question.jpg)\n",
    "![lc-42](./assets/constraints.jpg)"
   ]
  },
  {
   "cell_type": "markdown",
   "metadata": {},
   "source": [
    "> Observations:\n",
    "> - The landscape (height list) will be at least of length 1\n",
    "> - Each bar is of width 1, so a singular block is a 1 x 1 and gives 1 unit of rain"
   ]
  },
  {
   "cell_type": "markdown",
   "metadata": {},
   "source": [
    "![lc-42-ex1](./assets/ex1.jpg)\n",
    "![lc-42-ex2](./assets/ex2.jpg)"
   ]
  },
  {
   "cell_type": "markdown",
   "metadata": {},
   "source": [
    "> Notes:\n",
    "> - Rain water is only trapped between blocks where the height[i] is less than the minium height between height[l] and height[r], where l and r are the left and right boundaries\n",
    "> - In addition, the amount of water that can be trapped is precisely the min(height[l], height[r]) - height[i]\n",
    "> - Since we are given the elevation map array, we can establish a min-height list to then subtract the given elevation map list from and then sum all remaining values to acquire the units of trapped rain water\n",
    "> - Using ex1, a potential algorithm may work out like this:\n",
    ">   - We need two variables to store the max height on the left \"max_height_left\" and the max height on the right \"max_height_right\": initialised to 0\n",
    ">   - We need two lists; one for the max height captured so far at each index from the left, and another from the right\n",
    ">   - With a for loop, one iterator accesses the i = 0 element and moves right while another iterator accesses the i = len(height) - 1 element and moves left\n",
    ">   - Then we reuse one of the lists to find the min values at each index between the lists\n",
    ">   - Then resuse the array again to calculate the amount of trapped rain water at each index, and then sum all values in the list to get the total amount of trapped rain water"
   ]
  }
 ],
 "metadata": {
  "kernelspec": {
   "display_name": "Python 3.9.5 64-bit",
   "language": "python",
   "name": "python3"
  },
  "language_info": {
   "codemirror_mode": {
    "name": "ipython",
    "version": 3
   },
   "file_extension": ".py",
   "mimetype": "text/x-python",
   "name": "python",
   "nbconvert_exporter": "python",
   "pygments_lexer": "ipython3",
   "version": "3.9.5"
  },
  "orig_nbformat": 4,
  "vscode": {
   "interpreter": {
    "hash": "058bbb4884dca741715548dc8689daaa712f0bb17b4c8a018873ab55db552143"
   }
  }
 },
 "nbformat": 4,
 "nbformat_minor": 2
}
