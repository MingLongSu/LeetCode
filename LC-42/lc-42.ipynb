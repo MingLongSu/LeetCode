{
 "cells": [
  {
   "cell_type": "markdown",
   "metadata": {},
   "source": [
    "# LeetCode 42\n",
    "![lc-42](./assets/question.jpg)\n",
    "![lc-42](./assets/constraints.jpg)"
   ]
  },
  {
   "cell_type": "markdown",
   "metadata": {},
   "source": [
    "> Observations:\n",
    "> - The landscape (height list) will be at least of length 1\n",
    "> - Each bar is of width 1, so a singular block is a 1 x 1 and gives 1 unit of rain"
   ]
  },
  {
   "cell_type": "markdown",
   "metadata": {},
   "source": [
    "![lc-42-ex1](./assets/ex1.jpg)\n",
    "![lc-42-ex2](./assets/ex2.jpg)"
   ]
  },
  {
   "cell_type": "markdown",
   "metadata": {},
   "source": [
    "> Notes:\n",
    "> - Rain water is only trapped between blocks where the height[i] is less than the minium height between height[l] and height[r], where l and r are the left and right boundaries\n",
    "> - In addition, the amount of water that can be trapped is precisely the min(height[l], height[r]) - height[i]\n",
    "> - Since we are given the elevation map array, we can establish a min-height list to then subtract the given elevation map list from and then sum all remaining values to acquire the units of trapped rain water\n",
    "> - Using ex1, a potential algorithm may work out like this:\n",
    ">   - We need two variables to store the max height on the left \"max_height_left\" and the max height on the right \"max_height_right\": initialised to 0\n",
    ">   - We need two lists; one for the max height captured so far at each index from the left, and another from the right\n",
    ">   - With a for loop, one iterator accesses the i = 0 element and moves right while another iterator accesses the i = len(height) - 1 element and moves left\n",
    ">   - Then we reuse one of the lists to find the min values at each index between the lists\n",
    ">   - Then resuse the array again to calculate the amount of trapped rain water at each index, and then sum all values in the list to get the total amount of trapped rain water"
   ]
  },
  {
   "cell_type": "markdown",
   "metadata": {},
   "source": [
    "> Additional Notes:\n",
    "> - Noticeably, we make use of a lot of lists and traverse lists of the same length as the height list on multiplie ocassions. This gives us both time and space complexities that are technically O(a * n) and O(b * n), where a and b are integers indicating the number of times we traverse the lists and the amount of lists we utilise, respectively. Although it mmay be difficult to reduce the time complexity to anything less than that of an O(n) solution, where n is the length of the list, height. It should be possible to reduce the space complexity of the algorithm. "
   ]
  },
  {
   "cell_type": "markdown",
   "metadata": {},
   "source": [
    "### Algorithm\n",
    "> - We need a variable to store the units of water trapped \"trapped_water\", which is initialised to 0\n",
    "> - We intialise two variables max_height_left = height[0] and max_height_right = height[len(height) - 1]\n",
    "> - We create two pointers, l and r where l = left pointer = 0 and r = right pointer = len(height) - 1\n",
    "> - Depending on which is smaller, we compute the amount of water trapped on the smaller pointer's side\n",
    "> - We get the min between left and right max values since we established earlier that water can only get trapped between two taller elevations while maxing its trapped water height at the minimum of the elevations. \n",
    "> - Using the min, we then take the count of trapped water such that trapped_water += max(0, min - height[i])\n",
    "> - Afterwards, we make an attempt at updating the max values where max_height_left, max_height_right = max(max_height_left, height[l]), max(max_height_right, height[r])\n",
    "> - Then move one of the pointers based on which one holds the smaller max value "
   ]
  },
  {
   "cell_type": "markdown",
   "metadata": {},
   "source": [
    "## Implementation"
   ]
  },
  {
   "cell_type": "code",
   "execution_count": 23,
   "metadata": {},
   "outputs": [],
   "source": [
    "class Solution:\n",
    "    def trap(self, height):\n",
    "        trapped_water = 0\n",
    "        l = 0\n",
    "        r = len(height) - 1\n",
    "        max_height_left = height[l]\n",
    "        max_height_right = height[r]\n",
    "        \n",
    "        while l < r: \n",
    "            min_height = min(max_height_left, max_height_right)\n",
    "            if (max_height_left <= max_height_right):\n",
    "                trapped_water += max(0, min_height - height[l])\n",
    "                l += 1\n",
    "                max_height_left = max(height[l], max_height_left)\n",
    "            else:\n",
    "                trapped_water += max(0, min_height - height[r])\n",
    "                r -= 1\n",
    "                max_height_right = max(height[r], max_height_right)\n",
    "        \n",
    "        return trapped_water"
   ]
  },
  {
   "cell_type": "code",
   "execution_count": 22,
   "metadata": {},
   "outputs": [
    {
     "name": "stdout",
     "output_type": "stream",
     "text": [
      "Result Ex1:  6\n",
      "Result Ex2:  9\n"
     ]
    }
   ],
   "source": [
    "sol = Solution()\n",
    "print(\"Result Ex1: \", sol.trap([0,1,0,2,1,0,1,3,2,1,2,1]))\n",
    "print(\"Result Ex2: \", sol.trap([4,2,0,3,2,5]))"
   ]
  },
  {
   "cell_type": "markdown",
   "metadata": {},
   "source": [
    "> ### Final Verdict\n",
    "> - Note that we iterate through the elevation map values once, this delivers a time complexity of O(n), where n is the length of the elevation map list. As for space complexity, since we do not make use of any data structures for this particular solution, it has a space complexity of O(1)."
   ]
  }
 ],
 "metadata": {
  "kernelspec": {
   "display_name": "Python 3.9.5 64-bit",
   "language": "python",
   "name": "python3"
  },
  "language_info": {
   "codemirror_mode": {
    "name": "ipython",
    "version": 3
   },
   "file_extension": ".py",
   "mimetype": "text/x-python",
   "name": "python",
   "nbconvert_exporter": "python",
   "pygments_lexer": "ipython3",
   "version": "3.9.5"
  },
  "orig_nbformat": 4,
  "vscode": {
   "interpreter": {
    "hash": "058bbb4884dca741715548dc8689daaa712f0bb17b4c8a018873ab55db552143"
   }
  }
 },
 "nbformat": 4,
 "nbformat_minor": 2
}
