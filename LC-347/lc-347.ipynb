{
 "cells": [
  {
   "cell_type": "markdown",
   "metadata": {},
   "source": [
    "# LeetCode 347\n",
    "![lc-347](./assets/question.jpg)\n",
    "![lc-347](./assets/constraints.jpg)"
   ]
  },
  {
   "cell_type": "markdown",
   "metadata": {},
   "source": [
    "> Observations:\n",
    "> - As the title of the question suggests, we are trying to return the k largest elements given from a list\n",
    "> - Notice that they may be returned in any order, for example, if we had nums = [1, 1, 2, 2] and k = 2 then ans = [1, 2] and ans = [2, 1] are both valid\n",
    "> - Note that k will always be at least 1 and at max the number of unique numbers in nums\n",
    "> - As a follow up, can we achieve a time complexity greater than O(n log n). Of course, but this can only be done without using sorting or a maxbag/maxheap data structure as such would be O(n log n)\n",
    "> - Since we need to keep track of the frequency of each number, perhaps we make use of a hashmap for such:\n",
    ">   - key-value pairs where key is the number and the value is its frequency\n",
    "> - Notice that the frequency of a number in the given array can never exceed the size of the array itself, creatively, perhaps we could make use of this fact and use their frequencies as indices to simulate a sorted array of numbers based on frequency\n",
    ">   - Of course, this would mean that highest frequency numbers will occur at the end of such an array\n",
    ">   - So we need to start from the end of the array and append such values to a new array for the results and if the length of results ever equals k, then we should return the resulting results array"
   ]
  },
  {
   "cell_type": "markdown",
   "metadata": {},
   "source": [
    "![lc-347-ex1](./assets/ex1.jpg)\n",
    "![lc-347-ex2](./assets/ex2.jpg)"
   ]
  },
  {
   "cell_type": "markdown",
   "metadata": {},
   "source": [
    "> Notes:\n",
    "> - Using the idea of a hashmap, we would get all the frequencies of each number in nums\n",
    "> - Then by mapping numbers to an array by using their frequencies as indices, we can store the numbers themselves\n",
    "> - Then starting from the very right of such an array, we move left to add any numbers till the length of the results array equals k\n",
    "> - With this sort of heuristic algorithm, we can get the outputs for ex1 and ex2\n",
    "> - In terms of the array that has frequencies mapped to its indices, we can make the size of such an array n + 1, since 0 as an index and frequency is unused for this problem"
   ]
  },
  {
   "cell_type": "markdown",
   "metadata": {},
   "source": [
    "> ### Algorithm\n",
    "> - We create a hashmap with key-value pairs where the keys are the numbers and the values are the respective numbers' frequencies\n",
    "> - We also need an array to store our results\n",
    "> - We also need an array to serve as our frequency to index mapping array, it will have a length of n + 1\n",
    "> - We then traverse through the items of the dictionary to map to the array mentioned on the line above\n",
    "> - Using the array mentioned 2 lines above, we then traverse the array from the back to front and append the numbers to a results array till we reach k values in results\n",
    "> - Then we return the results array\n",
    "> - There should be no edge cases to worry about since the problem is relatively straight forward"
   ]
  },
  {
   "cell_type": "code",
   "execution_count": 21,
   "metadata": {},
   "outputs": [],
   "source": [
    "class Solution:\n",
    "    def topKFrequent(self, nums, k):\n",
    "        freqs = {}\n",
    "        res = []\n",
    "        mapped_freq = [[] for _ in range(len(nums) + 1)]\n",
    "        \n",
    "        for num in nums:\n",
    "            freqs[num] = 1 + freqs.get(num, 0)\n",
    "\n",
    "        for num, freq in freqs.items():\n",
    "            mapped_freq[freq].append(num)\n",
    "\n",
    "        for i in range(len(mapped_freq) - 1, -1, -1):\n",
    "            for num in mapped_freq[i]:\n",
    "                res.append(num)\n",
    "                k -= 1\n",
    "                if (k == 0):\n",
    "                    return res"
   ]
  },
  {
   "cell_type": "code",
   "execution_count": 22,
   "metadata": {},
   "outputs": [
    {
     "name": "stdout",
     "output_type": "stream",
     "text": [
      "Ex 1:\n",
      " Result: [1, 2]\n",
      " Desire: [1, 2]\n",
      "Ex 2:\n",
      " Result: [1]\n",
      " Desire: [1]\n"
     ]
    }
   ],
   "source": [
    "sol = Solution()\n",
    "print('Ex 1:')\n",
    "print(' Result:', sol.topKFrequent(nums = [1,1,1,2,2,3], k = 2))\n",
    "print(' Desire: [1, 2]')\n",
    "print('Ex 2:')\n",
    "print(' Result:', sol.topKFrequent(nums = [1], k = 1))\n",
    "print(' Desire: [1]')"
   ]
  }
 ],
 "metadata": {
  "kernelspec": {
   "display_name": "Python 3.9.5 64-bit",
   "language": "python",
   "name": "python3"
  },
  "language_info": {
   "codemirror_mode": {
    "name": "ipython",
    "version": 3
   },
   "file_extension": ".py",
   "mimetype": "text/x-python",
   "name": "python",
   "nbconvert_exporter": "python",
   "pygments_lexer": "ipython3",
   "version": "3.9.5"
  },
  "orig_nbformat": 4,
  "vscode": {
   "interpreter": {
    "hash": "058bbb4884dca741715548dc8689daaa712f0bb17b4c8a018873ab55db552143"
   }
  }
 },
 "nbformat": 4,
 "nbformat_minor": 2
}
