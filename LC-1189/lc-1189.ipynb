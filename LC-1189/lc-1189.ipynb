{
 "cells": [
  {
   "cell_type": "markdown",
   "metadata": {},
   "source": [
    "# LeetCode 1189\n",
    "![lc-1189](./assets/question.jpg)\n",
    "![lc-1189](./assets/constraints.jpg)"
   ]
  },
  {
   "cell_type": "markdown",
   "metadata": {},
   "source": [
    "> Observations:\n",
    "> - The question asks that we make use of the characters in \"text\" to determine the possible number of times we are able to form the word balloon\n",
    "> - Of course, this means that we do not need to consider the order, but the rather the quantity of letters we can word with\n",
    "> - Note the length of the text will always be at least 1 letter long\n",
    "> - Perhaps a good way of determining the number of times we can write the word balloon is by first noting the quantity of each letter in balloon\n",
    ">   - b: 1, a: 1, l: 2, o: 2, n: 1\n",
    "> - Secondly, we should note the quantity of each letter in text\n",
    "> - By dividing the amount of required letters in text by the amount of each character required for one word of balloon, we can determine the number of times for which balloon can be written"
   ]
  },
  {
   "cell_type": "markdown",
   "metadata": {},
   "source": [
    "![lc-1189-ex1](./assets/ex1.jpg)\n",
    "![lc-1189-ex2](./assets/ex2.jpg)\n",
    "![lc-1189-ex3](./assets/ex3.jpg)"
   ]
  },
  {
   "cell_type": "markdown",
   "metadata": {},
   "source": [
    "> Notes:\n",
    "> - For example 1, note that there is precisely b: 1, a: 1, l: 2, o: 2, n: 1, and so by dividing each amount of required letters from the text by the amount each letter required for one instance of balloon, we arrive at 1\n",
    "> - For example 2, a similar argument may be made, but this time the result is 2\n",
    "> - For example 3, note that there isn't even an instance of the letter b as well as some other letters of balloon, hence why it would be zero\n",
    "> - Since we are counting the quantity of letters in the words balloon and \"text\", then we could use a hashmap where the key-value pairs are the letter and the frequency of those letters respectively\n",
    "> - Using the idea earlier of dividing, note that a lack of an amount in any letter can behave as a bottleneck for establishing the number of times balloons can be written given the letters in \"text\"\n",
    ">   - So perhaps after division, we take the smallest number that remains after doing all the division operations"
   ]
  },
  {
   "cell_type": "markdown",
   "metadata": {},
   "source": [
    "> ### Algorithm\n",
    "> - We need a hashmap to store the count of each letter in balloon\n",
    "> - We need a hashmap to store the count of each letter in \"text\"\n",
    "> - We need an hashset/array to store all the results\n",
    "> - Now, moving through each letter of balloon, we use the letters as keys to retrieve the counts of such letters in \"text\" then divide that by the count of each letter of balloons - whilst adding those results\n",
    "> - Then we just return the minimum of the hashset/array"
   ]
  },
  {
   "cell_type": "code",
   "execution_count": 5,
   "metadata": {},
   "outputs": [],
   "source": [
    "class Solution:\n",
    "    def maxNumberOfBalloons(self, text: str) -> int:\n",
    "        hashmap_balloon, hashmap_text = {}, {}\n",
    "        results = set()\n",
    "        for letter in 'balloon':\n",
    "            hashmap_balloon[letter] = 1 if letter not in hashmap_balloon else hashmap_balloon[letter] + 1\n",
    "        for letter in text:\n",
    "            hashmap_text[letter] = 1 if letter not in hashmap_text else hashmap_text[letter] + 1\n",
    "        for letter in 'balloon':\n",
    "            results.add(int(hashmap_text.get(letter, 0) / hashmap_balloon[letter]))\n",
    "        return min(results)"
   ]
  },
  {
   "cell_type": "code",
   "execution_count": 6,
   "metadata": {},
   "outputs": [
    {
     "name": "stdout",
     "output_type": "stream",
     "text": [
      "Ex 1:\n",
      " Result: 1\n",
      " Desire: 1\n",
      "Ex 2:\n",
      " Result: 2\n",
      " Desire: 2\n",
      "Ex 3:\n",
      " Result: 0\n",
      " Desire: 0\n"
     ]
    }
   ],
   "source": [
    "sol = Solution()\n",
    "print('Ex 1:')\n",
    "print(' Result:', sol.maxNumberOfBalloons(text = \"nlaebolko\"))\n",
    "print(' Desire: 1')\n",
    "print('Ex 2:')\n",
    "print(' Result:', sol.maxNumberOfBalloons(text = \"loonbalxballpoon\"))\n",
    "print(' Desire: 2')\n",
    "print('Ex 3:')\n",
    "print(' Result:', sol.maxNumberOfBalloons(text = \"leetcode\"))\n",
    "print(' Desire: 0')"
   ]
  }
 ],
 "metadata": {
  "kernelspec": {
   "display_name": "Python 3.9.5 64-bit",
   "language": "python",
   "name": "python3"
  },
  "language_info": {
   "codemirror_mode": {
    "name": "ipython",
    "version": 3
   },
   "file_extension": ".py",
   "mimetype": "text/x-python",
   "name": "python",
   "nbconvert_exporter": "python",
   "pygments_lexer": "ipython3",
   "version": "3.9.5"
  },
  "orig_nbformat": 4,
  "vscode": {
   "interpreter": {
    "hash": "058bbb4884dca741715548dc8689daaa712f0bb17b4c8a018873ab55db552143"
   }
  }
 },
 "nbformat": 4,
 "nbformat_minor": 2
}
