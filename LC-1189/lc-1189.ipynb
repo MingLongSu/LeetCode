{
 "cells": [
  {
   "cell_type": "markdown",
   "metadata": {},
   "source": [
    "# LeetCode 1189\n",
    "![lc-1189](./assets/question.jpg)\n",
    "![lc-1189](./assets/constraints.jpg)"
   ]
  },
  {
   "cell_type": "markdown",
   "metadata": {},
   "source": [
    "> Observations:\n",
    "> - The question asks that we make use of the characters in \"text\" to determine the possible number of times we are able to form the word balloon\n",
    "> - Of course, this means that we do not need to consider the order, but the rather the quantity of letters we can word with\n",
    "> - Note the length of the text will always be at least 1 letter long\n",
    "> - Perhaps a good way of determining the number of times we can write the word balloon is by first noting the quantity of each letter in balloon\n",
    ">   - b: 1, a: 1, l: 2, o: 2, n: 1\n",
    "> - Secondly, we should note the quantity of each letter in text\n",
    "> - By dividing the amount of required letters in text by the amount of each character required for one word of balloon, we can determine the number of times for which balloon can be written"
   ]
  }
 ],
 "metadata": {
  "kernelspec": {
   "display_name": "Python 3.9.5 64-bit",
   "language": "python",
   "name": "python3"
  },
  "language_info": {
   "name": "python",
   "version": "3.9.5"
  },
  "orig_nbformat": 4,
  "vscode": {
   "interpreter": {
    "hash": "058bbb4884dca741715548dc8689daaa712f0bb17b4c8a018873ab55db552143"
   }
  }
 },
 "nbformat": 4,
 "nbformat_minor": 2
}
