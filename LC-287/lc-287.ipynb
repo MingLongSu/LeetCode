{
 "cells": [
  {
   "cell_type": "markdown",
   "metadata": {},
   "source": [
    "# LeetCode 287\n",
    "![lc-287](./assets/question.jpg)\n",
    "![lc-287287](./assets/constraints.jpg)"
   ]
  },
  {
   "cell_type": "markdown",
   "metadata": {},
   "source": [
    "> Observations:\n",
    "> - Note that the array includes n + 1 integers and each integer is in the range of [1, n]\n",
    "> - Note that it is also guaranteed that there will always be one repeated nummber in the array nums\n",
    "> - Of course, checking for a duplicate number can be easily done in O(n) time complexity with the help of hashmaps; however, the question asks that we solve the question in O(1) space complexity\n",
    "> - Of course, we could also opt for a double for loop solution or even sorting then using binary search to get time complexities of O(n^2) and O(nlogn), respectively, where n is the length of nums but, those seem too slow. \n",
    "> - Note that there will always be at least two numbers in the array since 1 <= n and nums.length == n + 1, hence nums.length <= 2\n",
    "> - Also, scratch the idea of sorting then using binary search since we are not allowed to modify the array \"nums\""
   ]
  }
 ],
 "metadata": {
  "kernelspec": {
   "display_name": "Python 3.9.5 64-bit",
   "language": "python",
   "name": "python3"
  },
  "language_info": {
   "name": "python",
   "version": "3.9.5"
  },
  "orig_nbformat": 4,
  "vscode": {
   "interpreter": {
    "hash": "058bbb4884dca741715548dc8689daaa712f0bb17b4c8a018873ab55db552143"
   }
  }
 },
 "nbformat": 4,
 "nbformat_minor": 2
}
