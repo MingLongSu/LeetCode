{
 "cells": [
  {
   "cell_type": "markdown",
   "metadata": {},
   "source": [
    "# LeetCode 287\n",
    "![lc-287](./assets/question.jpg)\n",
    "![lc-287287](./assets/constraints.jpg)"
   ]
  },
  {
   "cell_type": "markdown",
   "metadata": {},
   "source": [
    "> Observations:\n",
    "> - Note that the array includes n + 1 integers and each integer is in the range of [1, n]\n",
    "> - Note that it is also guaranteed that there will always be one repeated nummber in the array nums\n",
    "> - Of course, checking for a duplicate number can be easily done in O(n) time complexity with the help of hashmaps; however, the question asks that we solve the question in O(1) space complexity\n",
    "> - Of course, we could also opt for a double for loop solution or even sorting then using binary search to get time complexities of O(n^2) and O(nlogn), respectively, where n is the length of nums but, those seem too slow. \n",
    "> - Note that there will always be at least two numbers in the array since 1 <= n and nums.length == n + 1, hence nums.length <= 2\n",
    "> - Also, scratch the idea of sorting then using binary search since we are not allowed to modify the array \"nums\""
   ]
  },
  {
   "cell_type": "markdown",
   "metadata": {},
   "source": [
    "![lc-287-ex1](./assets/ex1.jpg)\n",
    "![lc-287-ex2](./assets/ex2.jpg)"
   ]
  },
  {
   "cell_type": "markdown",
   "metadata": {},
   "source": [
    "> Notes:\n",
    "> - For examples 1 and 2, it's very easy to notice that there repetitions for the numbers 2 and 3, respectively\n",
    "> - Thinking back to the constraints of the question, note that each number actually maps to an index of nums. Moreover, if we follow such a method of traversal in the array, we also begin to notice that the locations of the duplicates are also the locations of where cycles in occur\n",
    "> - Recalling to Floyd's Toroise and Hare algorithm, the algorithm itself is actually of O(n) time complexity and will determine the location of the cycles, thus the value of the duplicate"
   ]
  },
  {
   "cell_type": "markdown",
   "metadata": {},
   "source": [
    "### Illustration of Ex1\n",
    "![lc-287-ill1](./assets/illustration1.jpg)"
   ]
  },
  {
   "cell_type": "markdown",
   "metadata": {},
   "source": [
    "> ### Algorithm\n",
    "> - We simply need to implement Floyd's Tortoise and Hare algorithm \n",
    ">   - The hare pointer will jump twice as fast as the tortoise pointer\n",
    ">   - Once the tortoise == hare, then we reset the tortoise pointer and increment by 1\n",
    ">   - Once the tortoise == hare again, then we return the value of the hare"
   ]
  },
  {
   "cell_type": "code",
   "execution_count": 1,
   "metadata": {},
   "outputs": [],
   "source": [
    "class Solution:\n",
    "    def findDuplicate(self, nums) -> int:\n",
    "        tortoise = hare = 0\n",
    "\n",
    "        while True:\n",
    "            tortoise = nums[tortoise]\n",
    "            hare = nums[nums[hare]]\n",
    "            if (tortoise == hare):\n",
    "                break\n",
    "        tortoise = 0\n",
    "        while True:\n",
    "            tortoise = nums[tortoise]\n",
    "            hare = nums[hare]\n",
    "            if (tortoise == hare):\n",
    "                return hare"
   ]
  },
  {
   "cell_type": "code",
   "execution_count": 4,
   "metadata": {},
   "outputs": [
    {
     "name": "stdout",
     "output_type": "stream",
     "text": [
      "Ex 1:\n",
      " Result: 2\n",
      " Desire: 2\n",
      "Ex 2:\n",
      " Result: 3\n",
      " Desire: 3\n"
     ]
    }
   ],
   "source": [
    "sol = Solution()\n",
    "print('Ex 1:')\n",
    "print(' Result:', sol.findDuplicate(nums = [1,3,4,2,2]))\n",
    "print(' Desire: 2')\n",
    "print('Ex 2:')\n",
    "print(' Result:', sol.findDuplicate(nums = [3,1,3,4,2]))\n",
    "print(' Desire: 3')"
   ]
  },
  {
   "cell_type": "markdown",
   "metadata": {},
   "source": [
    "> ### Final Verdict\n",
    "> - Note that we deploy Floyd's tortoise and hare algorithm, thus getting a time complexity of O(n)\n",
    "> - In terms of space complexity, we do not make use of any extra data structures, thus we arrive at a time complexity of O(1), as required by the question"
   ]
  }
 ],
 "metadata": {
  "kernelspec": {
   "display_name": "Python 3.9.5 64-bit",
   "language": "python",
   "name": "python3"
  },
  "language_info": {
   "codemirror_mode": {
    "name": "ipython",
    "version": 3
   },
   "file_extension": ".py",
   "mimetype": "text/x-python",
   "name": "python",
   "nbconvert_exporter": "python",
   "pygments_lexer": "ipython3",
   "version": "3.9.5"
  },
  "orig_nbformat": 4,
  "vscode": {
   "interpreter": {
    "hash": "058bbb4884dca741715548dc8689daaa712f0bb17b4c8a018873ab55db552143"
   }
  }
 },
 "nbformat": 4,
 "nbformat_minor": 2
}
