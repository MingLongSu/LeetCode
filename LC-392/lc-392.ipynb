{
 "cells": [
  {
   "cell_type": "markdown",
   "metadata": {},
   "source": [
    "# LeetCode 392\n",
    "![lc-392](./assets/question.jpg)\n",
    "![lc-392](./assets/constraints.jpg)"
   ]
  },
  {
   "cell_type": "markdown",
   "metadata": {},
   "source": [
    "> Observations:\n",
    "> - Notice that s is only a subsequence of t if the elements of s are used in t\n",
    "> - In addition, a subsequence of t is a string of letters from t while mainting the order they are presented in t\n",
    "> - Importantly, the lengths of s and t strings can be zero\n",
    "> - And s and t only consist of lowercase English letters"
   ]
  },
  {
   "cell_type": "markdown",
   "metadata": {},
   "source": [
    "![lc-392-ex1](./assets/ex1.jpg)\n",
    "![lc-392-ex2](./assets/ex2.jpg)"
   ]
  },
  {
   "cell_type": "markdown",
   "metadata": {},
   "source": [
    "> Notes:\n",
    "> - Since order of letters remains to be an important determining factor for whether s is a subsequence of t, we could consider traversing the s and t from their fronts\n",
    "> - In addition, we could have two pointers, one for string s and the other for string t\n",
    "> - Since we are checking for whether the letters in s are in t, then, with two pointers, we only need to update the pointer on s when a letter in s has been validated to be present in t\n",
    "> - And, since we are traversing both from the front, then this gurantees that we maintain the rule of order for subsequence validation"
   ]
  },
  {
   "cell_type": "markdown",
   "metadata": {},
   "source": [
    "> ### Algorithm\n",
    "> - We need 2 pointers, one to denote the pointer on the elements on s and the other to denote the pointer on the elements on t\n",
    "> - We then traverse the string t, and if a letter in s is also in t, then we increment the pointer on s (so that we can check whether the next elements exist in t)\n",
    "> - Notice, if the pointer on s is out of bounds (at most, pointer at s == length(s)) then s must be a subsequence of t\n",
    ">   - Otherwise, if the pointer is not out of bounds, then not every letter in s is also in t, and therefore cannot be a subsequence to t"
   ]
  },
  {
   "cell_type": "code",
   "execution_count": 5,
   "metadata": {},
   "outputs": [],
   "source": [
    "class Solution:\n",
    "    def isSubsequence(self, s: str, t: str) -> bool:\n",
    "        length_s = len(s)\n",
    "        ptr_s = 0\n",
    "        for ptr_t in range(len(t)):\n",
    "            if (ptr_s < length_s and s[ptr_s] == t[ptr_t]):\n",
    "                ptr_s += 1\n",
    "        return ptr_s == length_s"
   ]
  },
  {
   "cell_type": "code",
   "execution_count": 4,
   "metadata": {},
   "outputs": [
    {
     "name": "stdout",
     "output_type": "stream",
     "text": [
      "Ex 1:\n",
      " Result: True\n",
      " Desire: True\n",
      "Ex 2:\n",
      " Result: False\n",
      " Desire: False\n"
     ]
    }
   ],
   "source": [
    "sol = Solution()\n",
    "print('Ex 1:')\n",
    "print(' Result:', sol.isSubsequence(s = \"abc\", t = \"ahbgdc\"))\n",
    "print(' Desire: True')\n",
    "print('Ex 2:')\n",
    "print(' Result:', sol.isSubsequence(s = \"axc\", t = \"ahbgdc\"))\n",
    "print(' Desire: False')"
   ]
  }
 ],
 "metadata": {
  "kernelspec": {
   "display_name": "Python 3.9.5 64-bit",
   "language": "python",
   "name": "python3"
  },
  "language_info": {
   "codemirror_mode": {
    "name": "ipython",
    "version": 3
   },
   "file_extension": ".py",
   "mimetype": "text/x-python",
   "name": "python",
   "nbconvert_exporter": "python",
   "pygments_lexer": "ipython3",
   "version": "3.9.5"
  },
  "orig_nbformat": 4,
  "vscode": {
   "interpreter": {
    "hash": "058bbb4884dca741715548dc8689daaa712f0bb17b4c8a018873ab55db552143"
   }
  }
 },
 "nbformat": 4,
 "nbformat_minor": 2
}
