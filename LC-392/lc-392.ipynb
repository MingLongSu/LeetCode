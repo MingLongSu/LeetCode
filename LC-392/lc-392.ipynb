{
 "cells": [
  {
   "cell_type": "markdown",
   "metadata": {},
   "source": [
    "# LeetCode 392\n",
    "![lc-392](./assets/question.jpg)\n",
    "![lc-392](./assets/constraints.jpg)"
   ]
  },
  {
   "cell_type": "markdown",
   "metadata": {},
   "source": [
    "> Observations:\n",
    "> - Notice that s is only a subsequence of t if the elements of s are used in t\n",
    "> - In addition, a subsequence of t is a string of letters from t while mainting the order they are presented in t\n",
    "> - Importantly, the lengths of s and t strings can be zero\n",
    "> - And s and t only consist of lowercase English letters"
   ]
  },
  {
   "cell_type": "markdown",
   "metadata": {},
   "source": [
    "![lc-392-ex1](./assets/ex1.jpg)\n",
    "![lc-392-ex2](./assets/ex2.jpg)"
   ]
  },
  {
   "cell_type": "markdown",
   "metadata": {},
   "source": [
    "> Notes:\n",
    "> - Since order of letters remains to be an important determining factor for whether s is a subsequence of t, we could consider traversing the s and t from their fronts\n",
    "> - In addition, we could have two pointers, one for string s and the other for string t\n",
    "> - Since we are checking for whether the letters in s are in t, then, with two pointers, we only need to update the pointer on s when a letter in s has been validated to be present in t\n",
    "> - And, since we are traversing both from the front, then this gurantees that we maintain the rule of order for subsequence validation"
   ]
  }
 ],
 "metadata": {
  "kernelspec": {
   "display_name": "Python 3.9.5 64-bit",
   "language": "python",
   "name": "python3"
  },
  "language_info": {
   "codemirror_mode": {
    "name": "ipython",
    "version": 3
   },
   "file_extension": ".py",
   "mimetype": "text/x-python",
   "name": "python",
   "nbconvert_exporter": "python",
   "pygments_lexer": "ipython3",
   "version": "3.9.5"
  },
  "orig_nbformat": 4,
  "vscode": {
   "interpreter": {
    "hash": "058bbb4884dca741715548dc8689daaa712f0bb17b4c8a018873ab55db552143"
   }
  }
 },
 "nbformat": 4,
 "nbformat_minor": 2
}
