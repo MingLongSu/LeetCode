{
 "cells": [
  {
   "cell_type": "markdown",
   "metadata": {},
   "source": [
    "# LeetCode 20\n",
    "![lc-20](./assets/question.jpg)\n",
    "![lc-20](./assets/constraints.jpg)"
   ]
  },
  {
   "cell_type": "markdown",
   "metadata": {},
   "source": [
    "> Observations:\n",
    "> - Notice that a string is only valid when:\n",
    ">   - Brackets are closed by the same type of bracket. For example, this ( must be closed with this )\n",
    ">   - Brackets must be closed in the correct order. For example [()] is valid; however, something such as [(]) would be invalid\n",
    ">   - Every close bracket must also have a corresponding open bracket. For example, this ) must have a ( before it\n",
    "> - String s only consists of the characters [], {}, and () "
   ]
  },
  {
   "cell_type": "markdown",
   "metadata": {},
   "source": [
    "![lc-20-ex1](./assets/ex1.jpg)\n",
    "![lc-20-ex2](./assets/ex2.jpg)\n",
    "![lc-20-ex3](./assets/ex3.jpg)"
   ]
  },
  {
   "cell_type": "markdown",
   "metadata": {},
   "source": [
    "> Notes:\n",
    "> - For example 1, the output is true because it is opened by ( and then closed by ) which is the correct type of bracket\n",
    "> - For example 2, a similar argument to that of example 1 can be made with the string\n",
    "> - For example 3, note that the output is false since this ( is closed by this ], which is the wrong type of bracket\n",
    "> - Since the question prioritises order, particularly a last-in-first-out type of system, then we could perhaps make use of a stack data structure\n",
    "> - Let's take this example: ]{()}[\n",
    ">   - Notice that, since this ] does not have an opening bracket before it, then the string will always be invalid\n",
    ">   - Notice also that the {()} substring is valid\n",
    ">   - Perhaps what we could attempt to do is append bracket elements of a string to the stack as we traverse the string\n",
    ">   - But, if the top-most value of the stack is an opening bracket to an element of s that just so happens to also be the correct closing bracket, then we should pop the top-most value from the stack\n",
    ">   - Using this algorithm then, if the number of elements in the stack is greater than 0, then we know that the input string s is not valid, and if it is, then it is valid"
   ]
  },
  {
   "cell_type": "markdown",
   "metadata": {},
   "source": [
    "> ### Algorithm\n",
    "> - We need to create an array which will behave as our stack data structure\n",
    "> - As we traverse the string s, we check the following:\n",
    ">   - if the stack is not empty\n",
    ">   - if the top-most element is either (, [, or { and the current element we are at for string s is ), ], or }, respectively\n",
    ">   - if all the above is true, we should pop the top-most element. Otherwise, we should append the current element of string s\n",
    "> - Then, we return the truth value from whether the number of elements in the stack is 0, since len(stack) = 0 would mean that the input s is valid as not all brackets have been paired correctly"
   ]
  },
  {
   "cell_type": "code",
   "execution_count": 8,
   "metadata": {},
   "outputs": [],
   "source": [
    "class Solution:\n",
    "    def isValid(self, s: str) -> bool:\n",
    "        b = []  # b means brackets that are appended from string s\n",
    "        for c in s:\n",
    "            if (b and ((b[-1] == '(' and c == ')') or (b[-1] == '[' and c == ']') or (b[-1] == '{' and c == '}'))):\n",
    "                b.pop()       \n",
    "            else:\n",
    "                b.append(c)\n",
    "        return len(b) == 0"
   ]
  },
  {
   "cell_type": "code",
   "execution_count": 9,
   "metadata": {},
   "outputs": [
    {
     "name": "stdout",
     "output_type": "stream",
     "text": [
      "Ex 1:\n",
      " Result: True\n",
      " Desire: True\n",
      "Ex 2:\n",
      " Result: True\n",
      " Desire: True\n",
      "Ex 3:\n",
      " Result: False\n",
      " Desire: False\n"
     ]
    }
   ],
   "source": [
    "sol = Solution()\n",
    "print('Ex 1:')\n",
    "print(' Result:', sol.isValid(s = \"()\"))\n",
    "print(' Desire: True')\n",
    "print('Ex 2:')\n",
    "print(' Result:', sol.isValid(s = \"()[]{}\"))\n",
    "print(' Desire: True')\n",
    "print('Ex 3:')\n",
    "print(' Result:', sol.isValid(s = \"(]\"))\n",
    "print(' Desire: False')"
   ]
  }
 ],
 "metadata": {
  "kernelspec": {
   "display_name": "Python 3.9.5 64-bit",
   "language": "python",
   "name": "python3"
  },
  "language_info": {
   "codemirror_mode": {
    "name": "ipython",
    "version": 3
   },
   "file_extension": ".py",
   "mimetype": "text/x-python",
   "name": "python",
   "nbconvert_exporter": "python",
   "pygments_lexer": "ipython3",
   "version": "3.9.5"
  },
  "orig_nbformat": 4,
  "vscode": {
   "interpreter": {
    "hash": "058bbb4884dca741715548dc8689daaa712f0bb17b4c8a018873ab55db552143"
   }
  }
 },
 "nbformat": 4,
 "nbformat_minor": 2
}
