{
 "cells": [
  {
   "cell_type": "markdown",
   "metadata": {},
   "source": [
    "# LeetCode 20\n",
    "![lc-20](./assets/question.jpg)\n",
    "![lc-20](./assets/constraints.jpg)"
   ]
  },
  {
   "cell_type": "markdown",
   "metadata": {},
   "source": [
    "> Observations:\n",
    "> - Notice that a string is only valid when:\n",
    ">   - Brackets are closed by the same type of bracket. For example, this ( must be closed with this )\n",
    ">   - Brackets must be closed in the correct order. For example [()] is valid; however, something such as [(]) would be invalid\n",
    ">   - Every close bracket must also have a corresponding open bracket. For example, this ) must have a ( before it\n",
    "> - String s only consists of the characters [], {}, and () "
   ]
  }
 ],
 "metadata": {
  "kernelspec": {
   "display_name": "Python 3.9.5 64-bit",
   "language": "python",
   "name": "python3"
  },
  "language_info": {
   "name": "python",
   "version": "3.9.5"
  },
  "orig_nbformat": 4,
  "vscode": {
   "interpreter": {
    "hash": "058bbb4884dca741715548dc8689daaa712f0bb17b4c8a018873ab55db552143"
   }
  }
 },
 "nbformat": 4,
 "nbformat_minor": 2
}
