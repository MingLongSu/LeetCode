{
 "cells": [
  {
   "cell_type": "markdown",
   "metadata": {},
   "source": [
    "# LeetCode 20\n",
    "![lc-20](./assets/question.jpg)\n",
    "![lc-20](./assets/constraints.jpg)"
   ]
  },
  {
   "cell_type": "markdown",
   "metadata": {},
   "source": [
    "> Observations:\n",
    "> - Notice that a string is only valid when:\n",
    ">   - Brackets are closed by the same type of bracket. For example, this ( must be closed with this )\n",
    ">   - Brackets must be closed in the correct order. For example [()] is valid; however, something such as [(]) would be invalid\n",
    ">   - Every close bracket must also have a corresponding open bracket. For example, this ) must have a ( before it\n",
    "> - String s only consists of the characters [], {}, and () "
   ]
  },
  {
   "cell_type": "markdown",
   "metadata": {},
   "source": [
    "![lc-20-ex1](./assets/ex1.jpg)\n",
    "![lc-20-ex2](./assets/ex2.jpg)\n",
    "![lc-20-ex3](./assets/ex3.jpg)"
   ]
  },
  {
   "cell_type": "markdown",
   "metadata": {},
   "source": [
    "> Notes:\n",
    "> - For example 1, the output is true because it is opened by ( and then closed by ) which is the correct type of bracket\n",
    "> - For example 2, a similar argument to that of example 1 can be made with the string\n",
    "> - For example 3, note that the output is false since this ( is closed by this ], which is the wrong type of bracket\n",
    "> - Since the question prioritises order, particularly a last-in-first-out type of system, then we could perhaps make use of a stack data structure\n",
    "> - Let's take this example: ]{()}[\n",
    ">   - Notice that, since this ] does not have an opening bracket before it, then the string will always be invalid\n",
    ">   - Notice also that the {()} substring is valid\n",
    ">   - Perhaps what we could attempt to do is append bracket elements of a string to the stack as we traverse the string\n",
    ">   - But, if the top-most value of the stack is an opening bracket to an element of s that just so happens to also be the correct closing bracket, then we should pop the top-most value from the stack\n",
    ">   - Using this algorithm then, if the number of elements in the stack is greater than 0, then we know that the input string s is not valid, and if it is, then it is valid"
   ]
  }
 ],
 "metadata": {
  "kernelspec": {
   "display_name": "Python 3.9.5 64-bit",
   "language": "python",
   "name": "python3"
  },
  "language_info": {
   "codemirror_mode": {
    "name": "ipython",
    "version": 3
   },
   "file_extension": ".py",
   "mimetype": "text/x-python",
   "name": "python",
   "nbconvert_exporter": "python",
   "pygments_lexer": "ipython3",
   "version": "3.9.5"
  },
  "orig_nbformat": 4,
  "vscode": {
   "interpreter": {
    "hash": "058bbb4884dca741715548dc8689daaa712f0bb17b4c8a018873ab55db552143"
   }
  }
 },
 "nbformat": 4,
 "nbformat_minor": 2
}
