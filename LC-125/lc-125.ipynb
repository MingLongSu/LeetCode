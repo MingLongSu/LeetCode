{
 "cells": [
  {
   "cell_type": "markdown",
   "metadata": {},
   "source": [
    "# LeetCode 125\n",
    "![lc-125](./assets/question.jpg)\n",
    "![lc-125](./assets/constraints.jpg)"
   ]
  },
  {
   "cell_type": "markdown",
   "metadata": {},
   "source": [
    "> Observations:\n",
    "> - Since we are checking whether a given string is a palindrome, note that we should make use of a double pointer technique: one pointer on each end of the string\n",
    "> - Notice that we are only meant to check whether a string is a palindrome based on its alphaneumerical elements\n",
    "> - The string only consists of printable ASCII characters\n",
    "> - The string s will always have at least one element"
   ]
  }
 ],
 "metadata": {
  "kernelspec": {
   "display_name": "Python 3.9.5 64-bit",
   "language": "python",
   "name": "python3"
  },
  "language_info": {
   "name": "python",
   "version": "3.9.5"
  },
  "orig_nbformat": 4,
  "vscode": {
   "interpreter": {
    "hash": "058bbb4884dca741715548dc8689daaa712f0bb17b4c8a018873ab55db552143"
   }
  }
 },
 "nbformat": 4,
 "nbformat_minor": 2
}
