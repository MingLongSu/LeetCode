{
 "cells": [
  {
   "cell_type": "markdown",
   "metadata": {},
   "source": [
    "# LeetCode 125\n",
    "![lc-125](./assets/question.jpg)\n",
    "![lc-125](./assets/constraints.jpg)"
   ]
  },
  {
   "cell_type": "markdown",
   "metadata": {},
   "source": [
    "> Observations:\n",
    "> - Since we are checking whether a given string is a palindrome, note that we should make use of a double pointer technique: one pointer on each end of the string\n",
    "> - Notice that we are only meant to check whether a string is a palindrome based on its alphaneumerical elements\n",
    "> - The string only consists of printable ASCII characters\n",
    "> - The string s will always have at least one element"
   ]
  },
  {
   "cell_type": "markdown",
   "metadata": {},
   "source": [
    "![lc-167-ex1](./assets/ex1.jpg)\n",
    "![lc-167-ex2](./assets/ex2.jpg)\n",
    "![lc-167-ex3](./assets/ex3.jpg)"
   ]
  },
  {
   "cell_type": "markdown",
   "metadata": {},
   "source": [
    "> Notes:\n",
    "> - Notice that there could be a stream of non-alphaneumerical characters, so if we are using left and right pointers, then we should keep shifting the pointers till we reach an alphaneumeric element once again\n",
    "> - Otherwise, by should check whether the elements at each pointer match\n",
    ">   - If they do not match, then return False to indicate that the string s is not a palindrome\n",
    "> - If they do match, then shift the pointers by 1 position\n",
    "> - If we the left pointer meats the right pointer, then return True - to indicate that the string s is in fact a palindrome"
   ]
  },
  {
   "cell_type": "markdown",
   "metadata": {},
   "source": [
    "> ### Algorithm\n",
    "> - We will need two pointers, one on each end of the string s\n",
    "> - Each pointer will move by one position so long as the element at each pointer is an alphaneumerical value and such values match\n",
    "> - If they do not match, then False must be returned to indicate that the string s is not a valid palindrome\n",
    "> - But if we land on a non-alphaneumerical value, then we must shift the pointer until we reach an alphaneumerical value\n",
    "> - Once we run through the entire string, then we return True to indicate that there were no faults with the string s, and therefore it can be considered a valid palindrome"
   ]
  },
  {
   "cell_type": "code",
   "execution_count": 14,
   "metadata": {},
   "outputs": [],
   "source": [
    "class Solution:\n",
    "    def is_alpha_numeric(self, s: str) -> bool: \n",
    "        length = len(s)\n",
    "        left, right = 0, length - 1\n",
    "\n",
    "        def is_alphaneumeric(c):\n",
    "            if ((ord('A') <= ord(c) <= ord('Z')) or\n",
    "                (ord('a') <= ord(c) <= ord('z')) or\n",
    "                (ord('0') <= ord(c) <= ord('9'))):\n",
    "                return True\n",
    "            return False\n",
    "\n",
    "        while (left < right):\n",
    "            while (left < length and not is_alphaneumeric(s[left])):\n",
    "                left += 1\n",
    "            while (right > 0 and not is_alphaneumeric(s[right])):\n",
    "                right -= 1\n",
    "            if (left < length and right > 0 and s[left].lower() != s[right].lower()):\n",
    "                return False\n",
    "            left, right = left + 1, right - 1\n",
    "        return True"
   ]
  },
  {
   "cell_type": "code",
   "execution_count": 15,
   "metadata": {},
   "outputs": [
    {
     "name": "stdout",
     "output_type": "stream",
     "text": [
      "Ex 1:\n",
      " Result: True\n",
      " Desire: True\n",
      "Ex 2:\n",
      " Result: False\n",
      " Desire: False\n",
      "Ex 3:\n",
      " Result: True\n",
      " Desire: True\n"
     ]
    }
   ],
   "source": [
    "sol = Solution()\n",
    "print('Ex 1:')\n",
    "print(' Result:', sol.is_alpha_numeric(s = \"A man, a plan, a canal: Panama\"))\n",
    "print(' Desire: True')\n",
    "print('Ex 2:')\n",
    "print(' Result:', sol.is_alpha_numeric(s = \"race a car\"))\n",
    "print(' Desire: False')\n",
    "print('Ex 3:')\n",
    "print(' Result:', sol.is_alpha_numeric(\" \"))\n",
    "print(' Desire: True')"
   ]
  }
 ],
 "metadata": {
  "kernelspec": {
   "display_name": "Python 3.9.5 64-bit",
   "language": "python",
   "name": "python3"
  },
  "language_info": {
   "codemirror_mode": {
    "name": "ipython",
    "version": 3
   },
   "file_extension": ".py",
   "mimetype": "text/x-python",
   "name": "python",
   "nbconvert_exporter": "python",
   "pygments_lexer": "ipython3",
   "version": "3.9.5"
  },
  "orig_nbformat": 4,
  "vscode": {
   "interpreter": {
    "hash": "058bbb4884dca741715548dc8689daaa712f0bb17b4c8a018873ab55db552143"
   }
  }
 },
 "nbformat": 4,
 "nbformat_minor": 2
}
