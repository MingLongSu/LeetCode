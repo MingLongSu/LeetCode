{
 "cells": [
  {
   "cell_type": "markdown",
   "metadata": {},
   "source": [
    "# LeetCode 125\n",
    "![lc-125](./assets/question.jpg)\n",
    "![lc-125](./assets/constraints.jpg)"
   ]
  },
  {
   "cell_type": "markdown",
   "metadata": {},
   "source": [
    "> Observations:\n",
    "> - Since we are checking whether a given string is a palindrome, note that we should make use of a double pointer technique: one pointer on each end of the string\n",
    "> - Notice that we are only meant to check whether a string is a palindrome based on its alphaneumerical elements\n",
    "> - The string only consists of printable ASCII characters\n",
    "> - The string s will always have at least one element"
   ]
  },
  {
   "cell_type": "markdown",
   "metadata": {},
   "source": [
    "![lc-167-ex1](./assets/ex1.jpg)\n",
    "![lc-167-ex2](./assets/ex2.jpg)\n",
    "![lc-167-ex3](./assets/ex3.jpg)"
   ]
  },
  {
   "cell_type": "markdown",
   "metadata": {},
   "source": [
    "> Notes:\n",
    "> - Notice that there could be a stream of non-alphaneumerical characters, so if we are using left and right pointers, then we should keep shifting the pointers till we reach an alphaneumeric element once again\n",
    "> - Otherwise, by should check whether the elements at each pointer match\n",
    ">   - If they do not match, then return False to indicate that the string s is not a palindrome\n",
    "> - If they do match, then shift the pointers by 1 position\n",
    "> - If we the left pointer meats the right pointer, then return True - to indicate that the string s is in fact a palindrome"
   ]
  }
 ],
 "metadata": {
  "kernelspec": {
   "display_name": "Python 3.9.5 64-bit",
   "language": "python",
   "name": "python3"
  },
  "language_info": {
   "name": "python",
   "version": "3.9.5"
  },
  "orig_nbformat": 4,
  "vscode": {
   "interpreter": {
    "hash": "058bbb4884dca741715548dc8689daaa712f0bb17b4c8a018873ab55db552143"
   }
  }
 },
 "nbformat": 4,
 "nbformat_minor": 2
}
