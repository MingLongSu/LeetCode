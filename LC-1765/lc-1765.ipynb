{
 "cells": [
  {
   "cell_type": "markdown",
   "metadata": {},
   "source": [
    "# LeetCode 1765\n",
    "![lc-1765](./assets/question.jpg)\n",
    "![lc-1765](./assets/constraints.jpg)"
   ]
  },
  {
   "cell_type": "markdown",
   "metadata": {},
   "source": [
    "> Observations:\n",
    "> - For all given matrices, there is always AT LESAT ONE water cell\n",
    "> - For isWater, 1 = water level and 0 = land cell (with to-be defined level)\n",
    "> - Any adjacent cells must have an absolute height difference of at most 1\n",
    "> - Note that matrix is of m * n, not n * n"
   ]
  },
  {
   "cell_type": "markdown",
   "metadata": {},
   "source": [
    "![lc-1765-ex1](./assets/ex1.jpg)\n",
    "![lc-1765-ex2](./assets/ex2.jpg)"
   ]
  },
  {
   "cell_type": "markdown",
   "metadata": {},
   "source": [
    "> Notes:\n",
    "> - All cells next to water cells are at an elevation level of one unit, while adjacent cells follow the rule of being at most one level of elevation higher\n",
    "> - With the note above, this question suggest the use of a breadth first search (BFS) solution implementation where we first find all locations of sea-level cells (water cells)\n",
    "> - Then, with inspiration from the A-star pathfinder algorithm, we move in the cardinal directions to set the sea level elevations on the matrix\n",
    "> - But of course, we do not want to overwrite any of the cells we have already visited, so we need a list to keep track of all cell locations that have been visited"
   ]
  }
 ],
 "metadata": {
  "kernelspec": {
   "display_name": "Python 3.9.5 64-bit",
   "language": "python",
   "name": "python3"
  },
  "language_info": {
   "codemirror_mode": {
    "name": "ipython",
    "version": 3
   },
   "file_extension": ".py",
   "mimetype": "text/x-python",
   "name": "python",
   "nbconvert_exporter": "python",
   "pygments_lexer": "ipython3",
   "version": "3.9.5"
  },
  "orig_nbformat": 4,
  "vscode": {
   "interpreter": {
    "hash": "058bbb4884dca741715548dc8689daaa712f0bb17b4c8a018873ab55db552143"
   }
  }
 },
 "nbformat": 4,
 "nbformat_minor": 2
}
