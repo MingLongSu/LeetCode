{
 "cells": [
  {
   "cell_type": "markdown",
   "metadata": {},
   "source": [
    "# LeetCode 1765\n",
    "![lc-1765](./assets/question.jpg)\n",
    "![lc-1765](./assets/constraints.jpg)"
   ]
  },
  {
   "cell_type": "markdown",
   "metadata": {},
   "source": [
    "> Observations:\n",
    "> - For all given matrices, there is always AT LESAT ONE water cell\n",
    "> - For isWater, 1 = water level and 0 = land cell (with to-be defined level)\n",
    "> - Any adjacent cells must have an absolute height difference of at most 1\n",
    "> - Note that matrix is of m * n, not n * n"
   ]
  },
  {
   "cell_type": "markdown",
   "metadata": {},
   "source": [
    "![lc-1765-ex1](./assets/ex1.jpg)\n",
    "![lc-1765-ex2](./assets/ex2.jpg)"
   ]
  },
  {
   "cell_type": "markdown",
   "metadata": {},
   "source": [
    "> Notes:\n",
    "> - All cells next to water cells are at an elevation level of one unit, while adjacent cells follow the rule of being at most one level of elevation higher\n",
    "> - With the note above, this question suggest the use of a breadth first search (BFS) solution implementation where we first find all locations of sea-level cells (water cells)\n",
    "> - Then, with inspiration from the A-star pathfinder algorithm, we move in the cardinal directions to set the sea level elevations on the matrix\n",
    "> - But of course, we do not want to overwrite any of the cells we have already visited, so we need a list to keep track of all cell locations that have been visited"
   ]
  },
  {
   "cell_type": "markdown",
   "metadata": {},
   "source": [
    "### Initial Algorithm\n",
    "> - We need a list for storing visited locations \n",
    "> - We need a list to act as our queue for BFS to control when to set a particular level of elevation\n",
    "> - We first traverse the matrix to gather all the locations of the sea-level elevations (1's on the isWater matrix)\n",
    ">   - We add this location to visited and enqueue these locations to be set at a particular level of elevation\n",
    "> - Then while the queue is not empty, we move through the queue and set the height whilst also enqueuing any possible neighboring cells\n",
    ">   - We need a logical statement to decide if a particular cell should be enqueued in order to be later set with a sea-level elevation\n",
    ">   - Conditions for cell to not be enqueued:\n",
    ">       - if column is out of bounds -> col < 0 or col > num_of_columns\n",
    ">       - if row is out of bounds -> row < 0 or row > num_of_rows\n",
    ">       - if is already visited\n",
    "> - The step above is repeated till the queue is empty"
   ]
  },
  {
   "cell_type": "markdown",
   "metadata": {},
   "source": [
    "## Initial Implementation"
   ]
  },
  {
   "cell_type": "code",
   "execution_count": 1,
   "metadata": {},
   "outputs": [],
   "source": [
    "class Solution:\n",
    "    def highestPeak(self, isWater):\n",
    "        visited = []\n",
    "        elevation_queue = []\n",
    "        elevation = 0\n",
    "\n",
    "        def validateCell(row, col):\n",
    "            if ((row < 0) or (row > len(isWater) - 1) or (col < 0) or (col > len(isWater[0]) - 1) or ([row, col] in visited)):\n",
    "                return\n",
    "            visited.append([row, col])\n",
    "            elevation_queue.append([row, col])\n",
    "\n",
    "        for i in range(len(isWater)):\n",
    "            for j in range(len(isWater[0])):\n",
    "                if (isWater[i][j]):\n",
    "                    visited.append([i, j])\n",
    "                    elevation_queue.append([i, j])\n",
    "\n",
    "        while elevation_queue:\n",
    "            for i in range(len(elevation_queue)):\n",
    "                row, col = elevation_queue.pop(0)\n",
    "                isWater[row][col] = elevation\n",
    "                validateCell(row + 1, col)\n",
    "                validateCell(row - 1, col)\n",
    "                validateCell(row, col + 1)\n",
    "                validateCell(row, col - 1)\n",
    "            elevation += 1\n",
    "\n",
    "        return isWater\n",
    "                "
   ]
  },
  {
   "cell_type": "code",
   "execution_count": 3,
   "metadata": {},
   "outputs": [
    {
     "name": "stdout",
     "output_type": "stream",
     "text": [
      "Result Ex1: [[1, 0], [2, 1]]\n",
      "Result Ex2: [[1, 1, 0], [0, 1, 1], [1, 2, 2]]\n"
     ]
    }
   ],
   "source": [
    "sol = Solution()\n",
    "print('Result Ex1:', sol.highestPeak([[0,1],[0,0]]))\n",
    "print('Result Ex2:', sol.highestPeak([[0,0,1],[1,0,0],[0,0,0]]))"
   ]
  },
  {
   "cell_type": "markdown",
   "metadata": {},
   "source": [
    "> Additional Notes:\n",
    "> - After submission to LeetCode, the current implementation runs into the issue of a Time Limit Exceeded issue, so we now must attempt at finding a solution to make the algorithm more efficient\n",
    "> - Currently the algorithm attempts to remove all elements from the elevation_queue list; which is fine. However, we call a helper function to check if the cell is valid for determining its elevation\n",
    "> - Naively, to solve the problem, a visited list was utilised which copmrimises the space complexity, since the grid isWater is only initially filled with 1's and 0's, then there may be an implementation such that we remove the need for a visited list; that or we create a new matrix of same dims as isWater to then return as the solution\n",
    "> - Could we start by setting the water to level 0? The elevation is based on the already-set sea level elevation which can be passed as a member of the queue as well? "
   ]
  },
  {
   "cell_type": "markdown",
   "metadata": {},
   "source": [
    "## Final Implementation"
   ]
  },
  {
   "cell_type": "code",
   "execution_count": 23,
   "metadata": {},
   "outputs": [],
   "source": [
    "class Solution:\n",
    "    def highestPeak(self, isWater):\n",
    "        m, n = len(isWater), len(isWater[0])\n",
    "        elevation_map = [[-1 for _ in range(n)] for _ in range(m)]\n",
    "        elevation_queue = []\n",
    "        \n",
    "        for i in range(m): \n",
    "            for j in range(n):\n",
    "                if (isWater[i][j]):\n",
    "                    elevation_map[i][j] = 0\n",
    "                    elevation_queue.append([i, j, 0])\n",
    "        \n",
    "        while elevation_queue:\n",
    "            row, col, elevation = elevation_queue.pop(0)\n",
    "            for delta_row, delta_col in [(1, 0), (-1, 0), (0, 1), (0, -1)]:\n",
    "                if ((0 <= row + delta_row < m) and (0 <= col + delta_col < n) and elevation_map[row + delta_row][col + delta_col] == -1):\n",
    "                    elevation_map[row + delta_row][col + delta_col] = elevation + 1\n",
    "                    elevation_queue.append([row + delta_row, col + delta_col, elevation + 1])\n",
    "\n",
    "        return elevation_map "
   ]
  },
  {
   "cell_type": "code",
   "execution_count": 24,
   "metadata": {},
   "outputs": [
    {
     "name": "stdout",
     "output_type": "stream",
     "text": [
      "Result Ex1: [[1, 0], [2, 1]]\n",
      "Result Ex2: [[1, 1, 0], [0, 1, 1], [1, 2, 2]]\n"
     ]
    }
   ],
   "source": [
    "sol = Solution()\n",
    "print('Result Ex1:', sol.highestPeak([[0,1],[0,0]]))\n",
    "print('Result Ex2:', sol.highestPeak([[0,0,1],[1,0,0],[0,0,0]]))"
   ]
  }
 ],
 "metadata": {
  "kernelspec": {
   "display_name": "Python 3.9.5 64-bit",
   "language": "python",
   "name": "python3"
  },
  "language_info": {
   "codemirror_mode": {
    "name": "ipython",
    "version": 3
   },
   "file_extension": ".py",
   "mimetype": "text/x-python",
   "name": "python",
   "nbconvert_exporter": "python",
   "pygments_lexer": "ipython3",
   "version": "3.9.5"
  },
  "orig_nbformat": 4,
  "vscode": {
   "interpreter": {
    "hash": "058bbb4884dca741715548dc8689daaa712f0bb17b4c8a018873ab55db552143"
   }
  }
 },
 "nbformat": 4,
 "nbformat_minor": 2
}
