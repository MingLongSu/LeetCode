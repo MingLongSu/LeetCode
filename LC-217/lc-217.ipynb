{
 "cells": [
  {
   "cell_type": "markdown",
   "metadata": {},
   "source": [
    "# LeetCode 217\n",
    "![lc-217](./assets/question.jpg)\n",
    "![lc-217](./assets/constraints.jpg)"
   ]
  },
  {
   "cell_type": "markdown",
   "metadata": {},
   "source": [
    "> Observations:\n",
    "> - Just return True so long as a number within the array reappears at least a second time\n",
    "> - Noticeably, the length of the list is relatively high\n",
    "> - Checking whether a number is in the list may be computationally inefficient as checking whether it appears again in the array is O(n) time complexity where n is the length of the list, nums\n",
    "> - We could add the numbers to a hashmap to then check whether a number reappears\n",
    ">   - That is, while traversing the list, we add numbers to the hashmap/hashset and if a number can be found in the hashmap/hashset, then it a duplicate is present"
   ]
  }
 ],
 "metadata": {
  "kernelspec": {
   "display_name": "Python 3.9.5 64-bit",
   "language": "python",
   "name": "python3"
  },
  "language_info": {
   "name": "python",
   "version": "3.9.5"
  },
  "orig_nbformat": 4,
  "vscode": {
   "interpreter": {
    "hash": "058bbb4884dca741715548dc8689daaa712f0bb17b4c8a018873ab55db552143"
   }
  }
 },
 "nbformat": 4,
 "nbformat_minor": 2
}
