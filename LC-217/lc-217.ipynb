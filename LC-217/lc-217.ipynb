{
 "cells": [
  {
   "cell_type": "markdown",
   "metadata": {},
   "source": [
    "# LeetCode 217\n",
    "![lc-217](./assets/question.jpg)\n",
    "![lc-217](./assets/constraints.jpg)"
   ]
  },
  {
   "cell_type": "markdown",
   "metadata": {},
   "source": [
    "> Observations:\n",
    "> - Just return True so long as a number within the array reappears at least a second time\n",
    "> - Noticeably, the length of the list is relatively high\n",
    "> - Checking whether a number is in the list may be computationally inefficient as checking whether it appears again in the array is O(n) time complexity where n is the length of the list, nums\n",
    "> - We could add the numbers to a hashmap to then check whether a number reappears\n",
    ">   - That is, while traversing the list, we add numbers to the hashmap/hashset and if a number can be found in the hashmap/hashset, then it a duplicate is present"
   ]
  },
  {
   "cell_type": "markdown",
   "metadata": {},
   "source": [
    "![lc-217-ex1](./assets/ex1.jpg)\n",
    "![lc-217-ex2](./assets/ex2.jpg)\n",
    "![lc-217-ex3](./assets/ex3.jpg)"
   ]
  },
  {
   "cell_type": "markdown",
   "metadata": {},
   "source": [
    "> Notes:\n",
    "> - For example 1, note that if we use a hashmap/hashset, then by adding 1 to the hashmap/hashset, then by the time we reach the end of the list, we check if nums[3] = 1 is in the hashmap/hashlist. Noticeably, it's in the hashmap, therefore True would be returned and therefore it matches the output\n",
    "> - For example 2, even after adding all those values to the hashmap/hashset no numbers are repeated, therefore False is returned\n",
    "> - For example 3, it's True after detecting the 1's\n",
    "> - Note that reorganizing the list is an O(n) operation as well, but to speed up some computations, it may be more efficient to sort before utilising hashmap/hashsets"
   ]
  },
  {
   "cell_type": "markdown",
   "metadata": {},
   "source": [
    "> ### Algorithm\n",
    "> - Sort the list of numbers, \"nums\"\n",
    "> - Create a hashmap/hashset to store the numbers as we traverse the list\n",
    "> - Also, while traversing if nums[i] (where i is an index of the list) is in the hashmap/hashset, then we return True as it shows there is repetition in the list, \"nums\"\n",
    "> - Otherwise, once we've traversed the entire array, we return False as this indicates that there is no duplicate in the list, \"nums\""
   ]
  },
  {
   "cell_type": "code",
   "execution_count": 5,
   "metadata": {},
   "outputs": [],
   "source": [
    "class Solution:\n",
    "    def containsDuplicate(self, nums) -> bool:\n",
    "        length = len(nums)\n",
    "        hashmap = {}\n",
    "        for i in range(length):\n",
    "            if (nums[i] in hashmap):\n",
    "                return True\n",
    "            hashmap[nums[i]] = i\n",
    "        return False"
   ]
  },
  {
   "cell_type": "code",
   "execution_count": 6,
   "metadata": {},
   "outputs": [
    {
     "name": "stdout",
     "output_type": "stream",
     "text": [
      "Ex 1:\n",
      " Result: True\n",
      " Desire: True\n",
      "Ex 2:\n",
      " Result: False\n",
      " Desire: False\n",
      "Ex 3:\n",
      " Result: True\n",
      " Desire: True\n"
     ]
    }
   ],
   "source": [
    "sol = Solution()\n",
    "print('Ex 1:')\n",
    "print(' Result:', sol.containsDuplicate([1,2,3,1]))\n",
    "print(' Desire: True')\n",
    "print('Ex 2:')\n",
    "print(' Result:', sol.containsDuplicate([1,2,3,4]))\n",
    "print(' Desire: False')\n",
    "print('Ex 3:')\n",
    "print(' Result:', sol.containsDuplicate([1,1,1,3,3,4,3,2,4,2]))\n",
    "print(' Desire: True')"
   ]
  },
  {
   "cell_type": "markdown",
   "metadata": {},
   "source": [
    "> ### Final Verdict\n",
    "> - Note that we make use of a hashmap, and so all operations, including checking the hashmap, is an O(1) operation. Meanwhile, we traverse the list once, and so this gives a time complexity of O(n), where n is the length of the list, \"nums.\" In terms of space complexity, since we add at most n key-value pairs to the utilized hashmap, we get an overall space complexity of O(n)."
   ]
  }
 ],
 "metadata": {
  "kernelspec": {
   "display_name": "Python 3.9.5 64-bit",
   "language": "python",
   "name": "python3"
  },
  "language_info": {
   "codemirror_mode": {
    "name": "ipython",
    "version": 3
   },
   "file_extension": ".py",
   "mimetype": "text/x-python",
   "name": "python",
   "nbconvert_exporter": "python",
   "pygments_lexer": "ipython3",
   "version": "3.9.5"
  },
  "orig_nbformat": 4,
  "vscode": {
   "interpreter": {
    "hash": "058bbb4884dca741715548dc8689daaa712f0bb17b4c8a018873ab55db552143"
   }
  }
 },
 "nbformat": 4,
 "nbformat_minor": 2
}
