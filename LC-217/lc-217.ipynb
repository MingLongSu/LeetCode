{
 "cells": [
  {
   "cell_type": "markdown",
   "metadata": {},
   "source": [
    "# LeetCode 217\n",
    "![lc-217](./assets/question.jpg)\n",
    "![lc-217](./assets/constraints.jpg)"
   ]
  },
  {
   "cell_type": "markdown",
   "metadata": {},
   "source": [
    "> Observations:\n",
    "> - Just return True so long as a number within the array reappears at least a second time\n",
    "> - Noticeably, the length of the list is relatively high\n",
    "> - Checking whether a number is in the list may be computationally inefficient as checking whether it appears again in the array is O(n) time complexity where n is the length of the list, nums\n",
    "> - We could add the numbers to a hashmap to then check whether a number reappears\n",
    ">   - That is, while traversing the list, we add numbers to the hashmap/hashset and if a number can be found in the hashmap/hashset, then it a duplicate is present"
   ]
  },
  {
   "cell_type": "markdown",
   "metadata": {},
   "source": [
    "![lc-217-ex1](./assets/ex1.jpg)\n",
    "![lc-217-ex2](./assets/ex2.jpg)\n",
    "![lc-217-ex3](./assets/ex3.jpg)"
   ]
  },
  {
   "cell_type": "markdown",
   "metadata": {},
   "source": [
    "> Notes:\n",
    "> - For example 1, note that if we use a hashmap/hashset, then by adding 1 to the hashmap/hashset, then by the time we reach the end of the list, we check if nums[3] = 1 is in the hashmap/hashlist. Noticeably, it's in the hashmap, therefore True would be returned and therefore it matches the output\n",
    "> - For example 2, even after adding all those values to the hashmap/hashset no numbers are repeated, therefore False is returned\n",
    "> - For example 3, it's True after detecting the 1's\n",
    "> - Note that reorganizing the list is an O(n) operation as well, but to speed up some computations, it may be more efficient to sort before utilising hashmap/hashsets"
   ]
  }
 ],
 "metadata": {
  "kernelspec": {
   "display_name": "Python 3.9.5 64-bit",
   "language": "python",
   "name": "python3"
  },
  "language_info": {
   "name": "python",
   "version": "3.9.5"
  },
  "orig_nbformat": 4,
  "vscode": {
   "interpreter": {
    "hash": "058bbb4884dca741715548dc8689daaa712f0bb17b4c8a018873ab55db552143"
   }
  }
 },
 "nbformat": 4,
 "nbformat_minor": 2
}
