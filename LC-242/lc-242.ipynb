{
 "cells": [
  {
   "cell_type": "markdown",
   "metadata": {},
   "source": [
    "# LeetCode 242\n",
    "![lc-242](./assets/question.jpg)\n",
    "![lc-242](./assets/constraints.jpg)"
   ]
  },
  {
   "cell_type": "markdown",
   "metadata": {},
   "source": [
    "> Observations:\n",
    "> - Note that anagrams are words that both utilise the same type of letters and amount of such letters\n",
    "> - s and t, which are strings, will only consist of English letters\n",
    "> - Since this is a verification problem concerning count of letters without the need to consider order, a potentially good route to follow is making use of hashmaps\n",
    "> - Note also that s and t definitely cannot be anagrams if they are strings of different length, since different-lengthed strings completely break the rule of being anagrams to one another"
   ]
  },
  {
   "cell_type": "markdown",
   "metadata": {},
   "source": [
    "![lc-242-ex1](./assets/ex1.jpg)\n",
    "![lc-242-ex2](./assets/ex2.jpg)"
   ]
  },
  {
   "cell_type": "markdown",
   "metadata": {},
   "source": [
    "> Notes:\n",
    "> - Utilising the idea of a hashmap, we can use a hashmap to store key-value pairs where the keys are the letters themselves and the values are the frequencies of each letter\n",
    "> - Then, moving through the letters of one hashmap, we can then begin to verify whether s and t are anagrams to one another:\n",
    ">   - if a letter is found in s but not in t, then s and t cannot be anagrams\n",
    ">   - if the frequency of a letter in s does not match with the frequency of a letter in t, then s and t will also not be anagrams\n",
    "> - Through this heuristic algorithm, we notice that s and t are anagrams for example 1 because they match in both the type of letters used and the quantity of such letters used\n",
    "> - As for example 2, it is false because the letter 't' appears in string s but not in the string t\n",
    "> - There do not seem to be any further edge cases to consider"
   ]
  }
 ],
 "metadata": {
  "kernelspec": {
   "display_name": "Python 3.9.5 64-bit",
   "language": "python",
   "name": "python3"
  },
  "language_info": {
   "name": "python",
   "version": "3.9.5"
  },
  "orig_nbformat": 4,
  "vscode": {
   "interpreter": {
    "hash": "058bbb4884dca741715548dc8689daaa712f0bb17b4c8a018873ab55db552143"
   }
  }
 },
 "nbformat": 4,
 "nbformat_minor": 2
}
