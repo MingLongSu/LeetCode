{
 "cells": [
  {
   "cell_type": "markdown",
   "metadata": {},
   "source": [
    "# LeetCode 242\n",
    "![lc-242](./assets/question.jpg)\n",
    "![lc-242](./assets/constraints.jpg)"
   ]
  },
  {
   "cell_type": "markdown",
   "metadata": {},
   "source": [
    "> Observations:\n",
    "> - Note that anagrams are words that both utilise the same type of letters and amount of such letters\n",
    "> - s and t, which are strings, will only consist of English letters\n",
    "> - Since this is a verification problem concerning count of letters without the need to consider order, a potentially good route to follow is making use of hashmaps\n",
    "> - Note also that s and t definitely cannot be anagrams if they are strings of different length, since different-lengthed strings completely break the rule of being anagrams to one another"
   ]
  },
  {
   "cell_type": "markdown",
   "metadata": {},
   "source": [
    "![lc-242-ex1](./assets/ex1.jpg)\n",
    "![lc-242-ex2](./assets/ex2.jpg)"
   ]
  },
  {
   "cell_type": "markdown",
   "metadata": {},
   "source": [
    "> Notes:\n",
    "> - Utilising the idea of a hashmap, we can use a hashmap to store key-value pairs where the keys are the letters themselves and the values are the frequencies of each letter\n",
    "> - Then, moving through the letters of one hashmap, we can then begin to verify whether s and t are anagrams to one another:\n",
    ">   - if a letter is found in s but not in t, then s and t cannot be anagrams\n",
    ">   - if the frequency of a letter in s does not match with the frequency of a letter in t, then s and t will also not be anagrams\n",
    "> - Through this heuristic algorithm, we notice that s and t are anagrams for example 1 because they match in both the type of letters used and the quantity of such letters used\n",
    "> - As for example 2, it is false because the letter 't' appears in string s but not in the string t\n",
    "> - There do not seem to be any further edge cases to consider"
   ]
  },
  {
   "cell_type": "markdown",
   "metadata": {},
   "source": [
    "> ### Algorithm\n",
    "> - We first check if strings s and t are of the same length, if they are not the same length, then we immediately return False to indicate s and t are not anagrams\n",
    "> - We need two hashmaps, each hashmap to store the frequency of letters in s and t, respectively\n",
    "> - We then traverse through the keys of the hashmap of s and check the following:\n",
    ">   - Whether a letter of s is in t and whether that frequency matches with the frequency found in t, if either fail, then return False to indicate that s and t are not anagrams\n",
    "> - Otherwise, after that entire process, return True to indicate that s and t are valid anagrams"
   ]
  },
  {
   "cell_type": "code",
   "execution_count": 20,
   "metadata": {},
   "outputs": [],
   "source": [
    "class Solution:\n",
    "    def isAnagram(self, s: str, t: str) -> bool:\n",
    "        if (len(s) != len(t)):\n",
    "            return False\n",
    "        \n",
    "        hashmap_s, hashmap_t = {}, {}\n",
    "        for i in range(len(s)):\n",
    "            hashmap_s[s[i]] = 1 + hashmap_s.get(s[i], 0)\n",
    "            hashmap_t[t[i]] = 1 + hashmap_t.get(t[i], 0)\n",
    "\n",
    "        for c in hashmap_s.keys():\n",
    "            if ((c not in hashmap_t) or (hashmap_s[c] != hashmap_t[c])):\n",
    "                return False\n",
    "\n",
    "        return True"
   ]
  },
  {
   "cell_type": "code",
   "execution_count": 21,
   "metadata": {},
   "outputs": [
    {
     "name": "stdout",
     "output_type": "stream",
     "text": [
      "Ex 1:\n",
      " Result: True\n",
      " Desire: True\n",
      "Ex 2:\n",
      " Result: False\n",
      " Desire: False\n"
     ]
    }
   ],
   "source": [
    "sol = Solution()\n",
    "print('Ex 1:')\n",
    "print(' Result:', sol.isAnagram(s = \"anagram\", t = \"nagaram\"))\n",
    "print(' Desire: True')\n",
    "print('Ex 2:')\n",
    "print(' Result:', sol.isAnagram(s = \"rat\", t = \"car\"))\n",
    "print(' Desire: False')"
   ]
  },
  {
   "cell_type": "markdown",
   "metadata": {},
   "source": [
    "> ### Final Verdict\n",
    "> - Note that, in the worse case scenario where every letter is unique, we traverse the array at most 2(S + T) times where S and T are the lengths of strings s and t, respectively. Therefore, this algorithms time complexity is O(2(S + T)), or more simply, O(S + T)\n",
    "> - Note that we make use of two hashmaps, each to store the frequencies of letters in s and t, respectively. Therefore, the space complexity of this algorithm is also O(2(S + T)), or more simply O(S + T)"
   ]
  }
 ],
 "metadata": {
  "kernelspec": {
   "display_name": "Python 3.9.5 64-bit",
   "language": "python",
   "name": "python3"
  },
  "language_info": {
   "codemirror_mode": {
    "name": "ipython",
    "version": 3
   },
   "file_extension": ".py",
   "mimetype": "text/x-python",
   "name": "python",
   "nbconvert_exporter": "python",
   "pygments_lexer": "ipython3",
   "version": "3.9.5"
  },
  "orig_nbformat": 4,
  "vscode": {
   "interpreter": {
    "hash": "058bbb4884dca741715548dc8689daaa712f0bb17b4c8a018873ab55db552143"
   }
  }
 },
 "nbformat": 4,
 "nbformat_minor": 2
}
