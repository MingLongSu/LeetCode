{
 "cells": [
  {
   "cell_type": "markdown",
   "metadata": {},
   "source": [
    "# LeetCode 242\n",
    "![lc-242](./assets/question.jpg)\n",
    "![lc-242](./assets/constraints.jpg)"
   ]
  },
  {
   "cell_type": "markdown",
   "metadata": {},
   "source": [
    "> Observations:\n",
    "> - Note that anagrams are words that both utilise the same type of letters and amount of such letters\n",
    "> - s and t, which are strings, will only consist of English letters\n",
    "> - Since this is a verification problem concerning count of letters without the need to consider order, a potentially good route to follow is making use of hashmaps\n",
    "> - Note also that s and t definitely cannot be anagrams if they are strings of different length, since different-lengthed strings completely break the rule of being anagrams to one another"
   ]
  }
 ],
 "metadata": {
  "kernelspec": {
   "display_name": "Python 3.9.5 64-bit",
   "language": "python",
   "name": "python3"
  },
  "language_info": {
   "name": "python",
   "version": "3.9.5"
  },
  "orig_nbformat": 4,
  "vscode": {
   "interpreter": {
    "hash": "058bbb4884dca741715548dc8689daaa712f0bb17b4c8a018873ab55db552143"
   }
  }
 },
 "nbformat": 4,
 "nbformat_minor": 2
}
