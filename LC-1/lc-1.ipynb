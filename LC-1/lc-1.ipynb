{
 "cells": [
  {
   "cell_type": "markdown",
   "metadata": {},
   "source": [
    "# LeetCode 1\n",
    "![lc-1](./assets/question.jpg)\n",
    "![lc-1](./assets/constraints.jpg)"
   ]
  },
  {
   "cell_type": "markdown",
   "metadata": {},
   "source": [
    "> Observations:\n",
    "> - We are given an array of integers called \"nums\" as well as a target integer, \"target\"\n",
    "> - We want to find two numbers in the array such that the two numbers sum to total\n",
    "> - We may assume that there is always exactkly one solution to reach target\n",
    ">   - Subsequently, notice that this means we also have at least 2 numbers in the array for all test cases\n",
    "> - Also, cannot use the same integer in the array \"nums\" twice"
   ]
  },
  {
   "cell_type": "markdown",
   "metadata": {},
   "source": [
    "![lc-1-ex1](./assets/ex1.jpg)\n",
    "![lc-1-ex2](./assets/ex2.jpg)\n",
    "![lc-1-ex3](./assets/ex3.jpg)"
   ]
  },
  {
   "cell_type": "markdown",
   "metadata": {},
   "source": [
    "> Notes:\n",
    "> - For example 1, the number at index 0 and 1 are the answers to the solution since (nums[0] = 2) + (nums[1] = 7) = 9\n",
    "> - Note that we return the solution as an array of the two numbers that sum to \"target\"\n",
    "> - Of course, the most simple solution would be to traverse the array using a double for loop; excusing elements that share the same index, and finding the element in the array that matches\n",
    ">   -  Or in other words, find a num[j] such that num[j] = target - num[i]\n",
    "> - However, there is definitely a more time efficient solution, but this solution sacrifices some memory as it will utilise a hashmap\n",
    "> - Particularly, the hashmap will consist of key-value pairs where the keys = target - num[i] and the values = i, and so if we come across a value that is in the hashmap, it's our desired second number to reach \"target\""
   ]
  },
  {
   "cell_type": "markdown",
   "metadata": {},
   "source": [
    "> ### Algorithm\n",
    "> - We need a hashmap to store the key-value pairs for key = difference = target - nums[i], and value = i called \"hashmap\"\n",
    "> - While traversing the array, we add the key-value pairs into the hashmap\n",
    "> - if nums[i] is a value in the hashmap, then return an array [hashmap[nums[i]], i]"
   ]
  },
  {
   "cell_type": "code",
   "execution_count": 3,
   "metadata": {},
   "outputs": [],
   "source": [
    "class Solution:\n",
    "    def twoSum(self, nums, target):\n",
    "        length = len(nums)\n",
    "        hashmap = {}\n",
    "        for i in range(length):\n",
    "            if (nums[i] in hashmap):\n",
    "                return [hashmap[nums[i]], i]\n",
    "            hashmap[target - nums[i]] = i"
   ]
  },
  {
   "cell_type": "code",
   "execution_count": 4,
   "metadata": {},
   "outputs": [
    {
     "name": "stdout",
     "output_type": "stream",
     "text": [
      "Ex 1:\n",
      " Result: [0, 1]\n",
      " Desire: [0,1]\n",
      "Ex 2:\n",
      " Result: [1, 2]\n",
      " Desire: [1,2]\n",
      "Ex 3:\n",
      " Result: [0, 1]\n",
      " Desire: [0,1]\n"
     ]
    }
   ],
   "source": [
    "sol = Solution()\n",
    "print('Ex 1:')\n",
    "print(' Result:', sol.twoSum([2,7,11,15], 9))\n",
    "print(' Desire: [0,1]')\n",
    "print('Ex 2:')\n",
    "print(' Result:', sol.twoSum([3,2,4], 6))\n",
    "print(' Desire: [1,2]')\n",
    "print('Ex 3:')\n",
    "print(' Result:', sol.twoSum([3,3], 6))\n",
    "print(' Desire: [0,1]')"
   ]
  },
  {
   "cell_type": "markdown",
   "metadata": {},
   "source": [
    "> ### Final Verdict\n",
    "> - Note that we end up traversing the array once, this is an O(n) process, where n is the length of array, \"nums.\" In addition, search the hashmap is an O(1) process and so the overall time complexity of this algorithm is O(n)\n",
    "> - In terms of the space complexity, in the worst case scenario, this could store n key-value pairs. Therefore, we arrive at an O(n) space complexity for this algorithm as well"
   ]
  }
 ],
 "metadata": {
  "kernelspec": {
   "display_name": "Python 3.9.5 64-bit",
   "language": "python",
   "name": "python3"
  },
  "language_info": {
   "codemirror_mode": {
    "name": "ipython",
    "version": 3
   },
   "file_extension": ".py",
   "mimetype": "text/x-python",
   "name": "python",
   "nbconvert_exporter": "python",
   "pygments_lexer": "ipython3",
   "version": "3.9.5"
  },
  "orig_nbformat": 4,
  "vscode": {
   "interpreter": {
    "hash": "058bbb4884dca741715548dc8689daaa712f0bb17b4c8a018873ab55db552143"
   }
  }
 },
 "nbformat": 4,
 "nbformat_minor": 2
}
