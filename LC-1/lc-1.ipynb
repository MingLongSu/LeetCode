{
 "cells": [
  {
   "cell_type": "markdown",
   "metadata": {},
   "source": [
    "# LeetCode 1\n",
    "![lc-1](./assets/question.jpg)\n",
    "![lc-1](./assets/constraints.jpg)"
   ]
  },
  {
   "cell_type": "markdown",
   "metadata": {},
   "source": [
    "> Observations:\n",
    "> - We are given an array of integers called \"nums\" as well as a target integer, \"target\"\n",
    "> - We want to find two numbers in the array such that the two numbers sum to total\n",
    "> - We may assume that there is always exactkly one solution to reach target\n",
    ">   - Subsequently, notice that this means we also have at least 2 numbers in the array for all test cases\n",
    "> - Also, cannot use the same integer in the array \"nums\" twice"
   ]
  },
  {
   "cell_type": "markdown",
   "metadata": {},
   "source": [
    "![lc-1-ex1](./assets/ex1.jpg)\n",
    "![lc-1-ex2](./assets/ex2.jpg)\n",
    "![lc-1-ex3](./assets/ex3.jpg)"
   ]
  },
  {
   "cell_type": "markdown",
   "metadata": {},
   "source": [
    "> Notes:\n",
    "> - For example 1, the number at index 0 and 1 are the answers to the solution since (nums[0] = 2) + (nums[1] = 7) = 9\n",
    "> - Note that we return the solution as an array of the two numbers that sum to \"target\"\n",
    "> - Of course, the most simple solution would be to traverse the array using a double for loop; excusing elements that share the same index, and finding the element in the array that matches\n",
    ">   -  Or in other words, find a num[j] such that num[j] = target - num[i]\n",
    "> - However, there is definitely a more time efficient solution, but this solution sacrifices some memory as it will utilise a hashmap\n",
    "> - Particularly, the hashmap will consist of key-value pairs where the keys = target - num[i] and the values = i, and so if we come across a value that is in the hashmap, that is our desired second number to reach \"target\""
   ]
  }
 ],
 "metadata": {
  "kernelspec": {
   "display_name": "Python 3.9.5 64-bit",
   "language": "python",
   "name": "python3"
  },
  "language_info": {
   "name": "python",
   "version": "3.9.5"
  },
  "orig_nbformat": 4,
  "vscode": {
   "interpreter": {
    "hash": "058bbb4884dca741715548dc8689daaa712f0bb17b4c8a018873ab55db552143"
   }
  }
 },
 "nbformat": 4,
 "nbformat_minor": 2
}
