{
 "cells": [
  {
   "cell_type": "markdown",
   "metadata": {},
   "source": [
    "# LeetCode 1\n",
    "![lc-1](./assets/question.jpg)\n",
    "![lc-1](./assets/constraints.jpg)"
   ]
  },
  {
   "cell_type": "markdown",
   "metadata": {},
   "source": [
    "> Observations:\n",
    "> - We are given an array of integers called \"nums\" as well as a target integer, \"target\"\n",
    "> - We want to find two numbers in the array such that the two numbers sum to total\n",
    "> - We may assume that there is always exactkly one solution to reach target\n",
    ">   - Subsequently, notice that this means we also have at least 2 numbers in the array for all test cases"
   ]
  }
 ],
 "metadata": {
  "kernelspec": {
   "display_name": "Python 3.9.5 64-bit",
   "language": "python",
   "name": "python3"
  },
  "language_info": {
   "name": "python",
   "version": "3.9.5"
  },
  "orig_nbformat": 4,
  "vscode": {
   "interpreter": {
    "hash": "058bbb4884dca741715548dc8689daaa712f0bb17b4c8a018873ab55db552143"
   }
  }
 },
 "nbformat": 4,
 "nbformat_minor": 2
}
