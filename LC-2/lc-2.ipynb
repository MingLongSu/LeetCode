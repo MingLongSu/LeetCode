{
 "cells": [
  {
   "cell_type": "markdown",
   "metadata": {},
   "source": [
    "# LeetCode 2\n",
    "![lc-2](./assets/question.jpg)"
   ]
  },
  {
   "cell_type": "markdown",
   "metadata": {},
   "source": [
    "> Observations:\n",
    "> - Digits are stored in reverse order\n",
    ">   - This makes summation process simple as the math is now from left to right\n",
    ">   - Moreover, this makes carrying digits simpler as well\n",
    "> - Each node contains a single digit\n",
    "> - May assume there are no leading zeroes (just a sanity check)\n",
    "> - Returns a linked-list"
   ]
  },
  {
   "cell_type": "markdown",
   "metadata": {},
   "source": [
    "![lc-2-ex1](./assets/ex1.jpg)"
   ]
  },
  {
   "cell_type": "markdown",
   "metadata": {},
   "source": [
    "> Notes:\n",
    "> - 2 + 5 = 7\n",
    "> - 4 + 6 = 10 -> So take 10 % 10 = 0 (digit) and (10 / 10) = 1 (carry-over)\n",
    "> - This addition occurs while next != None"
   ]
  },
  {
   "cell_type": "markdown",
   "metadata": {},
   "source": [
    "![lc-2-ex2](./assets/ex2.jpg)"
   ]
  },
  {
   "cell_type": "markdown",
   "metadata": {},
   "source": [
    "> Notes:\n",
    "> - 0 + 0 = 0\n",
    "> - l1 = l1.next and l2 = l2.next\n",
    "> - Since l1.value = None and l2.value = None now, then end"
   ]
  },
  {
   "cell_type": "markdown",
   "metadata": {},
   "source": [
    "![lc-2-ex3](./assets/ex3.jpg)"
   ]
  },
  {
   "cell_type": "markdown",
   "metadata": {},
   "source": [
    "> Notes:\n",
    "> - 9 + 9 = 18 -> 18 % 10 = 8 (digit) -> int(18 / 10) = 1 (carry-over) \n",
    "> - 9 + 9 + 1 (carry-over) = 19 -> 19 % 10 = 9 (digit) -> int(19 / 10) = 1 (carry-over)\n",
    "> - 9 + 9 + 1 (carry-over) = 19 -> 19 % 10 = 9 (digit) -> int(19 / 10) = 1 (carry-over)\n",
    "> - 9 + 9 + 1 (carry-over) = 19 -> 19 % 10 = 9 (digit) -> int(19 / 10) = 1 (carry-over)\n",
    "> - When calling l2 = l2.next, note that l2.value = None, we must make sure that l2 is not None when we type l2.value (a similar argument may be made for l1)\n",
    "> - Since l2 = None, then math will be as follows:\n",
    "> - 9 + 1 (carry-over) = 10 -> 10 % 10 = 0 (digit) -> int(10 / 10) = 1 (carry-over)\n",
    "> - 9 + 1 (carry-over) = 10 -> 10 % 10 = 0 (digit) -> int(10 / 10) = 1 (carry-over)\n",
    "> - 9 + 1 (carry-over) = 10 -> 10 % 10 = 0 (digit) -> int(10 / 10) = 1 (carry-over)\n",
    "> - Once the end of both l1 and l2 have been reached, then we must check if there is still a carry-over\n",
    ">   - If carry-over, we connect one more component to the linked list\n",
    ">   - Else, do nothing and should be done"
   ]
  }
 ],
 "metadata": {
  "kernelspec": {
   "display_name": "Python 3.9.5 64-bit",
   "language": "python",
   "name": "python3"
  },
  "language_info": {
   "codemirror_mode": {
    "name": "ipython",
    "version": 3
   },
   "file_extension": ".py",
   "mimetype": "text/x-python",
   "name": "python",
   "nbconvert_exporter": "python",
   "pygments_lexer": "ipython3",
   "version": "3.9.5"
  },
  "orig_nbformat": 4,
  "vscode": {
   "interpreter": {
    "hash": "058bbb4884dca741715548dc8689daaa712f0bb17b4c8a018873ab55db552143"
   }
  }
 },
 "nbformat": 4,
 "nbformat_minor": 2
}
