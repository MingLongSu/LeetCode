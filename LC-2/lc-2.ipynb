{
 "cells": [
  {
   "cell_type": "markdown",
   "metadata": {},
   "source": [
    "# LeetCode 2\n",
    "![lc-2](./assets/question.jpg)"
   ]
  },
  {
   "cell_type": "markdown",
   "metadata": {},
   "source": [
    "> Observations:\n",
    "> - Digits are stored in reverse order\n",
    ">   - This makes summation process simple as the math is now from left to right\n",
    ">   - Moreover, this makes carrying digits simpler as well\n",
    "> - Each node contains a single digit\n",
    "> - May assume there are no leading zeroes (just a sanity check)\n",
    "> - Returns a linked-list"
   ]
  },
  {
   "cell_type": "markdown",
   "metadata": {},
   "source": [
    "![lc-2-ex1](./assets/ex1.jpg)"
   ]
  },
  {
   "cell_type": "markdown",
   "metadata": {},
   "source": [
    "> Notes:\n",
    "> - 2 + 5 = 7\n",
    "> - 4 + 6 = 10 -> So take 10 % 10 = 0 (digit) and (10 / 10) = 1 (carry-over)\n",
    "> - This addition occurs while next != None"
   ]
  },
  {
   "cell_type": "markdown",
   "metadata": {},
   "source": [
    "![lc-2-ex2](./assets/ex2.jpg)"
   ]
  },
  {
   "cell_type": "markdown",
   "metadata": {},
   "source": [
    "> Notes:\n",
    "> - 0 + 0 = 0\n",
    "> - l1 = l1.next and l2 = l2.next\n",
    "> - Since l1.value = None and l2.value = None now, then end"
   ]
  },
  {
   "cell_type": "markdown",
   "metadata": {},
   "source": [
    "![lc-2-ex3](./assets/ex3.jpg)"
   ]
  },
  {
   "cell_type": "markdown",
   "metadata": {},
   "source": [
    "> Notes:\n",
    "> - 9 + 9 = 18 -> 18 % 10 = 8 (digit) -> int(18 / 10) = 1 (carry-over) \n",
    "> - 9 + 9 + 1 (carry-over) = 19 -> 19 % 10 = 9 (digit) -> int(19 / 10) = 1 (carry-over)\n",
    "> - 9 + 9 + 1 (carry-over) = 19 -> 19 % 10 = 9 (digit) -> int(19 / 10) = 1 (carry-over)\n",
    "> - 9 + 9 + 1 (carry-over) = 19 -> 19 % 10 = 9 (digit) -> int(19 / 10) = 1 (carry-over)\n",
    "> - When calling l2 = l2.next, note that l2.value = None, we must make sure that l2 is not None when we type l2.value (a similar argument may be made for l1)\n",
    "> - Since l2 = None, then math will be as follows:\n",
    "> - 9 + 1 (carry-over) = 10 -> 10 % 10 = 0 (digit) -> int(10 / 10) = 1 (carry-over)\n",
    "> - 9 + 1 (carry-over) = 10 -> 10 % 10 = 0 (digit) -> int(10 / 10) = 1 (carry-over)\n",
    "> - 9 + 1 (carry-over) = 10 -> 10 % 10 = 0 (digit) -> int(10 / 10) = 1 (carry-over)\n",
    "> - Once the end of both l1 and l2 have been reached, then we must check if there is still a carry-over\n",
    ">   - If carry-over, we connect one more component to the linked list\n",
    ">   - Else, do nothing and should be done"
   ]
  },
  {
   "cell_type": "markdown",
   "metadata": {},
   "source": [
    "> ### Final Algorithm\n",
    "> - We also need to instantiate a listnode object to start from (init_node)\n",
    "> - We need a variable \"carry\" = 0 to store the integer that is to be carried over\n",
    "> - while l1 or l2 or carry: (until l1 and l2 and carry resolve to None)\n",
    "> - if l1 == None, then result = l2.value + carry-over -> digit = result % 10 -> carry-over = int(result / 10)\n",
    "> - elif l2 == None, then result = l1.value + carry-over -> digit = result % 10 -> carry-over = int(result / 10)\n",
    "> - else result = l1.value + l2.value + carry-over -> digit = result % 10 -> carry-over = int(result / 10)\n",
    "> - if l1 (is not None) then l1 = l1.next\n",
    "> - if l2 (is not None) then l2 = l2.next\n",
    "> - if l1 == None and l2 == None and carry-over (is not zero), then append one last list node for the carry-over digit"
   ]
  },
  {
   "cell_type": "markdown",
   "metadata": {},
   "source": [
    "## Initial Implementation "
   ]
  },
  {
   "cell_type": "code",
   "execution_count": null,
   "metadata": {},
   "outputs": [],
   "source": [
    "# Definition for singly-linked list.\n",
    "class ListNode:\n",
    "    def __init__(self, val=0, next=None):\n",
    "        self.val = val\n",
    "        self.next = next\n",
    "\n",
    "class Solution:\n",
    "    def addTwoNumbers(self, l1: ListNode, l2: ListNode) -> ListNode:\n",
    "        carry = 0\n",
    "        init_node = ListNode()\n",
    "        current = init_node\n",
    "        while l1 or l2 or carry:\n",
    "            if (l1 == None and l2 == None):\n",
    "                result = 0 + carry\n",
    "                digit = result % 10\n",
    "                carry = int(result / 10)\n",
    "                new_node = ListNode(digit)\n",
    "                current.next = new_node\n",
    "                current = new_node\n",
    "            elif (l1 == None):\n",
    "                result = l2.val + carry\n",
    "                digit = result % 10\n",
    "                carry = int(result / 10)\n",
    "                new_node = ListNode(digit)\n",
    "                current.next = new_node\n",
    "                current = new_node \n",
    "            elif (l2 == None):\n",
    "                result = l1.val + carry\n",
    "                digit = result % 10\n",
    "                carry = int(result / 10)\n",
    "                new_node = ListNode(digit)\n",
    "                current.next = new_node\n",
    "                current = new_node \n",
    "            else:\n",
    "                result = l1.val + l2.val + carry\n",
    "                digit = result % 10\n",
    "                carry = int(result / 10)\n",
    "                new_node = ListNode(digit)\n",
    "                current.next = new_node\n",
    "                current = new_node\n",
    "            \n",
    "            if l1:\n",
    "                l1 = l1.next\n",
    "            \n",
    "            if l2: \n",
    "                l2 = l2.next\n",
    "                \n",
    "        return init_node.next"
   ]
  },
  {
   "cell_type": "markdown",
   "metadata": {},
   "source": [
    "## Final Implementation\n",
    "Noticeably, there is a lot of repetitve math that can be removed. So I provide this secondary implementation that cleans up much of the code."
   ]
  },
  {
   "cell_type": "code",
   "execution_count": null,
   "metadata": {},
   "outputs": [],
   "source": [
    "# Definition for singly-linked list.\n",
    "class ListNode:\n",
    "    def __init__(self, val=0, next=None):\n",
    "        self.val = val\n",
    "        self.next = next\n",
    "class Solution:\n",
    "    def addTwoNumbers(self, l1: ListNode, l2: ListNode) -> ListNode:\n",
    "        carry = 0\n",
    "        init_node = ListNode()\n",
    "        current = init_node\n",
    "        while l1 or l2 or carry:\n",
    "            l1_val = l1.val if l1 else 0\n",
    "            l2_val = l2.val if l2 else 0\n",
    "            result = l1_val + l2_val + carry\n",
    "            digit = result % 10\n",
    "            carry = int(result / 10)\n",
    "            new_node = ListNode(digit)\n",
    "            current.next = new_node\n",
    "            current = new_node\n",
    "            l1 = l1.next if l1 else None\n",
    "            l2 = l2.next if l2 else None\n",
    "        return init_node.next"
   ]
  },
  {
   "cell_type": "markdown",
   "metadata": {},
   "source": [
    "> ### Final Verdict\n",
    "> - Note that we use the linked list data structure, this results in a space complexity of O(max(m, n)) where the space allocated is at least the length of the longest integer while at most with the inclusion of an addition ListNode due to the carry over. In terms of time complexity, the efficiency of the algorithm is \n",
    "O(max(m, n)) since we traverse the linked lists for until the longest of the two linked lists hsa finally reached None. "
   ]
  }
 ],
 "metadata": {
  "kernelspec": {
   "display_name": "Python 3.9.5 64-bit",
   "language": "python",
   "name": "python3"
  },
  "language_info": {
   "codemirror_mode": {
    "name": "ipython",
    "version": 3
   },
   "file_extension": ".py",
   "mimetype": "text/x-python",
   "name": "python",
   "nbconvert_exporter": "python",
   "pygments_lexer": "ipython3",
   "version": "3.9.5"
  },
  "orig_nbformat": 4,
  "vscode": {
   "interpreter": {
    "hash": "058bbb4884dca741715548dc8689daaa712f0bb17b4c8a018873ab55db552143"
   }
  }
 },
 "nbformat": 4,
 "nbformat_minor": 2
}
