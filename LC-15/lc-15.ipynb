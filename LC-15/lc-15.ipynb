{
 "cells": [
  {
   "cell_type": "markdown",
   "metadata": {},
   "source": [
    "# LeetCode 15\n",
    "![lc-15](./assets/question.jpg)\n",
    "![lc-15](./assets/constraints.jpg)"
   ]
  },
  {
   "cell_type": "markdown",
   "metadata": {},
   "source": [
    "> Observations:\n",
    "> - We must append all solutions such that nums[i], nums[j], and nums[k] where i, j, and k are indices and are not the same as one another\n",
    "> - The returned array of solutions must also be such that the solutions are unique\n",
    "> - Note there will always be at least 3 elements \n",
    "> - The most obvious route to finding solutions for this would be to use a triple for-loop to find all the possible combinations; however, although it delivers constant space, the time complexity is O(N^3) where N is the length of the input array"
   ]
  }
 ],
 "metadata": {
  "kernelspec": {
   "display_name": "Python 3.9.5 64-bit",
   "language": "python",
   "name": "python3"
  },
  "language_info": {
   "name": "python",
   "version": "3.9.5"
  },
  "orig_nbformat": 4,
  "vscode": {
   "interpreter": {
    "hash": "058bbb4884dca741715548dc8689daaa712f0bb17b4c8a018873ab55db552143"
   }
  }
 },
 "nbformat": 4,
 "nbformat_minor": 2
}
