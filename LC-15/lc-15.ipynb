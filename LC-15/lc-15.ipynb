{
 "cells": [
  {
   "cell_type": "markdown",
   "metadata": {},
   "source": [
    "# LeetCode 15\n",
    "![lc-15](./assets/question.jpg)\n",
    "![lc-15](./assets/constraints.jpg)"
   ]
  },
  {
   "cell_type": "markdown",
   "metadata": {},
   "source": [
    "> Observations:\n",
    "> - We must append all solutions such that nums[i], nums[j], and nums[k] where i, j, and k are indices and are not the same as one another\n",
    "> - The returned array of solutions must also be such that the solutions are unique\n",
    "> - Note there will always be at least 3 elements \n",
    "> - The most obvious route to finding solutions for this would be to use a triple for-loop to find all the possible combinations; however, although it delivers constant space, the time complexity is O(N^3) where N is the length of the input array"
   ]
  },
  {
   "cell_type": "markdown",
   "metadata": {},
   "source": [
    "![lc-15-ex1](./assets/ex1.jpg)\n",
    "![lc-15-ex2](./assets/ex2.jpg)\n",
    "![lc-15-ex3](./assets/ex3.jpg)"
   ]
  },
  {
   "cell_type": "markdown",
   "metadata": {},
   "source": [
    "> Notes:\n",
    "> - The order of the triplets does not matter, so long as they are unique triplets\n",
    "> - However, notice that the output triplets are in order from smallest to largest\n",
    "> - Notice that, unlike 2Sum, this question is not guaranteed to have a solution, and so an empty array is returned\n",
    "> - Notice that the following question can be summed up to \"find values a, b, and c such that a + b + c = 0\"\n",
    ">   - Then the question is simply a matter of finding b and c such that b + c = -a\n",
    ">   - Then this question becomes extremely similar to that of 2Sum where target = -a this time\n",
    ">   - However, since we do not want any repeats in the values for the triplets, then we could also sort the array before any operations are done: that way, if consecutive numbers in the array are the same, then we can skip them\n",
    ">   - Also, since i != j, i != k, and j != k. Specifically, since i != j and i != k, then we should also increment the pointers in those scenarios\n"
   ]
  },
  {
   "cell_type": "markdown",
   "metadata": {},
   "source": [
    "> ### Algorithm\n",
    "> - We need left and right pointers\n",
    "> - We need a results array\n",
    "> - We then need to sort the given array, nums\n",
    "> - We then traverse the array where our target is the negative of the current element of traversal\n",
    "> - Then while the left pointer is at a lesser position than the right pointer:\n",
    ">   - We calculate a difference where difference = target - b\n",
    ">   - Check whether left pointer equals the position of the target's position or nums[right] < difference or if the nums[left - 1] == nums[left], if true, then increment up left by 1 \n",
    ">   - Check whether right pointer equals the position of the target's position or nums[right] > difference or if the nums[right + 1] == nums[right], if true, then increment down right by 1\n",
    ">   - Then, if nums[right] == difference is true, then append the array, [target_index, left, right]\n",
    "> - Finally, we return the results array"
   ]
  },
  {
   "cell_type": "code",
   "execution_count": 50,
   "metadata": {},
   "outputs": [],
   "source": [
    "class Solution:\n",
    "    def threeSum(self, nums):\n",
    "        length = len(nums)\n",
    "        results = []\n",
    "        nums = sorted(nums)\n",
    "        for i in range(length):\n",
    "            if ((i > 0) and (nums[i] == nums[i - 1])):\n",
    "                continue\n",
    "            target = -nums[i]\n",
    "            left, right = i + 1, length - 1\n",
    "            while (left < right):\n",
    "                diff = target - nums[left]\n",
    "                if (nums[right] > diff):\n",
    "                    right -= 1\n",
    "                elif (nums[right] < diff):\n",
    "                    left += 1\n",
    "                else:\n",
    "                    results.append([nums[i], nums[left], nums[right]])\n",
    "                    left += 1\n",
    "                    while ((nums[left] == nums[left - 1]) and (left < right)):\n",
    "                        left += 1\n",
    "        return results"
   ]
  },
  {
   "cell_type": "code",
   "execution_count": 51,
   "metadata": {},
   "outputs": [
    {
     "name": "stdout",
     "output_type": "stream",
     "text": [
      "Ex 1:\n",
      " Result: [[-1, -1, 2], [-1, 0, 1]]\n",
      " Desire: [[-1,-1,2],[-1,0,1]]\n",
      "Ex 2:\n",
      " Result: []\n",
      " Desire: []\n",
      "Ex 3:\n",
      " Result: [[0, 0, 0]]\n",
      " Desire: [[0,0,0]]\n"
     ]
    }
   ],
   "source": [
    "sol = Solution()\n",
    "print('Ex 1:')\n",
    "print(' Result:', sol.threeSum(nums = [-1,0,1,2,-1,-4]))\n",
    "print(' Desire: [[-1,-1,2],[-1,0,1]]')\n",
    "print('Ex 2:')\n",
    "print(' Result:', sol.threeSum(nums = [0,1,1]))\n",
    "print(' Desire: []')\n",
    "print('Ex 3:')\n",
    "print(' Result:', sol.threeSum(nums = [0,0,0]))\n",
    "print(' Desire: [[0,0,0]]')"
   ]
  }
 ],
 "metadata": {
  "kernelspec": {
   "display_name": "Python 3.9.5 64-bit",
   "language": "python",
   "name": "python3"
  },
  "language_info": {
   "codemirror_mode": {
    "name": "ipython",
    "version": 3
   },
   "file_extension": ".py",
   "mimetype": "text/x-python",
   "name": "python",
   "nbconvert_exporter": "python",
   "pygments_lexer": "ipython3",
   "version": "3.9.5"
  },
  "orig_nbformat": 4,
  "vscode": {
   "interpreter": {
    "hash": "058bbb4884dca741715548dc8689daaa712f0bb17b4c8a018873ab55db552143"
   }
  }
 },
 "nbformat": 4,
 "nbformat_minor": 2
}
