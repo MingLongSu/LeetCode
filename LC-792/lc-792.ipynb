{
 "cells": [
  {
   "cell_type": "markdown",
   "metadata": {},
   "source": [
    "# LeetCode 792\n",
    "![lc-792](./assets/question.jpg)\n",
    "![lc-792](./assets/constraints.jpg)"
   ]
  },
  {
   "cell_type": "markdown",
   "metadata": {},
   "source": [
    "> Observations:\n",
    "> - Similar to LeetCode 392, a word is only a subsequence of s if the letters in words[i] are in s and maintain the same ordering\n",
    "> - The length of each word will always be at least 1 letter long, and there will always be at least 1 word in the words array\n",
    "> - Each word in the words array and s consist of only lowercase English letters\n",
    "> - Noticeably, the words array is quite long, and so we may have to consider more efficient algorithms\n",
    "> - We have to return the number of strings that are subsequences to s"
   ]
  },
  {
   "cell_type": "markdown",
   "metadata": {},
   "source": [
    "![lc-792-ex1](./assets/ex1.jpg)\n",
    "![lc-792-ex2](./assets/ex2.jpg)"
   ]
  },
  {
   "cell_type": "markdown",
   "metadata": {},
   "source": [
    "> Notes:\n",
    "> - For example, there are 3 subsequences to s since \"a\", \"acd\", and \"ace\" all consist of letters that are ordered consistently with s and have letters from s\n",
    "> - The same can be said for example 2\n",
    "> - Since we are dealing with 1 to 5000 possible words per test case, we need to determine a better way for checking whether a word is a subsequence to s\n",
    "> - Although using a hashmap to store the amount of appearances per letter is good idea, it fails at satisfying the condition for subsequences to also consider order of the letters\n",
    "> - Since order matters, we could use a hashmap to store all the indices of each letter in string s\n",
    "> - Then, for each word, and each letter, if that letter is present in the hashmap, then we need to find the next smallest index in order\n",
    "> - But if the result of looking for the next index comes out to be out of bounds for a particular letter, then it must be the case that it is not a subsequence\n",
    ">   - In addition, if a letter in words[i] is not in the hashmap, then the word must also not be a subsequence of string s\n",
    "> - Otherwise, if every letter can be found in the string s, in order, and not out of bounds, then we it must be true that the word is a subsequence"
   ]
  }
 ],
 "metadata": {
  "kernelspec": {
   "display_name": "Python 3.9.5 64-bit",
   "language": "python",
   "name": "python3"
  },
  "language_info": {
   "codemirror_mode": {
    "name": "ipython",
    "version": 3
   },
   "file_extension": ".py",
   "mimetype": "text/x-python",
   "name": "python",
   "nbconvert_exporter": "python",
   "pygments_lexer": "ipython3",
   "version": "3.9.5"
  },
  "orig_nbformat": 4,
  "vscode": {
   "interpreter": {
    "hash": "058bbb4884dca741715548dc8689daaa712f0bb17b4c8a018873ab55db552143"
   }
  }
 },
 "nbformat": 4,
 "nbformat_minor": 2
}
