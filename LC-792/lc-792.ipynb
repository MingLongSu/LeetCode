{
 "cells": [
  {
   "cell_type": "markdown",
   "metadata": {},
   "source": [
    "# LeetCode 792\n",
    "![lc-792](./assets/question.jpg)\n",
    "![lc-792](./assets/constraints.jpg)"
   ]
  },
  {
   "cell_type": "markdown",
   "metadata": {},
   "source": [
    "> Observations:\n",
    "> - Similar to LeetCode 392, a word is only a subsequence of s if the letters in words[i] are in s and maintain the same ordering\n",
    "> - The length of each word will always be at least 1 letter long, and there will always be at least 1 word in the words array\n",
    "> - Each word in the words array and s consist of only lowercase English letters\n",
    "> - Noticeably, the words array is quite long, and so we may have to consider more efficient algorithms\n",
    "> - We have to return the number of strings that are subsequences to s"
   ]
  },
  {
   "cell_type": "markdown",
   "metadata": {},
   "source": [
    "![lc-792-ex1](./assets/ex1.jpg)\n",
    "![lc-792-ex2](./assets/ex2.jpg)"
   ]
  },
  {
   "cell_type": "markdown",
   "metadata": {},
   "source": [
    "> Notes:\n",
    "> - For example, there are 3 subsequences to s since \"a\", \"acd\", and \"ace\" all consist of letters that are ordered consistently with s and have letters from s\n",
    "> - The same can be said for example 2\n",
    "> - Since we are dealing with 1 to 5000 possible words per test case, we need to determine a better way for checking whether a word is a subsequence to s\n",
    "> - Although using a hashmap to store the amount of appearances per letter is good idea, it fails at satisfying the condition for subsequences to also consider order of the letters\n",
    "> - Since order matters, we could use a hashmap to store all the indices of each letter in string s\n",
    "> - Then, for each word, and each letter, if that letter is present in the hashmap, then we need to find the next smallest index in order\n",
    "> - But if the result of looking for the next index comes out to be out of bounds for a particular letter, then it must be the case that it is not a subsequence\n",
    ">   - In addition, if a letter in words[i] is not in the hashmap, then the word must also not be a subsequence of string s\n",
    "> - Otherwise, if every letter can be found in the string s, in order, and not out of bounds, then we it must be true that the word is a subsequence"
   ]
  },
  {
   "cell_type": "markdown",
   "metadata": {},
   "source": [
    "> ### Algorithm\n",
    "> - We need a variable to store the number of valid subsequences\n",
    "> - We need a hashmap to store key-value pairs where keys are the letters of the word s, and values are the arrays storing the indices of each letter's occurance in string s\n",
    "> - Then we must loop through each word and check whether they are valid subsequences using a helper\n",
    ">   - To check, we must have an index value to store the previous index of the last checked letter to ensure order is kept (this should be initially -1)\n",
    ">   - In addition, if the letter is present in the hashmap, then set the variable for previous index to the updated index from the hashmap\n",
    ">   - If the suggested index goes out of bounds or the letter is not in the hashmap, then return False\n",
    "> - Once all the letters of the word have passed, then we return True - this means we increment the \"valid_subsequences\" variable"
   ]
  },
  {
   "cell_type": "code",
   "execution_count": 40,
   "metadata": {},
   "outputs": [],
   "source": [
    "from bisect import bisect_left\n",
    "\n",
    "class Solution:\n",
    "    def numMatchingSubseq(self, s, words):\n",
    "        valid_subsequences = 0\n",
    "        s_indices = {}\n",
    "        for i in range(len(s)):\n",
    "            if (s[i] not in s_indices):\n",
    "                s_indices[s[i]] = [i]\n",
    "            else:\n",
    "                s_indices[s[i]].append(i)\n",
    "            \n",
    "        def is_valid_subsequence(word):\n",
    "            prev_index = -1\n",
    "            for letter in word:\n",
    "                if (letter not in s_indices):\n",
    "                    return False\n",
    "                index = bisect_left(s_indices[letter], prev_index)\n",
    "                if (index == len(s_indices[letter])):\n",
    "                    return False\n",
    "                prev_index = s_indices[letter][index] + 1\n",
    "            return True\n",
    "\n",
    "        for word in words:\n",
    "            if (is_valid_subsequence(word)):\n",
    "                valid_subsequences += 1\n",
    "            \n",
    "        return valid_subsequences"
   ]
  },
  {
   "cell_type": "code",
   "execution_count": 41,
   "metadata": {},
   "outputs": [
    {
     "name": "stdout",
     "output_type": "stream",
     "text": [
      "Ex 1:\n",
      " Result: 3\n",
      " Desire: 3\n",
      "Ex 2:\n",
      " Result: 2\n",
      " Desire: 2\n"
     ]
    }
   ],
   "source": [
    "sol = Solution()\n",
    "print('Ex 1:')\n",
    "print(' Result:', sol.numMatchingSubseq(s = \"abcde\", words = [\"a\",\"bb\",\"acd\",\"ace\"]))\n",
    "print(' Desire: 3')\n",
    "print('Ex 2:')\n",
    "print(' Result:', sol.numMatchingSubseq(s = \"dsahjpjauf\", words = [\"ahjpjau\",\"ja\",\"ahbwzgqnuk\",\"tnmlanowax\"]))\n",
    "print(' Desire: 2')"
   ]
  },
  {
   "cell_type": "markdown",
   "metadata": {},
   "source": [
    "> ### Final Verdict\n",
    "> - Notice that we move through each word in words, each character in word, and use bisect_left to find the indices, then this gives a time complexity of O(m * n * log(a)), where m, n, and a are the lengths of words array, the length of each word, and the length of string s, respectively\n",
    "> - In terms of space complexity, since we only use a hashmap to store the indices of each letter in arrays, the memory allocated is the length of string s, and so the space complexity of O(s)"
   ]
  }
 ],
 "metadata": {
  "kernelspec": {
   "display_name": "Python 3.9.5 64-bit",
   "language": "python",
   "name": "python3"
  },
  "language_info": {
   "codemirror_mode": {
    "name": "ipython",
    "version": 3
   },
   "file_extension": ".py",
   "mimetype": "text/x-python",
   "name": "python",
   "nbconvert_exporter": "python",
   "pygments_lexer": "ipython3",
   "version": "3.9.5"
  },
  "orig_nbformat": 4,
  "vscode": {
   "interpreter": {
    "hash": "058bbb4884dca741715548dc8689daaa712f0bb17b4c8a018873ab55db552143"
   }
  }
 },
 "nbformat": 4,
 "nbformat_minor": 2
}
