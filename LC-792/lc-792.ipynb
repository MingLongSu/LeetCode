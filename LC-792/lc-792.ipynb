{
 "cells": [
  {
   "cell_type": "markdown",
   "metadata": {},
   "source": [
    "# LeetCode 792\n",
    "![lc-792](./assets/question.jpg)\n",
    "![lc-792](./assets/constraints.jpg)"
   ]
  },
  {
   "cell_type": "markdown",
   "metadata": {},
   "source": [
    "> Observations:\n",
    "> - Similar to LeetCode 392, a word is only a subsequence of s if the letters in words[i] are in s and maintain the same ordering\n",
    "> - The length of each word will always be at least 1 letter long, and there will always be at least 1 word in the words array\n",
    "> - Each word in the words array and s consist of only lowercase English letters\n",
    "> - Noticeably, the words array is quite long, and so we may have to consider more efficient algorithms"
   ]
  }
 ],
 "metadata": {
  "kernelspec": {
   "display_name": "Python 3.9.5 64-bit",
   "language": "python",
   "name": "python3"
  },
  "language_info": {
   "name": "python",
   "version": "3.9.5"
  },
  "orig_nbformat": 4,
  "vscode": {
   "interpreter": {
    "hash": "058bbb4884dca741715548dc8689daaa712f0bb17b4c8a018873ab55db552143"
   }
  }
 },
 "nbformat": 4,
 "nbformat_minor": 2
}
