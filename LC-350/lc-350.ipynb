{
 "cells": [
  {
   "cell_type": "markdown",
   "metadata": {},
   "source": [
    "# LeetCode 350\n",
    "![lc-350](./assets/question.jpg)\n",
    "![lc-350](./assets/constraints.jpg)"
   ]
  },
  {
   "cell_type": "markdown",
   "metadata": {},
   "source": [
    "> Observations:\n",
    "> - Note that the intersection means all elements that appear in both arrays\n",
    "> - Unlike a set, they result must show repetition if a singular type of element appears more than twice in both sets\n",
    "> - Note that the given arrays will always have at least 1 element\n",
    "> - The result may be returned in any order"
   ]
  },
  {
   "cell_type": "markdown",
   "metadata": {},
   "source": [
    "![lc-350-ex1](./assets/ex1.jpg)\n",
    "![lc-350-ex2](./assets/ex2.jpg)\n",
    "![lc-350-follow-up](./assets/follow_up.jpg)"
   ]
  },
  {
   "cell_type": "markdown",
   "metadata": {},
   "source": [
    "> Notes:\n",
    "> - Since the result cannot be a set of the intersecting values, then frequency of appearance is something that we must take into account\n",
    "> - Similar to the anagrams question, since we are taking into account frequency of appearance, we could deploy the use of a hashmap that consists of key-value pairs to monitor the frequency of numbers in the longer list (especially considering the follow up's last question)\n",
    "> - And each time we have a value from nums2 appear in the hashmap for nums1, then we decrement and possibly append the number to a new array"
   ]
  },
  {
   "cell_type": "markdown",
   "metadata": {},
   "source": [
    "> ### Algorithm\n",
    "> - We need a hashmap to store the key-value pairs for frequency of numbers\n",
    "> - We need a list to append all intersecting digits\n",
    "> - First, we check which array is larger, if the second is larger, then nums1 should point to nums2\n",
    "> - We then add all values in nums1 to a hashmap, and record the frequencies for each number\n",
    "> - Then we check if any values in nums2 are in the hashmap with O(1) lookup \n",
    ">   - If a element of the num2 array is present in the hashmap, then we decrement the frequency counter (to prevent over counting of intersecting numbers) and append it to the returning array"
   ]
  }
 ],
 "metadata": {
  "kernelspec": {
   "display_name": "Python 3.9.5 64-bit",
   "language": "python",
   "name": "python3"
  },
  "language_info": {
   "name": "python",
   "version": "3.9.5"
  },
  "orig_nbformat": 4,
  "vscode": {
   "interpreter": {
    "hash": "058bbb4884dca741715548dc8689daaa712f0bb17b4c8a018873ab55db552143"
   }
  }
 },
 "nbformat": 4,
 "nbformat_minor": 2
}
