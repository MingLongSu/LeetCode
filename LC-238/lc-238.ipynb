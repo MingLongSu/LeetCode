{
 "cells": [
  {
   "cell_type": "markdown",
   "metadata": {},
   "source": [
    "# LeetCode 238\n",
    "![lc-238](./assets/question.jpg)\n",
    "![lc-238](./assets/constraints.jpg)"
   ]
  },
  {
   "cell_type": "markdown",
   "metadata": {},
   "source": [
    "> Observations:\n",
    "> - Notice that we are retuning an array of values that consist of numbers that are the products of all other numbers aside from the number originally at its index\n",
    "> - We may assume that the products do not lead to integer overflow and thus will not have to be concerned with that case\n",
    "> - There will always be at least 2 numbers in the array nums\n",
    "> - We must also write a solution in O(n) time and utilises O(1) space\n",
    "> - Of course, we could go through the array n^2 times and add the results of multiplication to their respective indices; however, this would have an O(n^2) time complexity which we don't want"
   ]
  },
  {
   "cell_type": "markdown",
   "metadata": {},
   "source": [
    "![lc-238-ex1](./assets/ex1.jpg)\n",
    "![lc-238-ex2](./assets/ex2.jpg)"
   ]
  },
  {
   "cell_type": "markdown",
   "metadata": {},
   "source": [
    "> Notes:\n",
    "> - For example 1, notice that index 0 resolves to 24 = 2 * 3 * 4, index 1 resolves to 12 = 1 * 3 * 4 and so on...\n",
    "> - For example 2, the same pattern can be noticed\n",
    "> - Notice from the question that the question gives an almost missable but MAJOR HINT: suffix and prefix multiplication\n",
    "> - Notice that each index is equal to the product of all values on the left and all the values on the right\n",
    "> - Since we are working with multiplication, suppose we have an array with the same length as nums but all values of the array are filled with 1s initially; call this the results array\n",
    "> - This means that starting with some accumulator on the left = 1, we can traverse the array from left to right while multiplying each value in the results to the accumulated prefix\n",
    "> - While also updating the prefix value by multiplying the number at num for that index to it - this makes sense as this value would be a prefix to the value ahead of it\n",
    "> - A similar argument may be made about the postfix solution, and the multiplication will result in the correct output\n",
    "> - Also note that this solution would be O(2n) where n is the length of the array nums, but that would simplify down to O(n), as required\n",
    "> - As for space complexity, notice that we don't make use of any extra data structures and the array used does not count, as offered in the question. Therefore, we achieved O(1) space complexity as well"
   ]
  },
  {
   "cell_type": "markdown",
   "metadata": {},
   "source": [
    "> ### Algorithm\n",
    "> - We first need to create an array with the same length as nums and set each value to 1, called results\n",
    "> - We need variables prefix and suffice which are set to 1 initially - this will tackle the minor case of numbers that rest at the ends of their respective arrays \n",
    "> - We first traverse the nums array from left to right \n",
    ">   - At each index of results, we multiply results[i] by prefix\n",
    ">   - Also, we update prefix by multiplying it by the prefix of the next value, that is nums[i]\n",
    "> - Secondly we traverse the nums array from right to left\n",
    ">   - At each index of results, we multiply results[j] by suffix\n",
    ">   - Also, we update prefix by multiplying it by the suffix of the next value, that is nums[j]\n",
    "> - We then return results and this should give us our solution"
   ]
  }
 ],
 "metadata": {
  "kernelspec": {
   "display_name": "Python 3.9.5 64-bit",
   "language": "python",
   "name": "python3"
  },
  "language_info": {
   "codemirror_mode": {
    "name": "ipython",
    "version": 3
   },
   "file_extension": ".py",
   "mimetype": "text/x-python",
   "name": "python",
   "nbconvert_exporter": "python",
   "pygments_lexer": "ipython3",
   "version": "3.9.5"
  },
  "orig_nbformat": 4,
  "vscode": {
   "interpreter": {
    "hash": "058bbb4884dca741715548dc8689daaa712f0bb17b4c8a018873ab55db552143"
   }
  }
 },
 "nbformat": 4,
 "nbformat_minor": 2
}
