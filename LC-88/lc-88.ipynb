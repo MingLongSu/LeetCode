{
 "cells": [
  {
   "cell_type": "markdown",
   "metadata": {},
   "source": [
    "# LeetCode 88\n",
    "![lc-88](./assets/question.jpg)\n",
    "![lc-88](./assets/constraints.jpg)"
   ]
  },
  {
   "cell_type": "markdown",
   "metadata": {},
   "source": [
    "> Observations:\n",
    "> - The two given arrays are provided in non-decreasing order (increasing order with the exception of same-valued numbers ex. [1, 2, 2, 3, 4])\n",
    "> - We are also given m and n which denote the lengths of each given array\n",
    "> - nums1 has a length of m + n where the n amount of numbers yet to be merged are allocated in nums1 as 0's\n",
    "> - Note that m and n can have zero length, which means we will have to deal with arrays like this: []\n",
    "> - We should try to get an algorithm of time complexity O(m + n) or more efficient if possible"
   ]
  }
 ],
 "metadata": {
  "kernelspec": {
   "display_name": "Python 3.9.5 64-bit",
   "language": "python",
   "name": "python3"
  },
  "language_info": {
   "name": "python",
   "version": "3.9.5"
  },
  "orig_nbformat": 4,
  "vscode": {
   "interpreter": {
    "hash": "058bbb4884dca741715548dc8689daaa712f0bb17b4c8a018873ab55db552143"
   }
  }
 },
 "nbformat": 4,
 "nbformat_minor": 2
}
