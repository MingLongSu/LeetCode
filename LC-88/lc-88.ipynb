{
 "cells": [
  {
   "cell_type": "markdown",
   "metadata": {},
   "source": [
    "# LeetCode 88\n",
    "![lc-88](./assets/question.jpg)\n",
    "![lc-88](./assets/constraints.jpg)"
   ]
  },
  {
   "cell_type": "markdown",
   "metadata": {},
   "source": [
    "> Observations:\n",
    "> - The two given arrays are provided in non-decreasing order (increasing order with the exception of same-valued numbers ex. [1, 2, 2, 3, 4])\n",
    "> - We are also given m and n which denote the lengths of each given array\n",
    "> - nums1 has a length of m + n where the n amount of numbers yet to be merged are allocated in nums1 as 0's\n",
    "> - Note that m and n can have zero length, which means we will have to deal with arrays like this: []\n",
    "> - We should try to get an algorithm of time complexity O(m + n) or more efficient if possible"
   ]
  },
  {
   "cell_type": "markdown",
   "metadata": {},
   "source": [
    "![lc-3-ex1](./assets/ex1.jpg)\n",
    "![lc-3-ex2](./assets/ex2.jpg)\n",
    "![lc-3-ex3](./assets/ex3.jpg)"
   ]
  },
  {
   "cell_type": "markdown",
   "metadata": {},
   "source": [
    "> Notes:\n",
    "> - Since both arrays are in non-decreasing order, then we can actually make use of their order\n",
    "> - Using two pointers, one to traverse nums1 and the other to traverse nums2, we could compare the values at each pointer and append the smaller of the two values to a new array; however, that would make use of extra space in memory and defeats the purpose of having nums1 be m + n length\n",
    "> - Instead, we could go from reverse and have a third pointer to keep track of where we are setting the values in nums1\n",
    ">   - And the pointers would only update if the value given by one pointer is greater than the value given by the other pointer; this would mean that the greater of the two would have their pointer update\n",
    "> - Note that example 3 actually warns us of a potential edge case, since we never want our pointers to be out of bounds, then our current idea would mean that nums1 remains as [0], but the correct solution is [1]. Since nums2 is ordered and seems that the pointer for nums1 has already reached out of bounds, then all that remain in nums2 must be less than the most recent value of num1, and so we should just append the remainder of nums2 to the remaining front indices of nums1"
   ]
  },
  {
   "cell_type": "markdown",
   "metadata": {},
   "source": [
    "> ### Algorithm\n",
    "> - We need three pointer variables, each for the last index of nums1 (m size, ptr_nums1), last index of nums2 (ptr_nums2), and last index of nums1 (m + n size, ptr_merge)\n",
    "> - Since we do not want to reach out of bounds, then we continue this looping process until either one of the pointers (except for m + n size) reaches less than 0 \n",
    ">   - During the looping, if nums1[ptr_nums1] is greater than nums2[ptr_nums2], then we should set nums1[ptr_merge] to the value of nums1[ptr_nums1] and decrement ptr_nums1 to check later ones\n",
    ">   - Otherwise, we should set nums1[ptr_merge] to the value of nums2[ptr_nums2] and decrement ptr_nums2\n",
    ">   - Each loop, since there will always be 1 update to nums1, then we will always decrement ptr_merge\n",
    "> - We then have another while loop to cover the edge case (mentioned previously) and it is just to make sure that the rest of the values from nums2 is added\n",
    "> - Then we return nums1\n",
    "> - Thankfully, the time complexity of this algorithm is, in fact, O(m + n) since we traverse the entire array of nums1 only once which has size of m + n"
   ]
  },
  {
   "cell_type": "code",
   "execution_count": 3,
   "metadata": {},
   "outputs": [],
   "source": [
    "class Solution:\n",
    "    def merge(self, nums1, m, nums2, n):\n",
    "        ptr_nums1, ptr_nums2, ptr_merge = m - 1, n - 1, m + n - 1\n",
    "        while (ptr_nums1 >= 0 and ptr_nums2 >= 0):\n",
    "            if (nums1[ptr_nums1] >= nums2[ptr_nums2]):\n",
    "                nums1[ptr_merge] = nums1[ptr_nums1]\n",
    "                ptr_nums1 -= 1\n",
    "            else:\n",
    "                nums1[ptr_merge] = nums2[ptr_nums2]\n",
    "                ptr_nums2 -= 1\n",
    "            ptr_merge -= 1\n",
    "        \n",
    "        while (ptr_nums2 >= 0):\n",
    "            nums1[ptr_merge] = nums2[ptr_nums2]\n",
    "            ptr_nums2 -= 1\n",
    "            ptr_merge -= 1\n",
    "        \n",
    "        return nums1"
   ]
  },
  {
   "cell_type": "code",
   "execution_count": 4,
   "metadata": {},
   "outputs": [
    {
     "name": "stdout",
     "output_type": "stream",
     "text": [
      "Ex 1:\n",
      " Result: [1, 2, 2, 3, 5, 6]\n",
      " Desire: [1,2,2,3,5,6]\n",
      "Ex 2:\n",
      " Result: [1]\n",
      " Desire: [1]\n",
      "Ex 3:\n",
      " Result: [1]\n",
      " Desire: [1]\n"
     ]
    }
   ],
   "source": [
    "sol = Solution()\n",
    "print('Ex 1:')\n",
    "print(' Result:', sol.merge(nums1 = [1,2,3,0,0,0], m = 3, nums2 = [2,5,6], n = 3))\n",
    "print(' Desire: [1,2,2,3,5,6]')\n",
    "print('Ex 2:')\n",
    "print(' Result:', sol.merge(nums1 = [1], m = 1, nums2 = [], n = 0))\n",
    "print(' Desire: [1]')\n",
    "print('Ex 3:')\n",
    "print(' Result:', sol.merge(nums1 = [0], m = 0, nums2 = [1], n = 1))\n",
    "print(' Desire: [1]')"
   ]
  },
  {
   "cell_type": "markdown",
   "metadata": {},
   "source": [
    "> ### Final Verdict\n",
    "> - Note that since we make a single traversal of nums1 of m + n size, then we have a time complexity of O(m + n)\n",
    "> - As for space complexity, since we do not make use of any further data structures, then our space complexity is actually O(1)"
   ]
  }
 ],
 "metadata": {
  "kernelspec": {
   "display_name": "Python 3.9.5 64-bit",
   "language": "python",
   "name": "python3"
  },
  "language_info": {
   "codemirror_mode": {
    "name": "ipython",
    "version": 3
   },
   "file_extension": ".py",
   "mimetype": "text/x-python",
   "name": "python",
   "nbconvert_exporter": "python",
   "pygments_lexer": "ipython3",
   "version": "3.9.5"
  },
  "orig_nbformat": 4,
  "vscode": {
   "interpreter": {
    "hash": "058bbb4884dca741715548dc8689daaa712f0bb17b4c8a018873ab55db552143"
   }
  }
 },
 "nbformat": 4,
 "nbformat_minor": 2
}
