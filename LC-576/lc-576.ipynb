{
 "cells": [
  {
   "cell_type": "markdown",
   "metadata": {},
   "source": [
    "# LeetCode 576\n",
    "![lc-576](./assets/question.jpg)\n",
    "![lc-576](./assets/constraints.jpg)"
   ]
  },
  {
   "cell_type": "markdown",
   "metadata": {},
   "source": [
    "> Observations:\n",
    "> - The minimum number of maxMove is 0\n",
    "> - The matrix's min size is 1 x 1 and max size is 50 x 50\n",
    "> - Return the answer modulo 10^9 + 7\n",
    "> - The ball never starts outside of the matrix"
   ]
  },
  {
   "cell_type": "markdown",
   "metadata": {},
   "source": [
    "![lc-576-ex1](./assets/ex1.jpg)\n",
    "![lc-576-ex2](./assets/ex2.jpg)"
   ]
  },
  {
   "cell_type": "markdown",
   "metadata": {},
   "source": [
    "> Notes:\n",
    "> - If maxMoves is 0, then a 0 may be returned\n",
    "> - Move in star/cardinal direction fashion\n",
    ">   - Each pulsation of the star/cardination direction-wise move is a move\n",
    ">   - But if we reach a pulsation that exceeds the maxMoves, then we break out of both loops and the amount accumulated should be the amount of methods for getting out if the boundaries\n",
    "> - Of course, a counter on the # of times the ball exits the boundaries will only increment when the current_position_row < 0 or curr_pos_col < 0 or curr_pos_row > m or curr_pos_col > n; where curr_pos is just short for curr_pos\n",
    ">   - Also, if the conditions are met for incrementation, then there is no need to enqueue another pulsation\n",
    "> - We could use a queue to maintain order\n",
    "> - However, such a solution may be very computationally expensive "
   ]
  },
  {
   "cell_type": "markdown",
   "metadata": {},
   "source": [
    "> ### Initial Algorithm\n",
    "> - We need a variable to count the number of ways to get out of the matrix, \"count\"\n",
    "> - We need a list to act as our queue \n",
    "> - Check if the maxMoves == 0, if it is then return 0\n",
    "> - Otherwise, we start by enqueuing the given starting position of the ball, with the amount of moves made so far; that being 0\n",
    "> - Then while the queue has yet to be empty, we pop each element\n",
    ">   - For each pulsation/cardinal direction, we check if moving in that direction stays within the matrix; if not, then we increment the count, if so, then we enqueue that new position along with its pulsation/num_of_moves number\n",
    "> - Then finally return the count, \"count\""
   ]
  },
  {
   "cell_type": "markdown",
   "metadata": {},
   "source": [
    "## Initial Implementation"
   ]
  },
  {
   "cell_type": "code",
   "execution_count": 15,
   "metadata": {},
   "outputs": [],
   "source": [
    "class Solution:\n",
    "    def findPaths(self, m: int, n: int, maxMove: int, startRow: int, startColumn: int) -> int:\n",
    "        if maxMove == 0:\n",
    "            return 0\n",
    "        count = 0\n",
    "        queue = []\n",
    "        row, col, moves = startRow, startColumn, 0\n",
    "        while moves < maxMove:\n",
    "            for delta_row, delta_col in [(1, 0), (-1, 0), (0, 1), (0, -1)]:\n",
    "                if ((0 <= row + delta_row < m) and (0 <= col + delta_col < n)):\n",
    "                    queue.append([row + delta_row, col + delta_col, moves + 1])\n",
    "                else: \n",
    "                    count += 1\n",
    "            row, col, moves = queue.pop(0)\n",
    "        return count % (pow(10, 9) + 7)"
   ]
  },
  {
   "cell_type": "code",
   "execution_count": 16,
   "metadata": {},
   "outputs": [
    {
     "name": "stdout",
     "output_type": "stream",
     "text": [
      "Ex 1:\n",
      " Result: 6\n",
      "Ex 2:\n",
      " Result: 12\n"
     ]
    }
   ],
   "source": [
    "sol = Solution()\n",
    "print('Ex 1:')\n",
    "print(' Result:', sol.findPaths(2, 2, 2, 0, 0))\n",
    "print('Ex 2:')\n",
    "print(' Result:', sol.findPaths(1, 3, 3, 0, 1))"
   ]
  },
  {
   "cell_type": "markdown",
   "metadata": {},
   "source": [
    "> Additional Notes\n",
    "> - As stated earlier and as indicated by the result of running the code in LeetCode, the algorithm ended up exceeding the time limit. As a result, we have to reconsider our method for solving the problem\n",
    "> - We can first start by tackling the problem with the repeated computations that occur when we employ such an algorithm. And when it comes to repeated computations, a good solution for tackling such would be to make use of dynamic programming\n",
    "> - Particularly, we can begin to store and call on the number of solutions for exiting the matrix for a given cell"
   ]
  }
 ],
 "metadata": {
  "kernelspec": {
   "display_name": "Python 3.9.5 64-bit",
   "language": "python",
   "name": "python3"
  },
  "language_info": {
   "codemirror_mode": {
    "name": "ipython",
    "version": 3
   },
   "file_extension": ".py",
   "mimetype": "text/x-python",
   "name": "python",
   "nbconvert_exporter": "python",
   "pygments_lexer": "ipython3",
   "version": "3.9.5"
  },
  "orig_nbformat": 4,
  "vscode": {
   "interpreter": {
    "hash": "058bbb4884dca741715548dc8689daaa712f0bb17b4c8a018873ab55db552143"
   }
  }
 },
 "nbformat": 4,
 "nbformat_minor": 2
}
