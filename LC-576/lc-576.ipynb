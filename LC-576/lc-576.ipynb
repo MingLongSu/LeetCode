{
 "cells": [
  {
   "cell_type": "markdown",
   "metadata": {},
   "source": [
    "# LeetCode 576\n",
    "![lc-576](./assets/question.jpg)\n",
    "![lc-576](./assets/constraints.jpg)"
   ]
  },
  {
   "cell_type": "markdown",
   "metadata": {},
   "source": [
    "> Observations:\n",
    "> - The minimum number of maxMove is 0\n",
    "> - The matrix's min size is 1 x 1 and max size is 50 x 50"
   ]
  },
  {
   "cell_type": "markdown",
   "metadata": {},
   "source": [
    "![lc-576-ex1](./assets/ex1.jpg)\n",
    "![lc-576-ex2](./assets/ex2.jpg)"
   ]
  },
  {
   "cell_type": "markdown",
   "metadata": {},
   "source": [
    "> Notes:\n",
    "> - If maxMoves is 0, then a 0 may be returned\n",
    "> - Move in star/cardinal direction fashion\n",
    ">   - Each pulsation of the star/cardination direction-wise move is a move\n",
    ">   - But if we reach a pulsation that exceeds the maxMoves, then we break out of both loops and the amount accumulated should be the amount of methods for getting out if the boundaries\n",
    "> - Of course, a counter on the # of times the ball exits the boundaries will only increment when the current_position_row < 0 or curr_pos_col < 0 or curr_pos_row > m or curr_pos_col > n; where curr_pos is just short for curr_pos\n",
    ">   - Also, if the conditions are met for incrementation, then there is no need to enqueue another pulsation\n",
    "> - We could use a queue to maintain order\n",
    "> - However, such a solution may be very computationally expensive "
   ]
  }
 ],
 "metadata": {
  "kernelspec": {
   "display_name": "Python 3.9.5 64-bit",
   "language": "python",
   "name": "python3"
  },
  "language_info": {
   "name": "python",
   "version": "3.9.5"
  },
  "orig_nbformat": 4,
  "vscode": {
   "interpreter": {
    "hash": "058bbb4884dca741715548dc8689daaa712f0bb17b4c8a018873ab55db552143"
   }
  }
 },
 "nbformat": 4,
 "nbformat_minor": 2
}
