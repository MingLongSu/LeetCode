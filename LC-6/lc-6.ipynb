{
 "cells": [
  {
   "cell_type": "markdown",
   "metadata": {},
   "source": [
    "# LeetCode 6\n",
    "![lc-6](./assets/question.jpg)\n",
    "![lc-6](./assets/constraints.jpg)"
   ]
  },
  {
   "cell_type": "markdown",
   "metadata": {},
   "source": [
    "> Observations:\n",
    "> - A new string will be created by reading the zig zag row-wise\n",
    "> - From the example, note that there exists a correlation between the desired number of rows and how much you must jump in order to get the characters on each row\n",
    ">   - Particularly, you must jump by 2 * (numRows - 1)\n",
    "> - For rows that have more than one character on that row, it seems to be 2 away from the amount jumped "
   ]
  }
 ],
 "metadata": {
  "kernelspec": {
   "display_name": "Python 3.9.5 64-bit",
   "language": "python",
   "name": "python3"
  },
  "language_info": {
   "name": "python",
   "version": "3.9.5"
  },
  "orig_nbformat": 4,
  "vscode": {
   "interpreter": {
    "hash": "058bbb4884dca741715548dc8689daaa712f0bb17b4c8a018873ab55db552143"
   }
  }
 },
 "nbformat": 4,
 "nbformat_minor": 2
}
