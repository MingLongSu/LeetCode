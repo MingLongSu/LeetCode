{
 "cells": [
  {
   "cell_type": "markdown",
   "metadata": {},
   "source": [
    "# LeetCode 6\n",
    "![lc-6](./assets/question.jpg)\n",
    "![lc-6](./assets/constraints.jpg)"
   ]
  },
  {
   "cell_type": "markdown",
   "metadata": {},
   "source": [
    "> Observations:\n",
    "> - A new string will be created by reading the zig zag row-wise\n",
    "> - From the example, note that there exists a correlation between the desired number of rows and how much you must jump in order to get the characters on each row\n",
    ">   - Particularly, you must jump by 2 * (numRows - 1)\n",
    ">   - From the fact that, for example on row 1: P = (0, 0), A = (1, 4), Y = (2, 8) -> where (x, y) is such that x is the index in the new string, and y is the position in the orignal string\n",
    "> - For rows that have more than one character on that row, it seems to be 2 away from the amount jumped "
   ]
  },
  {
   "cell_type": "markdown",
   "metadata": {},
   "source": [
    "![lc-6-ex1](./assets/ex1.jpg)\n",
    "![lc-6-ex2](./assets/ex2.jpg)"
   ]
  },
  {
   "cell_type": "markdown",
   "metadata": {},
   "source": [
    "> Notes:\n",
    "> - From example 2, it seems to actually be that, if a row has a character in between a jump, then the position of such letter is row + jump - 2 * row; where jump = 2 * (numRows - 1)\n",
    "> - Since we incorporate the row + jump - 2 * row expression to find the position of the addition character in each iteration, then we only do such an opration when 0 < curr_row < numRows - 1\n",
    "> - Since we are using row + jump - 2 * row expression, then if we are at the first index of each row, then we also must make sure that the result of the expression is greater than 0"
   ]
  },
  {
   "cell_type": "markdown",
   "metadata": {},
   "source": [
    "### Initial Algorithm\n",
    "> - We need a variable to store the new String that gets concatonated \"result\"\n",
    "> - We need to calculate how much to jump by using 2*(numRows - 1)\n",
    "> - We move then work through each row, and embedded within, we work on each getting the values for that row using another for loop\n",
    ">   - The nest for loop will start from row, end at the end of str's length, and increment by the jump value\n",
    ">   - Also in the nested loop we have to account for whether we are working on a row that is expected to have more values than just what can be gathered from the incrementation \n",
    ">   - And make sure that when we do the -2*row expression, that we must also check if the result is greater than 0\n",
    ">   - Concatonate all to \"result\" string\n",
    "> - Return the result string"
   ]
  },
  {
   "cell_type": "markdown",
   "metadata": {},
   "source": [
    "## Implementation"
   ]
  },
  {
   "cell_type": "code",
   "execution_count": 31,
   "metadata": {},
   "outputs": [],
   "source": [
    "class Solution:\n",
    "    def convert(self, s: str, numRows: int) -> str:\n",
    "        length = len(s)\n",
    "        result = ''\n",
    "        jump = 2 * (numRows - 1) if 2 * (numRows - 1) > 0 else 1\n",
    "        for row in range(numRows):\n",
    "            for pos in range(row, length, jump):\n",
    "                result += s[pos]\n",
    "                if ((0 < row < numRows - 1) and (pos + jump - 2 * row < length)):\n",
    "                    result += s[pos + jump - 2 * row]\n",
    "                    \n",
    "        return result"
   ]
  },
  {
   "cell_type": "code",
   "execution_count": 32,
   "metadata": {},
   "outputs": [
    {
     "name": "stdout",
     "output_type": "stream",
     "text": [
      "Ex 1:\n",
      " Result: PAHNAPLSIIGYIR\n",
      " Desire: PAHNAPLSIIGYIR\n",
      "Ex 2:\n",
      " Result: PINALSIGYAHRPI\n",
      " Desire: PINALSIGYAHRPI\n"
     ]
    }
   ],
   "source": [
    "sol = Solution()\n",
    "print('Ex 1:')\n",
    "print(' Result:', sol.convert(\"PAYPALISHIRING\", 3))\n",
    "print(' Desire: PAHNAPLSIIGYIR')\n",
    "print('Ex 2:')\n",
    "print(' Result:', sol.convert(\"PAYPALISHIRING\", 4))\n",
    "print(' Desire: PINALSIGYAHRPI')"
   ]
  }
 ],
 "metadata": {
  "kernelspec": {
   "display_name": "Python 3.9.5 64-bit",
   "language": "python",
   "name": "python3"
  },
  "language_info": {
   "codemirror_mode": {
    "name": "ipython",
    "version": 3
   },
   "file_extension": ".py",
   "mimetype": "text/x-python",
   "name": "python",
   "nbconvert_exporter": "python",
   "pygments_lexer": "ipython3",
   "version": "3.9.5"
  },
  "orig_nbformat": 4,
  "vscode": {
   "interpreter": {
    "hash": "058bbb4884dca741715548dc8689daaa712f0bb17b4c8a018873ab55db552143"
   }
  }
 },
 "nbformat": 4,
 "nbformat_minor": 2
}
