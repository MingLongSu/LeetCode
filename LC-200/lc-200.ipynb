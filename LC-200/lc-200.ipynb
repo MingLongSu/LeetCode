{
 "cells": [
  {
   "cell_type": "markdown",
   "metadata": {},
   "source": [
    "# LeetCode 200\n",
    "![lc-200](./assets/question.jpg)\n",
    "![lc-200](./assets/constraints.jpg)"
   ]
  },
  {
   "cell_type": "markdown",
   "metadata": {},
   "source": [
    "> Observations:\n",
    "> - Notice that 1's are land and 0's are water\n",
    "> - Islands are formed from adjacent 1's (horizontally and vertically)\n",
    "> - Notice that the smallest possible grid that can be used as input is a 1 x 1 grid"
   ]
  },
  {
   "cell_type": "markdown",
   "metadata": {},
   "source": [
    "![lc-200-ex1](./assets/ex1.jpg)\n",
    "![lc-200-ex2](./assets/ex2.jpg)"
   ]
  },
  {
   "cell_type": "markdown",
   "metadata": {},
   "source": [
    "> Notes:\n",
    "> - Notice that this is a graph problem, and a simple way we can traverse this graph is by starting from the top left corner and move to the bottom right corner\n",
    "> - This method of traversal would mean that we run into neighboring 1's, so what if we just turn all 1's to 0's?\n",
    "> - That is, the number of islands on the grid is the number of islands that can be submerged\n",
    "> - If we move in all four directions from a position that we are at, then we can turn all 1's to 0's"
   ]
  },
  {
   "cell_type": "markdown",
   "metadata": {},
   "source": [
    "> ### Algorithm\n",
    "> - We need a variable to keep count of the number of islands on the grid\n",
    "> - if we encounter a 1, then we must increment the count by 1 and then traverse in all four directions to turns the 1s to 0s \n",
    "> - (we might need a separate function for the quad-directional traversal)\n",
    "> - Then we return the count of the number of islands on the grid"
   ]
  },
  {
   "cell_type": "code",
   "execution_count": 53,
   "metadata": {},
   "outputs": [],
   "source": [
    "class Solution:\n",
    "    def numIslands(self, grid):\n",
    "        m, n = len(grid), len(grid[0])\n",
    "        islands_count = 0\n",
    "\n",
    "        def submerge(pos_i, pos_j):\n",
    "            for (delta_i, delta_j) in [(1, 0), (-1, 0), (0, 1), (0, -1)]:\n",
    "                new_pos_i, new_pos_j = pos_i + delta_i, pos_j + delta_j\n",
    "                if ((0 <= new_pos_j < n) and (0 <= new_pos_i < m) and grid[new_pos_i][new_pos_j] == \"1\"):\n",
    "                    grid[new_pos_i][new_pos_j] = \"0\"\n",
    "                    submerge(new_pos_i, new_pos_j)\n",
    "        \n",
    "        for i in range(m):\n",
    "            for j in range(n):\n",
    "                if (grid[i][j] == \"1\"):\n",
    "                    islands_count += 1\n",
    "                    grid[i][j] = \"0\"\n",
    "                    submerge(i, j)\n",
    "        \n",
    "        return islands_count"
   ]
  },
  {
   "cell_type": "code",
   "execution_count": 54,
   "metadata": {},
   "outputs": [
    {
     "name": "stdout",
     "output_type": "stream",
     "text": [
      "Ex 1:\n",
      "0 0\n",
      "0 1\n",
      "0 2\n",
      "0 3\n",
      "0 4\n",
      "1 0\n",
      "1 1\n",
      "1 2\n",
      "1 3\n",
      "1 4\n",
      "2 0\n",
      "2 1\n",
      "2 2\n",
      "2 3\n",
      "2 4\n",
      "3 0\n",
      "3 1\n",
      "3 2\n",
      "3 3\n",
      "3 4\n",
      " Result: 0\n",
      " Desire: 1\n",
      "Ex 2:\n",
      "0 0\n",
      "0 1\n",
      "0 2\n",
      "0 3\n",
      "0 4\n",
      "1 0\n",
      "1 1\n",
      "1 2\n",
      "1 3\n",
      "1 4\n",
      "2 0\n",
      "2 1\n",
      "2 2\n",
      "2 3\n",
      "2 4\n",
      "3 0\n",
      "3 1\n",
      "3 2\n",
      "3 3\n",
      "3 4\n",
      " Result: 0\n",
      " Desire: 3\n"
     ]
    }
   ],
   "source": [
    "sol = Solution()\n",
    "print('Ex 1:')\n",
    "print(' Result:', sol.numIslands(grid = [[\"1\",\"1\",\"1\",\"1\",\"0\"],\n",
    "                                         [\"1\",\"1\",\"0\",\"1\",\"0\"],\n",
    "                                         [\"1\",\"1\",\"0\",\"0\",\"0\"],\n",
    "                                         [\"0\",\"0\",\"0\",\"0\",\"0\"]]))\n",
    "print(' Desire: 1')\n",
    "print('Ex 2:')\n",
    "print(' Result:', sol.numIslands(grid = [[\"1\",\"1\",\"0\",\"0\",\"0\"],\n",
    "                                         [\"1\",\"1\",\"0\",\"0\",\"0\"],\n",
    "                                         [\"0\",\"0\",\"1\",\"0\",\"0\"],\n",
    "                                         [\"0\",\"0\",\"0\",\"1\",\"1\"]]))\n",
    "print(' Desire: 3')"
   ]
  }
 ],
 "metadata": {
  "kernelspec": {
   "display_name": "Python 3.9.5 64-bit",
   "language": "python",
   "name": "python3"
  },
  "language_info": {
   "codemirror_mode": {
    "name": "ipython",
    "version": 3
   },
   "file_extension": ".py",
   "mimetype": "text/x-python",
   "name": "python",
   "nbconvert_exporter": "python",
   "pygments_lexer": "ipython3",
   "version": "3.9.5"
  },
  "orig_nbformat": 4,
  "vscode": {
   "interpreter": {
    "hash": "058bbb4884dca741715548dc8689daaa712f0bb17b4c8a018873ab55db552143"
   }
  }
 },
 "nbformat": 4,
 "nbformat_minor": 2
}
