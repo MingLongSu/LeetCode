{
 "cells": [
  {
   "cell_type": "markdown",
   "metadata": {},
   "source": [
    "# LeetCode 200\n",
    "![lc-200](./assets/question.jpg)\n",
    "![lc-200](./assets/constraints.jpg)"
   ]
  },
  {
   "cell_type": "markdown",
   "metadata": {},
   "source": [
    "> Observations:\n",
    "> - Notice that 1's are land and 0's are water\n",
    "> - Islands are formed from adjacent 1's (horizontally and vertically)\n",
    "> - Notice that the smallest possible grid that can be used as input is a 1 x 1 grid"
   ]
  },
  {
   "cell_type": "markdown",
   "metadata": {},
   "source": [
    "![lc-200-ex1](./assets/ex1.jpg)\n",
    "![lc-200-ex2](./assets/ex2.jpg)"
   ]
  },
  {
   "cell_type": "markdown",
   "metadata": {},
   "source": [
    "> Notes:\n",
    "> - Notice that this is a graph problem, and a simple way we can traverse this graph is by starting from the top left corner and move to the bottom right corner\n",
    "> - This method of traversal would mean that we run into neighboring 1's, so what if we just turn all 1's to 0's?\n",
    "> - That is, the number of islands on the grid is the number of islands that can be submerged\n",
    "> - If we move in all four directions from a position that we are at, then we can turn all 1's to 0's"
   ]
  }
 ],
 "metadata": {
  "kernelspec": {
   "display_name": "Python 3.9.5 64-bit",
   "language": "python",
   "name": "python3"
  },
  "language_info": {
   "name": "python",
   "version": "3.9.5"
  },
  "orig_nbformat": 4,
  "vscode": {
   "interpreter": {
    "hash": "058bbb4884dca741715548dc8689daaa712f0bb17b4c8a018873ab55db552143"
   }
  }
 },
 "nbformat": 4,
 "nbformat_minor": 2
}
