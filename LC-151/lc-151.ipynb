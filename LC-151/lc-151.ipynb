{
 "cells": [
  {
   "cell_type": "markdown",
   "metadata": {},
   "source": [
    "# LeetCode 151\n",
    "![lc-151](./assets/question.jpg)\n",
    "![lc-151](./assets/constraints.jpg)"
   ]
  },
  {
   "cell_type": "markdown",
   "metadata": {},
   "source": [
    "> Observations:\n",
    "> - There will always at least be one word in string, s\n",
    "> - Words are separated by at least one space, meaning no conjoined words but also words with multiple spaces between them\n",
    "> - Must return a string of words with only a single space in reverse order"
   ]
  },
  {
   "cell_type": "markdown",
   "metadata": {},
   "source": [
    "![lc-151-ex1](./assets/ex1.jpg)\n",
    "![lc-151-ex2](./assets/ex2.jpg)\n",
    "![lc-151-ex2](./assets/ex3.jpg)"
   ]
  },
  {
   "cell_type": "markdown",
   "metadata": {},
   "source": [
    "> Notes:\n",
    "> - In Python, we could begin by tokenising the provided string, s, by using the split() function\n",
    "> - Then utilise a for loop starting from the last word and moving to the first word to then concatenate such words to ahieve the reverse order"
   ]
  },
  {
   "cell_type": "markdown",
   "metadata": {},
   "source": [
    "> ### Initial Algorithm\n",
    "> - We need a variable \"reverse\" to store the result of reversing the order of the words in the original string, s\n",
    "> - We first use the split() string function to tokenise string, s\n",
    "> - We then use a for loop but iterate from the last word to the first while adding to the word[i] + ' ' to the \"reverse\" string\n",
    "> - Then we return the trimmed result of \"reverse\" using the strip() function"
   ]
  },
  {
   "cell_type": "markdown",
   "metadata": {},
   "source": [
    "## Initial Implementation"
   ]
  },
  {
   "cell_type": "code",
   "execution_count": 2,
   "metadata": {},
   "outputs": [],
   "source": [
    "class Solution:\n",
    "    def reverseWords(self, s: str) -> str:\n",
    "        reverse = ''\n",
    "        tokenisation = s.split()\n",
    "        for i in range(len(tokenisation) - 1, -1, -1):\n",
    "            reverse += tokenisation[i] + ' '\n",
    "        return reverse.strip()"
   ]
  },
  {
   "cell_type": "code",
   "execution_count": null,
   "metadata": {},
   "outputs": [],
   "source": [
    "sol = Solution()\n",
    "print('Ex 1:')\n",
    "print(' Result:', sol.reverseWords(\"the sky is blue\"))\n",
    "print(' Desire: blue is sky the')\n",
    "print('Ex 2:')\n",
    "print(' Result:', sol.reverseWords(\"  hello world  \"))\n",
    "print(' Desire: world hello')\n",
    "print('Ex 3:')\n",
    "print(' Result:', sol.reverseWords(\"a good   example\"))\n",
    "print(' Desire: example good a')"
   ]
  }
 ],
 "metadata": {
  "kernelspec": {
   "display_name": "Python 3.9.5 64-bit",
   "language": "python",
   "name": "python3"
  },
  "language_info": {
   "codemirror_mode": {
    "name": "ipython",
    "version": 3
   },
   "file_extension": ".py",
   "mimetype": "text/x-python",
   "name": "python",
   "nbconvert_exporter": "python",
   "pygments_lexer": "ipython3",
   "version": "3.9.5"
  },
  "orig_nbformat": 4,
  "vscode": {
   "interpreter": {
    "hash": "058bbb4884dca741715548dc8689daaa712f0bb17b4c8a018873ab55db552143"
   }
  }
 },
 "nbformat": 4,
 "nbformat_minor": 2
}
