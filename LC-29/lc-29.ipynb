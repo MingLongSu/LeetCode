{
 "cells": [
  {
   "cell_type": "markdown",
   "metadata": {},
   "source": [
    "# LeetCode 29\n",
    "![lc-29](./assets/question.jpg)"
   ]
  },
  {
   "cell_type": "markdown",
   "metadata": {},
   "source": [
    "> Observations:\n",
    "> - Complete division without utilising multiplication, division, or modulus\n",
    "> - Integer division is truncated towards zero\n",
    "> - If the quotient is greater than 2^31 - 1, then return 2^31 - 1, and if the quotient is less than -2^31 then return -2^31\n",
    "> - Since division is just seeing how many groups of a particular size can be formed from a total, then we can subtract dividend by the divisor however many times to then achieve a dividend."
   ]
  },
  {
   "cell_type": "markdown",
   "metadata": {},
   "source": [
    "![lc-29-ex1](./assets/ex1.jpg)"
   ]
  },
  {
   "cell_type": "markdown",
   "metadata": {},
   "source": [
    "> Notes:\n",
    "> - need a variable to keep track of quotient called \"quotient\" \n",
    "> - while dividend - divisor >= divisor, then we should do dividend = dividend - divisor and quotient = quotient + 1\n",
    ">   - Quotient will be incremented by 1 as it will be treated as a counter for the number of truncated groups of the dividend\n",
    ">   - We do while dividend - divisor >= divisor because we need to be sure that, before we subtract, we have at least an amount that is of the size of the divisor\n",
    ">       - Otherwise, for 10/3, we get a result of 4 from the eventual 1/3 for a while statement structured as \"while dividend - divisor > 0\""
   ]
  },
  {
   "cell_type": "markdown",
   "metadata": {},
   "source": [
    "![lc-29-ex2](./assets/ex2.jpg)"
   ]
  },
  {
   "cell_type": "markdown",
   "metadata": {},
   "source": [
    "> Notes:\n",
    "> - For negative numbers, a similar algorithm can be used however, we must be wary of the negative values. A potential solution is to have a variable called \"sign\" to keep track of the resulting sign from the integer division."
   ]
  },
  {
   "cell_type": "markdown",
   "metadata": {},
   "source": [
    "### Final Algorithm\n",
    "> - Determine the sign of the resulting division\n",
    "> - Subtract and increment the quotient result while dividend - divisor >= divisor\n",
    "> - Set the result = -result if sign < 0 else result\n",
    "> - Then check for the int32 system limitations"
   ]
  }
 ],
 "metadata": {
  "kernelspec": {
   "display_name": "Python 3.9.5 64-bit",
   "language": "python",
   "name": "python3"
  },
  "language_info": {
   "codemirror_mode": {
    "name": "ipython",
    "version": 3
   },
   "file_extension": ".py",
   "mimetype": "text/x-python",
   "name": "python",
   "nbconvert_exporter": "python",
   "pygments_lexer": "ipython3",
   "version": "3.9.5"
  },
  "orig_nbformat": 4,
  "vscode": {
   "interpreter": {
    "hash": "058bbb4884dca741715548dc8689daaa712f0bb17b4c8a018873ab55db552143"
   }
  }
 },
 "nbformat": 4,
 "nbformat_minor": 2
}
