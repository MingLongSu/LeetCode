{
 "cells": [
  {
   "cell_type": "markdown",
   "metadata": {},
   "source": [
    "# LeetCode 29\n",
    "![lc-29](./assets/question.jpg)"
   ]
  },
  {
   "cell_type": "markdown",
   "metadata": {},
   "source": [
    "> Observations:\n",
    "> - Complete division without utilising multiplication, division, or modulus\n",
    "> - Integer division is truncated towards zero\n",
    "> - If the quotient is greater than 2^31 - 1, then return 2^31 - 1, and if the quotient is less than -2^31 then return -2^31\n",
    "> - Since division is just seeing how many groups of a particular size can be formed from a total, then we can subtract dividend by the divisor however many times to then achieve a dividend."
   ]
  },
  {
   "cell_type": "markdown",
   "metadata": {},
   "source": [
    "![lc-29-ex1](./assets/ex1.jpg)"
   ]
  },
  {
   "cell_type": "markdown",
   "metadata": {},
   "source": [
    "> Notes:\n",
    "> - need a variable to keep track of quotient called \"quotient\" \n",
    "> - while dividend - divisor >= divisor, then we should do dividend = dividend - divisor and quotient = quotient + 1\n",
    ">   - Quotient will be incremented by 1 as it will be treated as a counter for the number of truncated groups of the dividend\n",
    ">   - We do while dividend - divisor >= divisor because we need to be sure that, before we subtract, we have at least an amount that is of the size of the divisor\n",
    ">       - Otherwise, for 10/3, we get a result of 4 from the eventual 1/3 for a while statement structured as \"while dividend - divisor > 0\""
   ]
  },
  {
   "cell_type": "markdown",
   "metadata": {},
   "source": [
    "![lc-29-ex2](./assets/ex2.jpg)"
   ]
  },
  {
   "cell_type": "markdown",
   "metadata": {},
   "source": [
    "> Notes:\n",
    "> - For negative numbers, a similar algorithm can be used however, we must be wary of the negative values. A potential solution is to have a variable called \"sign\" to keep track of the resulting sign from the integer division."
   ]
  },
  {
   "cell_type": "markdown",
   "metadata": {},
   "source": [
    "### Final Algorithm\n",
    "> - Determine the sign of the resulting division\n",
    "> - Subtract and increment the quotient result while dividend - divisor >= divisor\n",
    "> - Set the result = -result if sign < 0 else result\n",
    "> - Then check for the int32 system limitations"
   ]
  },
  {
   "cell_type": "markdown",
   "metadata": {},
   "source": [
    "## Initial Implementation"
   ]
  },
  {
   "cell_type": "code",
   "execution_count": 19,
   "metadata": {},
   "outputs": [],
   "source": [
    "class Solution:\n",
    "    def divide(self, dividend: int, divisor: int) -> int:\n",
    "        MAX_INT = 2147483647    # int max value\n",
    "        MIN_INT = -2147483648   # int min value\n",
    "    \n",
    "        sign = 1\n",
    "        quotient = 0\n",
    "        (sign, dividend) = (-sign, -dividend) if dividend < 0 else (sign, dividend)\n",
    "        (sign, divisor) = (-sign, -divisor) if divisor < 0 else (sign, divisor)\n",
    "\n",
    "        while (dividend >= divisor):\n",
    "            dividend = dividend - divisor\n",
    "            quotient = quotient + 1\n",
    "\n",
    "        quotient = -quotient if sign < 0 else quotient\n",
    "        \n",
    "        return (MAX_INT if quotient > MAX_INT else quotient) or (MIN_INT if quotient < MIN_INT else quotient)"
   ]
  },
  {
   "cell_type": "code",
   "execution_count": 20,
   "metadata": {},
   "outputs": [
    {
     "name": "stdout",
     "output_type": "stream",
     "text": [
      "Result Ex1:  3\n",
      "Result Ex2:  -2\n"
     ]
    }
   ],
   "source": [
    "sol = Solution()\n",
    "print('Result Ex1: ', sol.divide(10, 3))\n",
    "print('Result Ex2: ', sol.divide(7, -3))"
   ]
  }
 ],
 "metadata": {
  "kernelspec": {
   "display_name": "Python 3.9.5 64-bit",
   "language": "python",
   "name": "python3"
  },
  "language_info": {
   "codemirror_mode": {
    "name": "ipython",
    "version": 3
   },
   "file_extension": ".py",
   "mimetype": "text/x-python",
   "name": "python",
   "nbconvert_exporter": "python",
   "pygments_lexer": "ipython3",
   "version": "3.9.5"
  },
  "orig_nbformat": 4,
  "vscode": {
   "interpreter": {
    "hash": "058bbb4884dca741715548dc8689daaa712f0bb17b4c8a018873ab55db552143"
   }
  }
 },
 "nbformat": 4,
 "nbformat_minor": 2
}
