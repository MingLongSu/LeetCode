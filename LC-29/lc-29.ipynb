{
 "cells": [
  {
   "cell_type": "markdown",
   "metadata": {},
   "source": [
    "# LeetCode 29\n",
    "![lc-29](./assets/question.jpg)"
   ]
  },
  {
   "cell_type": "markdown",
   "metadata": {},
   "source": [
    "> Observations:\n",
    "> - Complete division without utilising multiplication, division, or modulus\n",
    "> - Integer division is truncated towards zero\n",
    "> - If the quotient is greater than 2^31 - 1, then return 2^31 - 1, and if the quotient is less than -2^31 then return -2^31\n",
    "> - Since division is just seeing how many groups of a particular size can be formed from a total, then we can subtract dividend by the divisor however many times to then achieve a dividend."
   ]
  },
  {
   "cell_type": "markdown",
   "metadata": {},
   "source": [
    "![lc-29-ex1](./assets/ex1.jpg)"
   ]
  },
  {
   "cell_type": "markdown",
   "metadata": {},
   "source": [
    "> Notes:\n",
    "> - need a variable to keep track of quotient called \"quotient\" \n",
    "> - while dividend - divisor >= divisor, then we should do dividend = dividend - divisor and quotient = quotient + 1\n",
    ">   - Quotient will be incremented by 1 as it will be treated as a counter for the number of truncated groups of the dividend\n",
    ">   - We do while dividend - divisor >= divisor because we need to be sure that, before we subtract, we have at least an amount that is of the size of the divisor\n",
    ">       - Otherwise, for 10/3, we get a result of 4 from the eventual 1/3 for a while statement structured as \"while dividend - divisor > 0\""
   ]
  },
  {
   "cell_type": "markdown",
   "metadata": {},
   "source": [
    "![lc-29-ex2](./assets/ex2.jpg)"
   ]
  },
  {
   "cell_type": "markdown",
   "metadata": {},
   "source": [
    "> Notes:\n",
    "> - For negative numbers, a similar algorithm can be used however, we must be wary of the negative values. A potential solution is to have a variable called \"sign\" to keep track of the resulting sign from the integer division."
   ]
  },
  {
   "cell_type": "markdown",
   "metadata": {},
   "source": [
    "### Final Algorithm\n",
    "> - Determine the sign of the resulting division\n",
    "> - Subtract and increment the quotient result while dividend - divisor >= divisor\n",
    "> - Set the result = -result if sign < 0 else result\n",
    "> - Then check for the int32 system limitations"
   ]
  },
  {
   "cell_type": "markdown",
   "metadata": {},
   "source": [
    "## Initial Implementation"
   ]
  },
  {
   "cell_type": "code",
   "execution_count": 21,
   "metadata": {},
   "outputs": [],
   "source": [
    "class Solution:\n",
    "    def divide(self, dividend: int, divisor: int) -> int:\n",
    "        MAX_INT = 2147483647    # int max value\n",
    "        MIN_INT = -2147483648   # int min value\n",
    "    \n",
    "        sign = 1\n",
    "        quotient = 0\n",
    "        (sign, dividend) = (-sign, -dividend) if dividend < 0 else (sign, dividend)\n",
    "        (sign, divisor) = (-sign, -divisor) if divisor < 0 else (sign, divisor)\n",
    "\n",
    "        while (dividend >= divisor):\n",
    "            dividend = dividend - divisor\n",
    "            quotient = quotient + 1\n",
    "\n",
    "        quotient = -quotient if sign < 0 else quotient\n",
    "        \n",
    "        return (MAX_INT if quotient > MAX_INT else quotient) or (MIN_INT if quotient < MIN_INT else quotient)"
   ]
  },
  {
   "cell_type": "code",
   "execution_count": 22,
   "metadata": {},
   "outputs": [
    {
     "name": "stdout",
     "output_type": "stream",
     "text": [
      "Result Ex1:  3\n",
      "Result Ex2:  -2\n"
     ]
    }
   ],
   "source": [
    "sol = Solution()\n",
    "print('Result Ex1: ', sol.divide(10, 3))\n",
    "print('Result Ex2: ', sol.divide(7, -3))"
   ]
  },
  {
   "cell_type": "markdown",
   "metadata": {},
   "source": [
    "> ## Additional Notes\n",
    "> - Although this solution does work, it is particularly inefficient - sporting a time complexity of O(n) where n is the size of the dividend. Moreover, this implementation actually exceeds the time limit for an acceptable submission by LeetCode's standards for exceptionally large integers. \n",
    "> - How might we find a solution that can be more efficient?\n",
    "> - Let's consider the common result of mathematics: all even integers = 2n, and all odd integers = 2m + 1, where n and m are some integers\n",
    "> - We can use a simliar idea where we double up on the divisor for each iteration to check how many integer groups are formed from dividend / divisor\n",
    "> - Consider 63 / 3:\n",
    ">   - So, this gives 63 >= 3 * 2^0 -> 63 >= 3 * 2^1 -> 63 >= 3 * 2^2 -> 63 >= 3 * 2^3 -> 63 >= 3 * 2^4 -> 63 IS NOT >= 3 * 2^5\n",
    ">   - In total, we have accumulated a total of 5 steps from this, and not going to include the last step since it is 63 < 3 * 2^5\n",
    ">   - While doubling the divisor to increase efficiency, then the amount of groups that can be made from the original divisor must also scale by the same 2^n factor, hence the quotient would be equal to 1 * 2^n; however, since the number of steps is 1 more than the number of slides, then slides = steps - 1, so the quotient = quotient + (1 << (steps - 1))\n",
    "> - Now, returning to the example of 63 / 3, of course, 63 / 3 != 1 * 2^(5-1) = 16, so we take what remains of 63 - 3 * 16 = 63 - 48 = 15\n",
    "> - The process then repeats by 15 >= 3 * 2^0 -> 15 >= 3 * 2^1 -> 15 >= 3 * 2^2 -> 15 IS NOT >= 3 * 2^3, this is then steps = 3 \n",
    "> - Slides = steps - 1 = 3 - 1 = 2 and so quotient = quotient + 1 * 2^2 = 16 + 4 = 20\n",
    "> - Now considering the remaining from 15 - 3 * (1 * 2^2) = 15 - 12 = 3\n",
    "> - The processs then repeats by 3 >= 3 * 2^0 -> 3 IS NOT >= 3 * 2^1, and so steps = 1, but slides = steps - 1 = 0\n",
    "> - So quotient = quotient + 1 * 2^0 = 20 + 1 = 21 and there we have the desired result of the integer division"
   ]
  },
  {
   "cell_type": "code",
   "execution_count": 39,
   "metadata": {},
   "outputs": [
    {
     "name": "stdout",
     "output_type": "stream",
     "text": [
      "16\n"
     ]
    }
   ],
   "source": [
    "print(1 << 4)"
   ]
  },
  {
   "cell_type": "code",
   "execution_count": 40,
   "metadata": {},
   "outputs": [
    {
     "name": "stdout",
     "output_type": "stream",
     "text": [
      "4\n"
     ]
    }
   ],
   "source": [
    "print(1 << 2)"
   ]
  }
 ],
 "metadata": {
  "kernelspec": {
   "display_name": "Python 3.9.5 64-bit",
   "language": "python",
   "name": "python3"
  },
  "language_info": {
   "codemirror_mode": {
    "name": "ipython",
    "version": 3
   },
   "file_extension": ".py",
   "mimetype": "text/x-python",
   "name": "python",
   "nbconvert_exporter": "python",
   "pygments_lexer": "ipython3",
   "version": "3.9.5"
  },
  "orig_nbformat": 4,
  "vscode": {
   "interpreter": {
    "hash": "058bbb4884dca741715548dc8689daaa712f0bb17b4c8a018873ab55db552143"
   }
  }
 },
 "nbformat": 4,
 "nbformat_minor": 2
}
