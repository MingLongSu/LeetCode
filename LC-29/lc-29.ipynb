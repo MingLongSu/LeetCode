{
 "cells": [
  {
   "cell_type": "markdown",
   "metadata": {},
   "source": [
    "# LeetCode 29\n",
    "![lc-29](./assets/question.jpg)"
   ]
  },
  {
   "cell_type": "markdown",
   "metadata": {},
   "source": [
    "> Observations:\n",
    "> - Complete division without utilising multiplication, division, or modulus\n",
    "> - Integer division is truncated towards zero\n",
    "> - If the quotient is greater than 2^31 - 1, then return 2^31 - 1, and if the quotient is less than -2^31 then return -2^31\n",
    "> - Since division is just seeing how many groups of a particular size can be formed from a total, then we can subtract dividend by the divisor however many times to then achieve a dividend."
   ]
  }
 ],
 "metadata": {
  "kernelspec": {
   "display_name": "Python 3.9.5 64-bit",
   "language": "python",
   "name": "python3"
  },
  "language_info": {
   "name": "python",
   "version": "3.9.5"
  },
  "orig_nbformat": 4,
  "vscode": {
   "interpreter": {
    "hash": "058bbb4884dca741715548dc8689daaa712f0bb17b4c8a018873ab55db552143"
   }
  }
 },
 "nbformat": 4,
 "nbformat_minor": 2
}
