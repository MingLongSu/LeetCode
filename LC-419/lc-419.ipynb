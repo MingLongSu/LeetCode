{
 "cells": [
  {
   "cell_type": "markdown",
   "metadata": {},
   "source": [
    "# LeetCode 419\n",
    "![lc-419](./assets/question.jpg)\n",
    "![lc-419](./assets/constraints.jpg)"
   ]
  },
  {
   "cell_type": "markdown",
   "metadata": {},
   "source": [
    "> Observations:\n",
    "> - For each \"board,\" we will be given at least a matrix of size 1 x 1\n",
    "> - Elements of the \"board\" will be either '.' or 'X,' or in other words empty or ship component, respectively\n",
    "> - There will always be at least 1 cell worth of space between ships\n",
    "> - Ships can only be placed in horizontal or vertical manner on the matrix, which means the input will never consist of diagonal ship placements\n",
    "> - Of course, the objective is to count the number of boats on the board"
   ]
  },
  {
   "cell_type": "markdown",
   "metadata": {},
   "source": [
    "![lc-419-ex1](./assets/ex1.jpg)\n",
    "![lc-419-ex2](./assets/ex2.jpg)"
   ]
  },
  {
   "cell_type": "markdown",
   "metadata": {},
   "source": [
    "> Notes:\n",
    "> - Noticeably, this is going to be a graphing problem \n",
    "> - And by default, one would assume to traverse this matrix by using a double for loop to match the dimensions of the matrix - or I guess element-wise traversal would be the correct terminology\n",
    "> - Of course, if we encounter an 'X' along our traversal, we know that it is identified as a separate boat since it's an established rule that all boats have at least 1 cell between all boats\n",
    "> - Perhaps an interesting approach to this problem would be to count the number of floating boats by counting the amount of boats we can sink\n",
    ">   - That is, when we hit an 'X,' we then run it through a function to subsequently sink the rest of the boat so as to remove it from possibly counting the rest of the boat as separate boats\n",
    "> - If we are to move element wise (from top left of matrix to bottom right of matrix), then each first time we hit an 'X' would be a boat, not only that, but we would be hitting the front of the boat\n",
    ">   - To reiterate, if we are hitting the front of the boat each time, then we can also expect the rest of the boat to remain on either the right or below"
   ]
  },
  {
   "cell_type": "markdown",
   "metadata": {},
   "source": [
    "> ### Algorithm\n",
    "> - We have a variable called \"battleships\" to store number of battleships counted\n",
    "> - We element-wise traverse the matrix \"board,\" and if we run into an 'X,' then we must sink the rest of the ship\n",
    ">   - Increment \"battleships\" by 1 as we are at the head of the battleship\n",
    ">   - Sinking will be taken care of through a recursive function\n",
    ">   - Only two directions, check both below or to the right of the current element\n",
    ">   - Edge case: we have to make sure that at the ends of the matrix, the deltas (checking if there is a boat component to the right or below) must be within bounds before we check if there is 'X' or not\n",
    "> - At the end, just return \"battleships\""
   ]
  }
 ],
 "metadata": {
  "kernelspec": {
   "display_name": "Python 3.9.5 64-bit",
   "language": "python",
   "name": "python3"
  },
  "language_info": {
   "name": "python",
   "version": "3.9.5"
  },
  "orig_nbformat": 4,
  "vscode": {
   "interpreter": {
    "hash": "058bbb4884dca741715548dc8689daaa712f0bb17b4c8a018873ab55db552143"
   }
  }
 },
 "nbformat": 4,
 "nbformat_minor": 2
}
