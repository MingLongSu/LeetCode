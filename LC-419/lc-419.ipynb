{
 "cells": [
  {
   "cell_type": "markdown",
   "metadata": {},
   "source": [
    "# LeetCode 419\n",
    "![lc-419](./assets/question.jpg)\n",
    "![lc-419](./assets/constraints.jpg)"
   ]
  },
  {
   "cell_type": "markdown",
   "metadata": {},
   "source": [
    "> Observations:\n",
    "> - For each \"board,\" we will be given at least a matrix of size 1 x 1\n",
    "> - Elements of the \"board\" will be either '.' or 'X,' or in other words empty or ship component, respectively\n",
    "> - There will always be at least 1 cell worth of space between ships\n",
    "> - Ships can only be placed in horizontal or vertical manner on the matrix, which means the input will never consist of diagonal ship placements"
   ]
  }
 ],
 "metadata": {
  "kernelspec": {
   "display_name": "Python 3.9.5 64-bit",
   "language": "python",
   "name": "python3"
  },
  "language_info": {
   "name": "python",
   "version": "3.9.5"
  },
  "orig_nbformat": 4,
  "vscode": {
   "interpreter": {
    "hash": "058bbb4884dca741715548dc8689daaa712f0bb17b4c8a018873ab55db552143"
   }
  }
 },
 "nbformat": 4,
 "nbformat_minor": 2
}
