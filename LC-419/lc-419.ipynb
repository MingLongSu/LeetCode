{
 "cells": [
  {
   "cell_type": "markdown",
   "metadata": {},
   "source": [
    "# LeetCode 419\n",
    "![lc-419](./assets/question.jpg)\n",
    "![lc-419](./assets/constraints.jpg)"
   ]
  },
  {
   "cell_type": "markdown",
   "metadata": {},
   "source": [
    "> Observations:\n",
    "> - For each \"board,\" we will be given at least a matrix of size 1 x 1\n",
    "> - Elements of the \"board\" will be either '.' or 'X,' or in other words empty or ship component, respectively\n",
    "> - There will always be at least 1 cell worth of space between ships\n",
    "> - Ships can only be placed in horizontal or vertical manner on the matrix, which means the input will never consist of diagonal ship placements\n",
    "> - Of course, the objective is to count the number of boats on the board"
   ]
  },
  {
   "cell_type": "markdown",
   "metadata": {},
   "source": [
    "![lc-419-ex1](./assets/ex1.jpg)\n",
    "![lc-419-ex2](./assets/ex2.jpg)"
   ]
  },
  {
   "cell_type": "markdown",
   "metadata": {},
   "source": [
    "> Notes:\n",
    "> - Noticeably, this is going to be a graphing problem \n",
    "> - And by default, one would assume to traverse this matrix by using a double for loop to match the dimensions of the matrix - or I guess element-wise traversal would be the correct terminology\n",
    "> - Of course, if we encounter an 'X' along our traversal, we know that it is identified as a separate boat since it's an established rule that all boats have at least 1 cell between all boats\n",
    "> - Perhaps an interesting approach to this problem would be to count the number of floating boats by counting the amount of boats we can sink\n",
    ">   - That is, when we hit an 'X,' we then run it through a function to subsequently sink the rest of the boat so as to remove it from possibly counting the rest of the boat as separate boats\n",
    "> - If we are to move element wise (from top left of matrix to bottom right of matrix), then each first time we hit an 'X' would be a boat, not only that, but we would be hitting the front of the boat\n",
    ">   - To reiterate, if we are hitting the front of the boat each time, then we can also expect the rest of the boat to remain on either the right or below"
   ]
  },
  {
   "cell_type": "markdown",
   "metadata": {},
   "source": [
    "> ### Initial Algorithm\n",
    "> - We have a variable called \"battleships\" to store number of battleships counted\n",
    "> - We element-wise traverse the matrix \"board,\" and if we run into an 'X,' then we must sink the rest of the ship\n",
    ">   - Increment \"battleships\" by 1 as we are at the head of the battleship\n",
    ">   - Sinking will be taken care of through a recursive function\n",
    ">   - Only two directions, check both below or to the right of the current element\n",
    ">   - Edge case: we have to make sure that at the ends of the matrix, the deltas (checking if there is a boat component to the right or below) must be within bounds before we check if there is 'X' or not\n",
    "> - At the end, just return \"battleships\""
   ]
  },
  {
   "cell_type": "code",
   "execution_count": 3,
   "metadata": {},
   "outputs": [],
   "source": [
    "class Solution:\n",
    "    def countBattleships(self, board) -> int:\n",
    "        m, n = len(board), len(board[0])\n",
    "        battleships = 0\n",
    "                \n",
    "        def sink(i, j):\n",
    "            for delta_i, delta_j in [(0, 1), (1, 0)]:\n",
    "                if ((i + delta_i < m) and (j + delta_j < n) and (board[i + delta_i][j + delta_j] == 'X')):\n",
    "                    board[i + delta_i][j + delta_j] = '.'\n",
    "                    sink(i + delta_i, j + delta_j)\n",
    "\n",
    "        for i in range(m):\n",
    "            for j in range(n):\n",
    "                if (board[i][j] == 'X'):\n",
    "                    battleships += 1\n",
    "                    board[i][j] = '.'\n",
    "                    sink(i, j)\n",
    "        \n",
    "        return battleships"
   ]
  },
  {
   "cell_type": "code",
   "execution_count": 4,
   "metadata": {},
   "outputs": [
    {
     "name": "stdout",
     "output_type": "stream",
     "text": [
      "Ex 1:\n",
      " Result: 2\n",
      " Desire: 2\n",
      "Ex 2:\n",
      " Result: 0\n",
      " Desire: 0\n"
     ]
    }
   ],
   "source": [
    "sol = Solution()\n",
    "print('Ex 1:')\n",
    "print(' Result:', sol.countBattleships([[\"X\",\".\",\".\",\"X\"],[\".\",\".\",\".\",\"X\"],[\".\",\".\",\".\",\"X\"]]))\n",
    "print(' Desire: 2')\n",
    "print('Ex 2:')\n",
    "print(' Result:', sol.countBattleships([[\".\"]]))\n",
    "print(' Desire: 0')"
   ]
  },
  {
   "cell_type": "markdown",
   "metadata": {},
   "source": [
    "> Additional Notes:\n",
    "> - Although relatively quick for this problem, note that the time complexity of this algorithm O(m * n * 2^(n + m))) since we need to check bidirectionally whilst traversing the entire matrix\n",
    "> - This begs the question, is there a more simplistic algorithm? One that could be done in O(m * n) time? \n",
    ">   - In actuality, yes:\n",
    ">       - Notice that we completely skip '.'\n",
    ">       - Moreover, we only count when there is the head of a boat, otherwise, we don't want to count the other 'X' elements pertaining to an already-counted boat\n",
    ">       - To count whether something is a head, we must check if position i - delta_i == 'X', where if false, then it is a head. But if true, then it is not a head\n",
    ">       - A similar argument may be made using j + delta_j == 'X"
   ]
  },
  {
   "cell_type": "markdown",
   "metadata": {},
   "source": [
    "> ### Final Algorithm\n",
    "> - We have a variable \"battleships\" to store the count of battleships on the board\n",
    "> - Double for loop to element-wise traverse the matrix, \"board\"\n",
    "> - if the element at (i, j) of the board is a '.', then we move onto the next element\n",
    "> - if the element at (i - 1, j) of the board is valid and a 'X', then we move onto the next element\n",
    "> - if the element at (i, j - 1) of the board is valid and a 'X', then we move onto the next element\n",
    "> - Then finally return battleships"
   ]
  }
 ],
 "metadata": {
  "kernelspec": {
   "display_name": "Python 3.9.5 64-bit",
   "language": "python",
   "name": "python3"
  },
  "language_info": {
   "codemirror_mode": {
    "name": "ipython",
    "version": 3
   },
   "file_extension": ".py",
   "mimetype": "text/x-python",
   "name": "python",
   "nbconvert_exporter": "python",
   "pygments_lexer": "ipython3",
   "version": "3.9.5"
  },
  "orig_nbformat": 4,
  "vscode": {
   "interpreter": {
    "hash": "058bbb4884dca741715548dc8689daaa712f0bb17b4c8a018873ab55db552143"
   }
  }
 },
 "nbformat": 4,
 "nbformat_minor": 2
}
