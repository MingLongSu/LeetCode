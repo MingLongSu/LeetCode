{
 "cells": [
  {
   "cell_type": "markdown",
   "metadata": {},
   "source": [
    "# LeetCode 121\n",
    "![lc-121](./assets/question.jpg)\n",
    "![lc-121](./assets/constraints.jpg)"
   ]
  },
  {
   "cell_type": "markdown",
   "metadata": {},
   "source": [
    "> Observations:\n",
    "> - Just like the general idea for trading stocks, you want to buy low and sell high\n",
    "> - Note that we are given an elevation graph for the prices of stock on each date\n",
    "> - Note that if there is no profit to be made, then the max is a 0\n",
    "> - Note that there will be at least 1 day with a price in the list, prices\n",
    ">   - To add to this, this would still result in no profit since buy and selling on the same day would result in a net profit of 0 anyway"
   ]
  },
  {
   "cell_type": "markdown",
   "metadata": {},
   "source": [
    "![lc-121-ex1](./assets/ex1.jpg)\n",
    "![lc-121-ex2](./assets/ex2.jpg)"
   ]
  },
  {
   "cell_type": "markdown",
   "metadata": {},
   "source": [
    "> Notes:\n",
    "> - Note that this problem involves buying and selling, and of course you cannot sell a stock without first purchasing it\n",
    "> - This means that we may be able to deploy a double pointer, one to denote the purchase date and one to denote the selling date\n",
    "> - According to the question, the max profit made can only be 0, and so we should initially set the max profit amount to 0\n",
    "> - If the price at the buy date is more than then price at the sell date then we should move the buy date in hopes of getting a smaller buying price\n",
    "> - Otherwise, we just move the sell date, in hopes of finding a max profit"
   ]
  },
  {
   "cell_type": "markdown",
   "metadata": {},
   "source": [
    "> ### Algorithm\n",
    "> - We need two pointers, which represent the buy and sell dates (one at the start of the time and one at the end)\n",
    "> - While the buy date is less than the selling date, we move through the array to update the max profit from price[sell_date] - price[buy_date]\n",
    "> - We only move the buy date when the price at buy date is more than price at sell date, and otherwise, we move the sell date\n",
    "> - Then we return the max profit"
   ]
  },
  {
   "cell_type": "code",
   "execution_count": 3,
   "metadata": {},
   "outputs": [],
   "source": [
    "class Solution:\n",
    "    def maxProfit(self, prices):\n",
    "        date_buy, date_sell = 0, len(prices) - 1\n",
    "        max_profit = 0\n",
    "        while (date_buy < date_sell):\n",
    "            max_profit = max(max_profit, prices[date_sell] - prices[date_buy])\n",
    "            if (prices[date_buy] >= prices[date_sell]):\n",
    "                date_buy += 1\n",
    "            else:\n",
    "                date_sell -= 1\n",
    "        return max_profit"
   ]
  },
  {
   "cell_type": "code",
   "execution_count": 4,
   "metadata": {},
   "outputs": [
    {
     "name": "stdout",
     "output_type": "stream",
     "text": [
      "Ex 1:\n",
      " Result: 5\n",
      " Desire: 5\n",
      "Ex 2:\n",
      " Result: 0\n",
      " Desire: 0\n"
     ]
    }
   ],
   "source": [
    "sol = Solution()\n",
    "print('Ex 1:')\n",
    "print(' Result:', sol.maxProfit(prices = [7,1,5,3,6,4]))\n",
    "print(' Desire: 5')\n",
    "print('Ex 2:')\n",
    "print(' Result:', sol.maxProfit(prices = [7,6,4,3,1]))\n",
    "print(' Desire: 0')"
   ]
  },
  {
   "cell_type": "markdown",
   "metadata": {},
   "source": [
    "> Additional Notes:\n",
    "> - Although the solution works for these examples, it was a good start to approaching the problem but is not correct\n",
    "> - Noticeably, for examples like: [2,1,2,1,0,1,2], the algorithm implemented spits out 1 since it updates its pointers illogically. \n",
    "> - Instead, we could have the pointers side by side and if the price[date_buy] > price[date_sell] then we should set the date_buy to date_sell since we want to buy at the lowest\n",
    "> - And, we just keep updating date_sell since we want to find the greatest profit"
   ]
  },
  {
   "cell_type": "code",
   "execution_count": 5,
   "metadata": {},
   "outputs": [],
   "source": [
    "class Solution:\n",
    "    def maxProfit(self, prices):\n",
    "        date_buy, max_profit = 0, 0\n",
    "        for date_sell in range(1, len(prices)):\n",
    "            max_profit = max(max_profit, prices[date_sell] - prices[date_buy])\n",
    "            if (prices[date_buy] > prices[date_sell]):\n",
    "                date_buy = date_sell\n",
    "        return max_profit"
   ]
  },
  {
   "cell_type": "code",
   "execution_count": 6,
   "metadata": {},
   "outputs": [
    {
     "name": "stdout",
     "output_type": "stream",
     "text": [
      "Ex 1:\n",
      " Result: 5\n",
      " Desire: 5\n",
      "Ex 2:\n",
      " Result: 0\n",
      " Desire: 0\n"
     ]
    }
   ],
   "source": [
    "sol = Solution()\n",
    "print('Ex 1:')\n",
    "print(' Result:', sol.maxProfit(prices = [7,1,5,3,6,4]))\n",
    "print(' Desire: 5')\n",
    "print('Ex 2:')\n",
    "print(' Result:', sol.maxProfit(prices = [7,6,4,3,1]))\n",
    "print(' Desire: 0')"
   ]
  },
  {
   "cell_type": "markdown",
   "metadata": {},
   "source": [
    "> ### Final Verdict\n",
    "> - Note that since we are only updating the date_buy pointer on specific instances, and we traverse the array of prices once, then we have O(n) time complexity wher n is the length of prices\n",
    "> - Since we do not make use of any additional data structures, then our space complexity for this algorithm is O(1)"
   ]
  }
 ],
 "metadata": {
  "kernelspec": {
   "display_name": "Python 3.9.5 64-bit",
   "language": "python",
   "name": "python3"
  },
  "language_info": {
   "codemirror_mode": {
    "name": "ipython",
    "version": 3
   },
   "file_extension": ".py",
   "mimetype": "text/x-python",
   "name": "python",
   "nbconvert_exporter": "python",
   "pygments_lexer": "ipython3",
   "version": "3.9.5"
  },
  "orig_nbformat": 4,
  "vscode": {
   "interpreter": {
    "hash": "058bbb4884dca741715548dc8689daaa712f0bb17b4c8a018873ab55db552143"
   }
  }
 },
 "nbformat": 4,
 "nbformat_minor": 2
}
