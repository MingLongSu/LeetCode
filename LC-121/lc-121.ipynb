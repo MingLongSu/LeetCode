{
 "cells": [
  {
   "cell_type": "markdown",
   "metadata": {},
   "source": [
    "# LeetCode 121\n",
    "![lc-121](./assets/question.jpg)\n",
    "![lc-121](./assets/constraints.jpg)"
   ]
  },
  {
   "cell_type": "markdown",
   "metadata": {},
   "source": [
    "> Observations:\n",
    "> - Just like the general idea for trading stocks, you want to buy low and sell high\n",
    "> - Note that we are given an elevation graph for the prices of stock on each date\n",
    "> - Note that if there is no profit to be made, then the max is a 0\n",
    "> - Note that there will be at least 1 day with a price in the list, prices\n",
    ">   - To add to this, this would still result in no profit since buy and selling on the same day would result in a net profit of 0 anyway"
   ]
  },
  {
   "cell_type": "markdown",
   "metadata": {},
   "source": [
    "![lc-121-ex1](./assets/ex1.jpg)\n",
    "![lc-121-ex2](./assets/ex2.jpg)"
   ]
  },
  {
   "cell_type": "markdown",
   "metadata": {},
   "source": [
    "> Notes:\n",
    "> - Note that this problem involves buying and selling, and of course you cannot sell a stock without first purchasing it\n",
    "> - This means that we may be able to deploy a double pointer, one to denote the purchase date and one to denote the selling date\n",
    "> - According to the question, the max profit made can only be 0, and so we should initially set the max profit amount to 0\n",
    "> - If the price at the buy date is more than then price at the sell date then we should move the buy date in hopes of getting a smaller buying price\n",
    "> - Otherwise, we just move the sell date, in hopes of finding a max profit"
   ]
  },
  {
   "cell_type": "markdown",
   "metadata": {},
   "source": [
    "> ### Algorithm\n",
    "> - We need two pointers, which represent the buy and sell dates (one at the start of the time and one at the end)\n",
    "> - While the buy date is less than the selling date, we move through the array to update the max profit from price[sell_date] - price[buy_date]\n",
    "> - We only move the buy date when the price at buy date is more than price at sell date, and otherwise, we move the sell date\n",
    "> - Then we return the max profit"
   ]
  }
 ],
 "metadata": {
  "kernelspec": {
   "display_name": "Python 3.9.5 64-bit",
   "language": "python",
   "name": "python3"
  },
  "language_info": {
   "name": "python",
   "version": "3.9.5"
  },
  "orig_nbformat": 4,
  "vscode": {
   "interpreter": {
    "hash": "058bbb4884dca741715548dc8689daaa712f0bb17b4c8a018873ab55db552143"
   }
  }
 },
 "nbformat": 4,
 "nbformat_minor": 2
}
