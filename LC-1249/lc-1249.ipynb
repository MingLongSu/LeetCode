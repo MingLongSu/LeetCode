{
 "cells": [
  {
   "cell_type": "markdown",
   "metadata": {},
   "source": [
    "# LeetCode 1249\n",
    "![lc-1249](./assets/question.jpg)"
   ]
  },
  {
   "cell_type": "markdown",
   "metadata": {},
   "source": [
    "> Observations:\n",
    "> - Strings will be some character concatenation\n",
    "> - \"(\" indicates the number of open brackets\n",
    "> - \")\" indicates the number of closed brackets\n",
    "> - Similar to a balancing problem\n",
    "> - If n of \"(\" then req n of \")\" to enclose \"(\"\n",
    "> - Suppose n = # of \"(\" and m = # \")\"...\n",
    ">   - if n - m > 0, then remove n - m of \"(\"\n",
    ">   - if n - m = 0, then remove no \"(\"\n",
    ">   - if n - m < 0, then keep at 0"
   ]
  },
  {
   "cell_type": "markdown",
   "metadata": {},
   "source": [
    "![lc-1249-ex1](./assets/ex1.jpg)"
   ]
  },
  {
   "cell_type": "markdown",
   "metadata": {},
   "source": [
    "> Notes:\n",
    "> - With the current algorithm highlighted above, our result with be the same as the output's result.\n",
    "> - Run-through:\n",
    ">   - Algorithm will count first 2 \"(\" as open \n",
    ">   - Counting the 2 \")\" will count the previously counted open as now closed, because n - m = 2 - 2 = 0\n",
    ">   - Last \")\" will not be counted and # of open brackets remains 0"
   ]
  },
  {
   "cell_type": "markdown",
   "metadata": {},
   "source": [
    "![lc-1249-ex2](./assets/ex2.jpg)"
   ]
  },
  {
   "cell_type": "markdown",
   "metadata": {},
   "source": [
    "> Notes:\n",
    "> - The first \")\" needs not to be counted so count remains 0. Moreover, it needs not to be in the new string"
   ]
  },
  {
   "cell_type": "markdown",
   "metadata": {},
   "source": [
    "![lc-1249-ex3](./assets/ex3.jpg)"
   ]
  },
  {
   "cell_type": "markdown",
   "metadata": {},
   "source": [
    "> Notes:\n",
    "> - The 2 \")\" at the beginning will not decrement the counter so counter = 0\n",
    "> - Counter increments by 2 upon detection of 2 \"(\" \n",
    "> - Since n - m = 2 - 0 = 2, then 2 \"(\" must be removed"
   ]
  },
  {
   "cell_type": "markdown",
   "metadata": {},
   "source": [
    "> ### Final Algorithm\n",
    "> - Suppose there is a counter \"open,\" which increments upon detection of \"(\"\n",
    "> - \"open\" only decrements when met with a \"),\" but \"open\" cannot be < 0\n",
    "> - We then move backwards through a string to remove all extra \"(\", but this gives a flipped string\n",
    "> - To counteract flipped string, we flip the string again at return statement"
   ]
  },
  {
   "cell_type": "markdown",
   "metadata": {},
   "source": [
    "## Implementation "
   ]
  },
  {
   "cell_type": "code",
   "execution_count": 7,
   "metadata": {},
   "outputs": [],
   "source": [
    "class Solution:\n",
    "    def minRemoveToMakeValid(self, s: str) -> str:\n",
    "        open = 0\n",
    "        exclude_closing = ''       # string excluding all extra closing parenthesis\n",
    "        exclude_extra_opening = '' # string excluding all extra opening parenthesis\n",
    "\n",
    "        for character in s:\n",
    "            if (character == '('):\n",
    "                open = open + 1\n",
    "            elif (character == ')'):\n",
    "                if (open == 0):\n",
    "                    continue\n",
    "                open = open - 1\n",
    "            exclude_closing = exclude_closing + character\n",
    "\n",
    "        for character in exclude_closing[::-1]:\n",
    "            if (character == '(' and open > 0):\n",
    "                open = open - 1\n",
    "                continue\n",
    "            exclude_extra_opening = exclude_extra_opening + character\n",
    "\n",
    "        return exclude_extra_opening[::-1]\n"
   ]
  },
  {
   "cell_type": "code",
   "execution_count": 12,
   "metadata": {},
   "outputs": [
    {
     "name": "stdout",
     "output_type": "stream",
     "text": [
      "Ex. 1 OUT:  lee(t(c)o)de\n",
      "Ex. 2 OUT:  ab(c)d\n",
      "Ex. 3 OUT:  \n"
     ]
    }
   ],
   "source": [
    "sol = Solution()\n",
    "print('Ex. 1 OUT: ', sol.minRemoveToMakeValid('lee(t(c)o)de)'))\n",
    "print('Ex. 2 OUT: ', sol.minRemoveToMakeValid('a)b(c)d'))\n",
    "print('Ex. 3 OUT: ', sol.minRemoveToMakeValid('))(('))"
   ]
  }
 ],
 "metadata": {
  "kernelspec": {
   "display_name": "Python 3.9.5 64-bit",
   "language": "python",
   "name": "python3"
  },
  "language_info": {
   "codemirror_mode": {
    "name": "ipython",
    "version": 3
   },
   "file_extension": ".py",
   "mimetype": "text/x-python",
   "name": "python",
   "nbconvert_exporter": "python",
   "pygments_lexer": "ipython3",
   "version": "3.9.5"
  },
  "orig_nbformat": 4,
  "vscode": {
   "interpreter": {
    "hash": "058bbb4884dca741715548dc8689daaa712f0bb17b4c8a018873ab55db552143"
   }
  }
 },
 "nbformat": 4,
 "nbformat_minor": 2
}
