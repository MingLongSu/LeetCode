{
 "cells": [
  {
   "cell_type": "markdown",
   "metadata": {},
   "source": [
    "# LeetCode 1249\n",
    "![lc-1249](./assets/question.jpg)"
   ]
  },
  {
   "cell_type": "markdown",
   "metadata": {},
   "source": [
    "> Observations:\n",
    "> - Strings will be some character concatenation\n",
    "> - \"(\" indicates the number of open brackets\n",
    "> - \")\" indicates the number of closed brackets\n",
    "> - Similar to a balancing problem\n",
    "> - If n of \"(\" then req n of \")\" to enclose \"(\"\n",
    "> - Suppose n = # of \"(\" and m = # \")\"...\n",
    ">   - if n - m > 0, then remove n - m of \"(\"\n",
    ">   - if n - m = 0, then remove no \"(\"\n",
    ">   - if n - m < 0, then keep at 0"
   ]
  }
 ],
 "metadata": {
  "language_info": {
   "name": "python"
  },
  "orig_nbformat": 4
 },
 "nbformat": 4,
 "nbformat_minor": 2
}
