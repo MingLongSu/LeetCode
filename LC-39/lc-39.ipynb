{
 "cells": [
  {
   "cell_type": "markdown",
   "metadata": {},
   "source": [
    "# LeetCode 39\n",
    "![lc-39](./assets/question.jpg)\n",
    "![lc-39](./assets/constraints.jpg)"
   ]
  },
  {
   "cell_type": "markdown",
   "metadata": {},
   "source": [
    "> Observations:\n",
    "> - We must return an array of arrays of all unique combinations of numbers that sum to the target\n",
    ">   - That is, unique means that we do not want permutations that sum to target, but rather, combinations that sum to target\n",
    ">   - So the big question is, how can I eliminate the duplicates? To eliminate duplicates, I could try restricting the decision space or the candidates that I can choose from\n",
    ">   - Also, to find such combinations; perhaps the best way to start is to make use of a DFS approach\n",
    "> - Same numbers can be chosen unlimited numbers of times\n",
    "> - Number of unique combinations that sum up to the target value is less than 150 for all test cases\n",
    "> - Target is always at min 1\n",
    "> - The integers for the candidates are always greater than or equal to 1 but also less than or equal to 200"
   ]
  },
  {
   "cell_type": "markdown",
   "metadata": {},
   "source": [
    "![lc-39-ex1](./assets/ex1.jpg)\n",
    "![lc-39-ex2](./assets/ex2.jpg)\n",
    "![lc-39-ex3](./assets/ex3.jpg)"
   ]
  },
  {
   "cell_type": "markdown",
   "metadata": {},
   "source": [
    "> Notes:\n",
    "> - Again, a naive approach to the problem would be to make use of DFS and simply find all the possible permutations; but that would never get the desired result since combinations are desired\n",
    "> - Instead, we have to modify the DFS approach to find all combinations while maintaining uniqueness - which could be managed by restricting the decision space\n",
    "> - Perhaps we could simplify the problem to two decisions\n",
    ">   - Simplify it to something such as: we either add a number or we don't and restrict the decision space by not being able to choose numbers before it either\n",
    ">   - From ex 2, note that [2, 2, 2, 2] is valid for a target of 8; then our decision can be to either add the same number as before or not and eventually move onto a new number\n",
    "> - We would need an array to store the numbers accumulated so far and a value to keep track of the current sum\n",
    "> - Since we are using DFS, then we'll also be using a recursive approach and so some conditions need to be set:\n",
    ">   - If the current sum is greater than the target or we have run out of numbers to add, then we should just return\n",
    ">   - If the current sum is equal to the target, then we should append a copy of the array of numbers and then return as well to exit the recursion\n",
    "> - In terms of how the DFS will explore, again, we move in two directions\n",
    ">   - One path (recursive call) will explore the situation where we add the same number\n",
    ">   - One path will explore the situation where we do not add the same number and move along to the next number"
   ]
  },
  {
   "cell_type": "markdown",
   "metadata": {},
   "source": [
    "> ### Algorithm\n",
    "> - We need a results array to store all the unique combinations of integers that sum to the target\n",
    "> - We need to create a DFS function with the following params:\n",
    ">   - curr_comb, which is the current combination path that we have\n",
    ">   - cutoff, which is the index the indicates where we want to restrict the decision space for \n",
    ">   - total, which is the current total accumulated from the numbers that are in cur_comb\n",
    "> - In the DFS, we have the following base cases:\n",
    ">   - if total > target or if cutoff == quantity of numbers in candidates, then we should exit this recursive call\n",
    ">   - if total == target, then we should append the current accumulated list of numbers to the results and exit this recursive call as well\n",
    "> - If none of the aforementioned conditions fire off, then we should first explore the possibility of adding the current element at the cutoff\n",
    "> - Then we should pop the most recently added element to curr_comb\n",
    "> - Then explore the option of moving the cutoff forward\n",
    "> - Then finally return the results array"
   ]
  },
  {
   "cell_type": "code",
   "execution_count": 1,
   "metadata": {},
   "outputs": [],
   "source": [
    "class Solution:\n",
    "    def combinationSum(self, candidates, target):\n",
    "        num_candidates = len(candidates)\n",
    "        results = []\n",
    "\n",
    "        def dfs(curr_comb, cutoff, total):\n",
    "            if ((total > target) or (cutoff == num_candidates)):\n",
    "                return\n",
    "            if (total == target):\n",
    "                results.append(curr_comb.copy())\n",
    "                return\n",
    "            curr_comb.append(candidates[cutoff])\n",
    "            dfs(curr_comb, cutoff, total + candidates[cutoff])\n",
    "            curr_comb.pop()\n",
    "            dfs(curr_comb, cutoff + 1, total)\n",
    "        \n",
    "        dfs([], 0, 0)\n",
    "        return results"
   ]
  },
  {
   "cell_type": "code",
   "execution_count": 2,
   "metadata": {},
   "outputs": [
    {
     "name": "stdout",
     "output_type": "stream",
     "text": [
      "Ex 1:\n"
     ]
    },
    {
     "ename": "IndexError",
     "evalue": "list index out of range",
     "output_type": "error",
     "traceback": [
      "\u001b[1;31m---------------------------------------------------------------------------\u001b[0m",
      "\u001b[1;31mIndexError\u001b[0m                                Traceback (most recent call last)",
      "\u001b[1;32mc:\\Users\\banan\\Desktop\\LeetCode\\LC-39\\lc-39.ipynb Cell 7\u001b[0m in \u001b[0;36m<cell line: 3>\u001b[1;34m()\u001b[0m\n\u001b[0;32m      <a href='vscode-notebook-cell:/c%3A/Users/banan/Desktop/LeetCode/LC-39/lc-39.ipynb#W6sZmlsZQ%3D%3D?line=0'>1</a>\u001b[0m sol \u001b[39m=\u001b[39m Solution()\n\u001b[0;32m      <a href='vscode-notebook-cell:/c%3A/Users/banan/Desktop/LeetCode/LC-39/lc-39.ipynb#W6sZmlsZQ%3D%3D?line=1'>2</a>\u001b[0m \u001b[39mprint\u001b[39m(\u001b[39m'\u001b[39m\u001b[39mEx 1:\u001b[39m\u001b[39m'\u001b[39m)\n\u001b[1;32m----> <a href='vscode-notebook-cell:/c%3A/Users/banan/Desktop/LeetCode/LC-39/lc-39.ipynb#W6sZmlsZQ%3D%3D?line=2'>3</a>\u001b[0m \u001b[39mprint\u001b[39m(\u001b[39m'\u001b[39m\u001b[39m Result:\u001b[39m\u001b[39m'\u001b[39m, sol\u001b[39m.\u001b[39;49mcombinationSum(candidates \u001b[39m=\u001b[39;49m [\u001b[39m2\u001b[39;49m,\u001b[39m3\u001b[39;49m,\u001b[39m6\u001b[39;49m,\u001b[39m7\u001b[39;49m], target \u001b[39m=\u001b[39;49m \u001b[39m7\u001b[39;49m))\n\u001b[0;32m      <a href='vscode-notebook-cell:/c%3A/Users/banan/Desktop/LeetCode/LC-39/lc-39.ipynb#W6sZmlsZQ%3D%3D?line=3'>4</a>\u001b[0m \u001b[39mprint\u001b[39m(\u001b[39m'\u001b[39m\u001b[39m Desire: [[2,2,3],[7]]\u001b[39m\u001b[39m'\u001b[39m)\n\u001b[0;32m      <a href='vscode-notebook-cell:/c%3A/Users/banan/Desktop/LeetCode/LC-39/lc-39.ipynb#W6sZmlsZQ%3D%3D?line=4'>5</a>\u001b[0m \u001b[39mprint\u001b[39m(\u001b[39m'\u001b[39m\u001b[39mEx 2:\u001b[39m\u001b[39m'\u001b[39m)\n",
      "\u001b[1;32mc:\\Users\\banan\\Desktop\\LeetCode\\LC-39\\lc-39.ipynb Cell 7\u001b[0m in \u001b[0;36mSolution.combinationSum\u001b[1;34m(self, candidates, target)\u001b[0m\n\u001b[0;32m     <a href='vscode-notebook-cell:/c%3A/Users/banan/Desktop/LeetCode/LC-39/lc-39.ipynb#W6sZmlsZQ%3D%3D?line=13'>14</a>\u001b[0m     curr_comb\u001b[39m.\u001b[39mpop()\n\u001b[0;32m     <a href='vscode-notebook-cell:/c%3A/Users/banan/Desktop/LeetCode/LC-39/lc-39.ipynb#W6sZmlsZQ%3D%3D?line=14'>15</a>\u001b[0m     dfs(curr_comb, cutoff \u001b[39m+\u001b[39m \u001b[39m1\u001b[39m, total)\n\u001b[1;32m---> <a href='vscode-notebook-cell:/c%3A/Users/banan/Desktop/LeetCode/LC-39/lc-39.ipynb#W6sZmlsZQ%3D%3D?line=16'>17</a>\u001b[0m dfs([], \u001b[39m0\u001b[39;49m, \u001b[39m0\u001b[39;49m)\n\u001b[0;32m     <a href='vscode-notebook-cell:/c%3A/Users/banan/Desktop/LeetCode/LC-39/lc-39.ipynb#W6sZmlsZQ%3D%3D?line=17'>18</a>\u001b[0m \u001b[39mreturn\u001b[39;00m results\n",
      "\u001b[1;32mc:\\Users\\banan\\Desktop\\LeetCode\\LC-39\\lc-39.ipynb Cell 7\u001b[0m in \u001b[0;36mSolution.combinationSum.<locals>.dfs\u001b[1;34m(curr_comb, cutoff, total)\u001b[0m\n\u001b[0;32m     <a href='vscode-notebook-cell:/c%3A/Users/banan/Desktop/LeetCode/LC-39/lc-39.ipynb#W6sZmlsZQ%3D%3D?line=10'>11</a>\u001b[0m     \u001b[39mreturn\u001b[39;00m\n\u001b[0;32m     <a href='vscode-notebook-cell:/c%3A/Users/banan/Desktop/LeetCode/LC-39/lc-39.ipynb#W6sZmlsZQ%3D%3D?line=11'>12</a>\u001b[0m curr_comb\u001b[39m.\u001b[39mappend(candidates[cutoff])\n\u001b[1;32m---> <a href='vscode-notebook-cell:/c%3A/Users/banan/Desktop/LeetCode/LC-39/lc-39.ipynb#W6sZmlsZQ%3D%3D?line=12'>13</a>\u001b[0m dfs(curr_comb, cutoff, total \u001b[39m+\u001b[39;49m candidates[cutoff])\n\u001b[0;32m     <a href='vscode-notebook-cell:/c%3A/Users/banan/Desktop/LeetCode/LC-39/lc-39.ipynb#W6sZmlsZQ%3D%3D?line=13'>14</a>\u001b[0m curr_comb\u001b[39m.\u001b[39mpop()\n\u001b[0;32m     <a href='vscode-notebook-cell:/c%3A/Users/banan/Desktop/LeetCode/LC-39/lc-39.ipynb#W6sZmlsZQ%3D%3D?line=14'>15</a>\u001b[0m dfs(curr_comb, cutoff \u001b[39m+\u001b[39m \u001b[39m1\u001b[39m, total)\n",
      "\u001b[1;32mc:\\Users\\banan\\Desktop\\LeetCode\\LC-39\\lc-39.ipynb Cell 7\u001b[0m in \u001b[0;36mSolution.combinationSum.<locals>.dfs\u001b[1;34m(curr_comb, cutoff, total)\u001b[0m\n\u001b[0;32m     <a href='vscode-notebook-cell:/c%3A/Users/banan/Desktop/LeetCode/LC-39/lc-39.ipynb#W6sZmlsZQ%3D%3D?line=10'>11</a>\u001b[0m     \u001b[39mreturn\u001b[39;00m\n\u001b[0;32m     <a href='vscode-notebook-cell:/c%3A/Users/banan/Desktop/LeetCode/LC-39/lc-39.ipynb#W6sZmlsZQ%3D%3D?line=11'>12</a>\u001b[0m curr_comb\u001b[39m.\u001b[39mappend(candidates[cutoff])\n\u001b[1;32m---> <a href='vscode-notebook-cell:/c%3A/Users/banan/Desktop/LeetCode/LC-39/lc-39.ipynb#W6sZmlsZQ%3D%3D?line=12'>13</a>\u001b[0m dfs(curr_comb, cutoff, total \u001b[39m+\u001b[39;49m candidates[cutoff])\n\u001b[0;32m     <a href='vscode-notebook-cell:/c%3A/Users/banan/Desktop/LeetCode/LC-39/lc-39.ipynb#W6sZmlsZQ%3D%3D?line=13'>14</a>\u001b[0m curr_comb\u001b[39m.\u001b[39mpop()\n\u001b[0;32m     <a href='vscode-notebook-cell:/c%3A/Users/banan/Desktop/LeetCode/LC-39/lc-39.ipynb#W6sZmlsZQ%3D%3D?line=14'>15</a>\u001b[0m dfs(curr_comb, cutoff \u001b[39m+\u001b[39m \u001b[39m1\u001b[39m, total)\n",
      "\u001b[1;32mc:\\Users\\banan\\Desktop\\LeetCode\\LC-39\\lc-39.ipynb Cell 7\u001b[0m in \u001b[0;36mSolution.combinationSum.<locals>.dfs\u001b[1;34m(curr_comb, cutoff, total)\u001b[0m\n\u001b[0;32m     <a href='vscode-notebook-cell:/c%3A/Users/banan/Desktop/LeetCode/LC-39/lc-39.ipynb#W6sZmlsZQ%3D%3D?line=10'>11</a>\u001b[0m     \u001b[39mreturn\u001b[39;00m\n\u001b[0;32m     <a href='vscode-notebook-cell:/c%3A/Users/banan/Desktop/LeetCode/LC-39/lc-39.ipynb#W6sZmlsZQ%3D%3D?line=11'>12</a>\u001b[0m curr_comb\u001b[39m.\u001b[39mappend(candidates[cutoff])\n\u001b[1;32m---> <a href='vscode-notebook-cell:/c%3A/Users/banan/Desktop/LeetCode/LC-39/lc-39.ipynb#W6sZmlsZQ%3D%3D?line=12'>13</a>\u001b[0m dfs(curr_comb, cutoff, total \u001b[39m+\u001b[39;49m candidates[cutoff])\n\u001b[0;32m     <a href='vscode-notebook-cell:/c%3A/Users/banan/Desktop/LeetCode/LC-39/lc-39.ipynb#W6sZmlsZQ%3D%3D?line=13'>14</a>\u001b[0m curr_comb\u001b[39m.\u001b[39mpop()\n\u001b[0;32m     <a href='vscode-notebook-cell:/c%3A/Users/banan/Desktop/LeetCode/LC-39/lc-39.ipynb#W6sZmlsZQ%3D%3D?line=14'>15</a>\u001b[0m dfs(curr_comb, cutoff \u001b[39m+\u001b[39m \u001b[39m1\u001b[39m, total)\n",
      "\u001b[1;32mc:\\Users\\banan\\Desktop\\LeetCode\\LC-39\\lc-39.ipynb Cell 7\u001b[0m in \u001b[0;36mSolution.combinationSum.<locals>.dfs\u001b[1;34m(curr_comb, cutoff, total)\u001b[0m\n\u001b[0;32m     <a href='vscode-notebook-cell:/c%3A/Users/banan/Desktop/LeetCode/LC-39/lc-39.ipynb#W6sZmlsZQ%3D%3D?line=12'>13</a>\u001b[0m dfs(curr_comb, cutoff, total \u001b[39m+\u001b[39m candidates[cutoff])\n\u001b[0;32m     <a href='vscode-notebook-cell:/c%3A/Users/banan/Desktop/LeetCode/LC-39/lc-39.ipynb#W6sZmlsZQ%3D%3D?line=13'>14</a>\u001b[0m curr_comb\u001b[39m.\u001b[39mpop()\n\u001b[1;32m---> <a href='vscode-notebook-cell:/c%3A/Users/banan/Desktop/LeetCode/LC-39/lc-39.ipynb#W6sZmlsZQ%3D%3D?line=14'>15</a>\u001b[0m dfs(curr_comb, cutoff \u001b[39m+\u001b[39;49m \u001b[39m1\u001b[39;49m, total)\n",
      "\u001b[1;32mc:\\Users\\banan\\Desktop\\LeetCode\\LC-39\\lc-39.ipynb Cell 7\u001b[0m in \u001b[0;36mSolution.combinationSum.<locals>.dfs\u001b[1;34m(curr_comb, cutoff, total)\u001b[0m\n\u001b[0;32m     <a href='vscode-notebook-cell:/c%3A/Users/banan/Desktop/LeetCode/LC-39/lc-39.ipynb#W6sZmlsZQ%3D%3D?line=12'>13</a>\u001b[0m dfs(curr_comb, cutoff, total \u001b[39m+\u001b[39m candidates[cutoff])\n\u001b[0;32m     <a href='vscode-notebook-cell:/c%3A/Users/banan/Desktop/LeetCode/LC-39/lc-39.ipynb#W6sZmlsZQ%3D%3D?line=13'>14</a>\u001b[0m curr_comb\u001b[39m.\u001b[39mpop()\n\u001b[1;32m---> <a href='vscode-notebook-cell:/c%3A/Users/banan/Desktop/LeetCode/LC-39/lc-39.ipynb#W6sZmlsZQ%3D%3D?line=14'>15</a>\u001b[0m dfs(curr_comb, cutoff \u001b[39m+\u001b[39;49m \u001b[39m1\u001b[39;49m, total)\n",
      "    \u001b[1;31m[... skipping similar frames: Solution.combinationSum.<locals>.dfs at line 15 (1 times)]\u001b[0m\n",
      "\u001b[1;32mc:\\Users\\banan\\Desktop\\LeetCode\\LC-39\\lc-39.ipynb Cell 7\u001b[0m in \u001b[0;36mSolution.combinationSum.<locals>.dfs\u001b[1;34m(curr_comb, cutoff, total)\u001b[0m\n\u001b[0;32m     <a href='vscode-notebook-cell:/c%3A/Users/banan/Desktop/LeetCode/LC-39/lc-39.ipynb#W6sZmlsZQ%3D%3D?line=12'>13</a>\u001b[0m dfs(curr_comb, cutoff, total \u001b[39m+\u001b[39m candidates[cutoff])\n\u001b[0;32m     <a href='vscode-notebook-cell:/c%3A/Users/banan/Desktop/LeetCode/LC-39/lc-39.ipynb#W6sZmlsZQ%3D%3D?line=13'>14</a>\u001b[0m curr_comb\u001b[39m.\u001b[39mpop()\n\u001b[1;32m---> <a href='vscode-notebook-cell:/c%3A/Users/banan/Desktop/LeetCode/LC-39/lc-39.ipynb#W6sZmlsZQ%3D%3D?line=14'>15</a>\u001b[0m dfs(curr_comb, cutoff \u001b[39m+\u001b[39;49m \u001b[39m1\u001b[39;49m, total)\n",
      "\u001b[1;32mc:\\Users\\banan\\Desktop\\LeetCode\\LC-39\\lc-39.ipynb Cell 7\u001b[0m in \u001b[0;36mSolution.combinationSum.<locals>.dfs\u001b[1;34m(curr_comb, cutoff, total)\u001b[0m\n\u001b[0;32m     <a href='vscode-notebook-cell:/c%3A/Users/banan/Desktop/LeetCode/LC-39/lc-39.ipynb#W6sZmlsZQ%3D%3D?line=9'>10</a>\u001b[0m     results\u001b[39m.\u001b[39mappend(curr_comb\u001b[39m.\u001b[39mcopy())\n\u001b[0;32m     <a href='vscode-notebook-cell:/c%3A/Users/banan/Desktop/LeetCode/LC-39/lc-39.ipynb#W6sZmlsZQ%3D%3D?line=10'>11</a>\u001b[0m     \u001b[39mreturn\u001b[39;00m\n\u001b[1;32m---> <a href='vscode-notebook-cell:/c%3A/Users/banan/Desktop/LeetCode/LC-39/lc-39.ipynb#W6sZmlsZQ%3D%3D?line=11'>12</a>\u001b[0m curr_comb\u001b[39m.\u001b[39mappend(candidates[cutoff])\n\u001b[0;32m     <a href='vscode-notebook-cell:/c%3A/Users/banan/Desktop/LeetCode/LC-39/lc-39.ipynb#W6sZmlsZQ%3D%3D?line=12'>13</a>\u001b[0m dfs(curr_comb, cutoff, total \u001b[39m+\u001b[39m candidates[cutoff])\n\u001b[0;32m     <a href='vscode-notebook-cell:/c%3A/Users/banan/Desktop/LeetCode/LC-39/lc-39.ipynb#W6sZmlsZQ%3D%3D?line=13'>14</a>\u001b[0m curr_comb\u001b[39m.\u001b[39mpop()\n",
      "\u001b[1;31mIndexError\u001b[0m: list index out of range"
     ]
    }
   ],
   "source": [
    "sol = Solution()\n",
    "print('Ex 1:')\n",
    "print(' Result:', sol.combinationSum(candidates = [2,3,6,7], target = 7))\n",
    "print(' Desire: [[2,2,3],[7]]')\n",
    "print('Ex 2:')\n",
    "print(' Result:', sol.combinationSum(candidates = [2,3,5], target = 8))\n",
    "print(' Desire: [[2,2,2,2],[2,3,3],[3,5]]')\n",
    "print('Ex 3:')\n",
    "print(' Result:', sol.combinationSum(candidates = [2], target = 1))\n",
    "print(' Desire: []')"
   ]
  }
 ],
 "metadata": {
  "kernelspec": {
   "display_name": "Python 3.9.5 64-bit",
   "language": "python",
   "name": "python3"
  },
  "language_info": {
   "codemirror_mode": {
    "name": "ipython",
    "version": 3
   },
   "file_extension": ".py",
   "mimetype": "text/x-python",
   "name": "python",
   "nbconvert_exporter": "python",
   "pygments_lexer": "ipython3",
   "version": "3.9.5"
  },
  "orig_nbformat": 4,
  "vscode": {
   "interpreter": {
    "hash": "058bbb4884dca741715548dc8689daaa712f0bb17b4c8a018873ab55db552143"
   }
  }
 },
 "nbformat": 4,
 "nbformat_minor": 2
}
