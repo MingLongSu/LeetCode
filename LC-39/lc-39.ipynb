{
 "cells": [
  {
   "cell_type": "markdown",
   "metadata": {},
   "source": [
    "# LeetCode 39\n",
    "![lc-39](./assets/question.jpg)\n",
    "![lc-39](./assets/constraints.jpg)"
   ]
  },
  {
   "cell_type": "markdown",
   "metadata": {},
   "source": [
    "> Observations:\n",
    "> - We must return an array of arrays of all unique combinations of numbers that sum to the target\n",
    ">   - That is, unique means that we do not want permutations that sum to target, but rather, combinations that sum to target\n",
    ">   - So the big question is, how can I eliminate the duplicates? To eliminate duplicates, I could try restricting the decision space or the candidates that I can choose from\n",
    ">   - Also, to find such combinations; perhaps the best way to start is to make use of a DFS approach\n",
    "> - Same numbers can be chosen unlimited numbers of times\n",
    "> - Number of unique combinations that sum up to the target value is less than 150 for all test cases\n",
    "> - Target is always at min 1\n",
    "> - The integers for the candidates are always greater than or equal to 1 but also less than or equal to 200"
   ]
  }
 ],
 "metadata": {
  "kernelspec": {
   "display_name": "Python 3.9.5 64-bit",
   "language": "python",
   "name": "python3"
  },
  "language_info": {
   "codemirror_mode": {
    "name": "ipython",
    "version": 3
   },
   "file_extension": ".py",
   "mimetype": "text/x-python",
   "name": "python",
   "nbconvert_exporter": "python",
   "pygments_lexer": "ipython3",
   "version": "3.9.5"
  },
  "orig_nbformat": 4,
  "vscode": {
   "interpreter": {
    "hash": "058bbb4884dca741715548dc8689daaa712f0bb17b4c8a018873ab55db552143"
   }
  }
 },
 "nbformat": 4,
 "nbformat_minor": 2
}
