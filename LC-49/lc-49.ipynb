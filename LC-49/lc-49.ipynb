{
 "cells": [
  {
   "cell_type": "markdown",
   "metadata": {},
   "source": [
    "# LeetCode 49\n",
    "![lc-49](./assets/question.jpg)\n",
    "![lc-49](./assets/constraints.jpg)"
   ]
  },
  {
   "cell_type": "markdown",
   "metadata": {},
   "source": [
    "> Observations:\n",
    "> - Anagrams are words that can be formed by rearranging and utilising all original letters precisely once\n",
    ">   - This means that count of number for a particular letter is important \n",
    "> - We are dealing with words that may or may not have rearranged letters of other words\n",
    "> - A naive solution would be to perhaps reorder (from smallest letter to largest letter) the list/tuple/array-representation of each word uniquely and use such as keys in a dictionary and add all subsequent words to their respective keys. However, such a solution is hugely inefficient as it takes a lot of time to go through every word in the list and then reorder the letters of each word.\n",
    "> - But, the utilisation of a dictionary does seem to be the correct data structure for such a scenario as we need a method for storing a 'key' that represents particular anagrams, and then a 'value' that stores a list of the anagrams themselves. Moreover, we can even make use of the dictionary.values() function to get a list of all values for each kay. For example: (in the code below)"
   ]
  },
  {
   "cell_type": "code",
   "execution_count": 26,
   "metadata": {},
   "outputs": [
    {
     "name": "stdout",
     "output_type": "stream",
     "text": [
      "dict_values([['word1', 'word2', 'word3'], ['word4', 'word5', 'word6']])\n"
     ]
    }
   ],
   "source": [
    "dict = { \n",
    "    'anagram1': ['word1', 'word2', 'word3'], \n",
    "    'anagram2': ['word4', 'word5', 'word6']\n",
    "}\n",
    "print(dict.values())"
   ]
  },
  {
   "cell_type": "markdown",
   "metadata": {},
   "source": [
    "![lc-49-ex1](./assets/ex1.jpg)"
   ]
  },
  {
   "cell_type": "markdown",
   "metadata": {},
   "source": [
    "> Notes:\n",
    "> - Since we want to group anagrams together, then we should take into account the number of each character in each word; since there are only 26 letters in the alphabet and we're dealing with strings, then we can create a list of 26 elements all initialised to 0, each element representing the count of the number of characters\n",
    "> - We can use the ASCII values to find the indices instantaneously by taking ord(letter) - ord('a') for the index and then incrementing the integer value at that index\n",
    "> - Since we want to stick to the idea of using the dictionary, we can use the tuple representation of the list to then use as a key to the dictionary, and will also be where the strings of anagrams will then be appended"
   ]
  },
  {
   "cell_type": "markdown",
   "metadata": {},
   "source": [
    "![lc-49-ex2](./assets/ex2.jpg)"
   ]
  },
  {
   "cell_type": "markdown",
   "metadata": {},
   "source": [
    "> Notes:\n",
    "> - A length zero string must also be considered; however, if we are making a list to store the number of counter letters, then [0, 0, 0 ...] is a unique combination as well, all we must do is then append the character ''\n",
    "> - Since strs[i] consists of only lowercase English letters, we do not have to worry about space characters or other characters"
   ]
  },
  {
   "cell_type": "code",
   "execution_count": 32,
   "metadata": {},
   "outputs": [
    {
     "name": "stdout",
     "output_type": "stream",
     "text": [
      "dict_values([['a', 'b', 'c'], ['1']])\n",
      "32\n"
     ]
    }
   ],
   "source": [
    "theList = ['']\n",
    "theList.append('')\n",
    "\n",
    "dict = {}\n",
    "dict['new_anagram1'] = []\n",
    "dict['new_anagram1'].append('a')\n",
    "dict['new_anagram1'].append('b')\n",
    "dict['new_anagram1'].append('c')\n",
    "dict['new_anagram2'] = []\n",
    "dict['new_anagram2'].append('1')\n",
    "\n",
    "print(dict.values())"
   ]
  }
 ],
 "metadata": {
  "kernelspec": {
   "display_name": "Python 3.9.5 64-bit",
   "language": "python",
   "name": "python3"
  },
  "language_info": {
   "codemirror_mode": {
    "name": "ipython",
    "version": 3
   },
   "file_extension": ".py",
   "mimetype": "text/x-python",
   "name": "python",
   "nbconvert_exporter": "python",
   "pygments_lexer": "ipython3",
   "version": "3.9.5"
  },
  "orig_nbformat": 4,
  "vscode": {
   "interpreter": {
    "hash": "058bbb4884dca741715548dc8689daaa712f0bb17b4c8a018873ab55db552143"
   }
  }
 },
 "nbformat": 4,
 "nbformat_minor": 2
}
