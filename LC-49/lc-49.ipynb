{
 "cells": [
  {
   "cell_type": "markdown",
   "metadata": {},
   "source": [
    "# LeetCode 49\n",
    "![lc-49](./assets/question.jpg)"
   ]
  },
  {
   "cell_type": "markdown",
   "metadata": {},
   "source": [
    "> Observations:\n",
    "> - Anagrams are words that can be formed by rearranging and utilising all original letters precisely once\n",
    ">   - This means that count of number for a particular letter is important \n",
    "> - We are dealing with words that may or may not have rearranged letters of other words\n",
    "> - A naive solution would be to perhaps reorder (from smallest letter to largest letter) the list/tuple/array-representation of each word uniquely and use such as keys in a dictionary and add all subsequent words to their respective keys. However, such a solution is hugely inefficient as it takes a lot of time to go through every word in the list and then reorder the letters of each word.\n",
    "> - But, the utilisation of a dictionary does seem to be the correct data structure for such a scenario as we need a method for storing a 'key' that represents particular anagrams, and then a 'value' that stores a list of the anagrams themselves. For example: (in the code below)"
   ]
  },
  {
   "cell_type": "code",
   "execution_count": 10,
   "metadata": {},
   "outputs": [
    {
     "name": "stdout",
     "output_type": "stream",
     "text": [
      "dict_values([['word1', 'word2', 'word3'], ['word4', 'word5', 'word6']])\n"
     ]
    }
   ],
   "source": [
    "dict = { \n",
    "    'anagram1': ['word1', 'word2', 'word3'], \n",
    "    'anagram2': ['word4', 'word5', 'word6']\n",
    "}\n",
    "print(dict.values())"
   ]
  }
 ],
 "metadata": {
  "kernelspec": {
   "display_name": "Python 3.9.5 64-bit",
   "language": "python",
   "name": "python3"
  },
  "language_info": {
   "codemirror_mode": {
    "name": "ipython",
    "version": 3
   },
   "file_extension": ".py",
   "mimetype": "text/x-python",
   "name": "python",
   "nbconvert_exporter": "python",
   "pygments_lexer": "ipython3",
   "version": "3.9.5"
  },
  "orig_nbformat": 4,
  "vscode": {
   "interpreter": {
    "hash": "058bbb4884dca741715548dc8689daaa712f0bb17b4c8a018873ab55db552143"
   }
  }
 },
 "nbformat": 4,
 "nbformat_minor": 2
}
