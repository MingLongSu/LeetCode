{
 "cells": [
  {
   "cell_type": "markdown",
   "metadata": {},
   "source": [
    "# LeetCode 49\n",
    "![lc-49](./assets/question.jpg)\n",
    "![lc-49](./assets/constraints.jpg)"
   ]
  },
  {
   "cell_type": "markdown",
   "metadata": {},
   "source": [
    "> Observations:\n",
    "> - Anagrams are words that can be formed by rearranging and utilising all original letters precisely once\n",
    ">   - This means that count of number for a particular letter is important \n",
    "> - We are dealing with words that may or may not have rearranged letters of other words\n",
    "> - A naive solution would be to perhaps reorder (from smallest letter to largest letter) the list/tuple/array-representation of each word uniquely and use such as keys in a dictionary and add all subsequent words to their respective keys. However, such a solution is hugely inefficient as it takes a lot of time to go through every word in the list and then reorder the letters of each word.\n",
    "> - But, the utilisation of a dictionary does seem to be the correct data structure for such a scenario as we need a method for storing a 'key' that represents particular anagrams, and then a 'value' that stores a list of the anagrams themselves. Moreover, we can even make use of the dictionary.values() function to get a list of all values for each kay. For example: (in the code below)"
   ]
  },
  {
   "cell_type": "code",
   "execution_count": 38,
   "metadata": {},
   "outputs": [
    {
     "name": "stdout",
     "output_type": "stream",
     "text": [
      "dict_values([['word1', 'word2', 'word3'], ['word4', 'word5', 'word6']])\n"
     ]
    }
   ],
   "source": [
    "dict = { \n",
    "    'anagram1': ['word1', 'word2', 'word3'], \n",
    "    'anagram2': ['word4', 'word5', 'word6']\n",
    "}\n",
    "print(dict.values())"
   ]
  },
  {
   "cell_type": "markdown",
   "metadata": {},
   "source": [
    "![lc-49-ex1](./assets/ex1.jpg)"
   ]
  },
  {
   "cell_type": "markdown",
   "metadata": {},
   "source": [
    "> Notes:\n",
    "> - Since we want to group anagrams together, then we should take into account the number of each character in each word; since there are only 26 letters in the alphabet and we're dealing with strings, then we can create a list of 26 elements all initialised to 0, each element representing the count of the number of characters\n",
    "> - We can use the ASCII values to find the indices instantaneously by taking ord(letter) - ord('a') for the index and then incrementing the integer value at that index\n",
    "> - Since we want to stick to the idea of using the dictionary, we can use the tuple representation of the list to then use as a key to the dictionary, and will also be where the strings of anagrams will then be appended"
   ]
  },
  {
   "cell_type": "markdown",
   "metadata": {},
   "source": [
    "![lc-49-ex2](./assets/ex2.jpg)"
   ]
  },
  {
   "cell_type": "markdown",
   "metadata": {},
   "source": [
    "> Notes:\n",
    "> - A length zero string must also be considered; so we have a condition for if the length of a string is 0, then the list for counting the number of characters remainds at its initialised values, and then appends \"\"\n",
    "> - Since strs[i] consists of only lowercase English letters, we do not have to worry about space characters or other characters"
   ]
  },
  {
   "cell_type": "markdown",
   "metadata": {},
   "source": [
    "### Final Algorithm\n",
    "> - We traverse the list of strings\n",
    "> - We then traverse each letter in each string \n",
    "> - if string is not of length 0, then increment at counts of letters at appropriate indices \n",
    "> - check if key is in dict by using conditional: if counter in dict\n",
    "> - if in dict then just append the current string, but if not then create the key-value pair"
   ]
  },
  {
   "cell_type": "markdown",
   "metadata": {},
   "source": [
    "## Final Implementation"
   ]
  },
  {
   "cell_type": "code",
   "execution_count": 39,
   "metadata": {},
   "outputs": [],
   "source": [
    "class Solution:\n",
    "    def groupAnagrams(self, strs):\n",
    "        anagram_groups = {}\n",
    "\n",
    "        for string in strs:\n",
    "\n",
    "            all_letters = [0] * 26\n",
    "\n",
    "            if (len(string) > 0):\n",
    "                for letter in string:\n",
    "                    all_letters[ord(letter) - ord('a')] += 1\n",
    "\n",
    "            if (tuple(all_letters) not in anagram_groups):\n",
    "                anagram_groups[tuple(all_letters)] = []\n",
    "\n",
    "            anagram_groups[tuple(all_letters)].append(string)\n",
    "\n",
    "        return anagram_groups.values()\n",
    "        "
   ]
  },
  {
   "cell_type": "code",
   "execution_count": 43,
   "metadata": {},
   "outputs": [
    {
     "name": "stdout",
     "output_type": "stream",
     "text": [
      "Result Ex1:  dict_values([['eat', 'tea', 'ate'], ['tan', 'nat'], ['bat']])\n",
      "Result Ex1:  dict_values([['']])\n",
      "Result Ex1:  dict_values([['a']])\n"
     ]
    }
   ],
   "source": [
    "sol = Solution()\n",
    "print('Result Ex1: ', sol.groupAnagrams([\"eat\",\"tea\",\"tan\",\"ate\",\"nat\",\"bat\"]))\n",
    "print('Result Ex1: ', sol.groupAnagrams([\"\"]))\n",
    "print('Result Ex1: ', sol.groupAnagrams([\"a\"]))"
   ]
  },
  {
   "cell_type": "markdown",
   "metadata": {},
   "source": [
    "> ### Final Verdict\n",
    "> - Note that we are traversing the list of strings once, and then traversing the strings themselves once (going through each element) this gives us a time complexity of O(m * n) where m is the number of strings in strs, and n is the length of each string in strs. In terms of space complexity, we make use of dictionaries and lists and so this gives a space compexity of O(m) where m is the number of strings in strs."
   ]
  }
 ],
 "metadata": {
  "kernelspec": {
   "display_name": "Python 3.9.5 64-bit",
   "language": "python",
   "name": "python3"
  },
  "language_info": {
   "codemirror_mode": {
    "name": "ipython",
    "version": 3
   },
   "file_extension": ".py",
   "mimetype": "text/x-python",
   "name": "python",
   "nbconvert_exporter": "python",
   "pygments_lexer": "ipython3",
   "version": "3.9.5"
  },
  "orig_nbformat": 4,
  "vscode": {
   "interpreter": {
    "hash": "058bbb4884dca741715548dc8689daaa712f0bb17b4c8a018873ab55db552143"
   }
  }
 },
 "nbformat": 4,
 "nbformat_minor": 2
}
