{
 "cells": [
  {
   "cell_type": "markdown",
   "metadata": {},
   "source": [
    "# LeetCode 1094\n",
    "![lc-1094](./assets/question.jpg)\n",
    "![lc-1094](./assets/constraints.jpg)"
   ]
  },
  {
   "cell_type": "markdown",
   "metadata": {},
   "source": [
    "> Observations:\n",
    "> - The trips array will consist of a list that includes 3 components: numPassengers (number of passengers), from (start), to (destination)\n",
    "> - There will always be at least 1 trip\n",
    "> - Always be at least 1 passenger to pick up and drop off\n",
    "> - Capacity of at least 1\n",
    "> - Note that the car only drives east, and cannot turn around (this makes the question more linear, so to say)\n",
    ">   - Although the car only drives east, the question does not specify whether the list of trips is in order from closest to furthest \"from\" location, therefore, some sorting may be required first\n",
    "> - Notice that, for car pooling, the question asks whether it's possible to pick up and deliver all passengers in a single go \n",
    ">   - In order to determine whether such an operation is possible, we must also keep track of how many passengers to drop off at a particular destination\n",
    ">   - Since we've sorted the trips array, then adding the \"to\" points and their associated \"numPassengers\" to an alternate array and then having it sorted can ensure that we always drop off the priority passengers (the ones that need to be dropped off first)"
   ]
  },
  {
   "cell_type": "markdown",
   "metadata": {},
   "source": [
    "![lc-1094-ex1](./assets/ex1.jpg)\n",
    "![lc-1094-ex2](./assets/ex2.jpg)"
   ]
  },
  {
   "cell_type": "markdown",
   "metadata": {},
   "source": [
    "> Notes:\n",
    "> - For both examples, the \"trips\" arrays are already sorted for us, but in the test cases, we should sort first anyway since we are not certain that such an array will be sorted\n",
    "> - For example 1, note that as we move from left to right:\n",
    ">   - On our first trip, we accumulate 2 passengers\n",
    ">   - We also need to pass the \"to\" location and the number of passengers to an array to be sorted -- OR better yet, we make use of a MINHEAP, so that everything is sorted by smallest first\n",
    ">   - On the second trip, notice that the \"from\" location is less than the smallest \"to\" location, that is just the \"to\" location of the previous trip, that means we have yet to pass the point for which the passengers can get off, and therefore, we do not remove the passengers\n",
    ">   - Since we do not remove any passengers, then we just add the second trip's set of passengers\n",
    ">   - However, notice that the number of passengers is now greater than the capacity, and so the trip cannot be made and therefore the final function should return false in the end\n",
    "> - As for example 2, following the same heuristic algorithm, we should arrive at true since we have reached the end of trips array, and the cap was never exceeded"
   ]
  },
  {
   "cell_type": "markdown",
   "metadata": {},
   "source": [
    "> ### Algorithm\n",
    "> - We need a variable to keep track of the total number of passengers \"total_passengers\"\n",
    "> - We need an array to act as our minheap to ensure that those that need to be dropped off first are always ordered first, \"closest_stops\"\n",
    "> - We first need to sort the array based on the \"from\" locations of each trip to ensure that the trip is from west to east\n",
    "> - Then, we cycle through each trip, if the minheap is not empty and the \"from\" location of the current trip is greater than the \"to\" location of the first value in the minheap, then we should pop top-most value of the minheap and remove the number of passengers for that particular stop\n",
    "> - Finally, we then add the new passengers of the current trip and to the minheap, and also check whether the total exceeds the capacity. If exceeds, then return False\n",
    "> - Otherwise, once we have cycled through all the trips and no exceeded capacity issues have occurred, then we return True"
   ]
  },
  {
   "cell_type": "code",
   "execution_count": 9,
   "metadata": {},
   "outputs": [],
   "source": [
    "import heapq\n",
    "\n",
    "class Solution:\n",
    "    def carPooling(self, trips, capacity):\n",
    "        total_passengers = 0\n",
    "        closest_stops = []\n",
    "\n",
    "        trips.sort(key = lambda trip: trip[1])\n",
    "\n",
    "        for trip in trips:\n",
    "            trip_new_passengers, trip_from, trip_to = trip[0], trip[1], trip[2]\n",
    "            while (closest_stops and closest_stops[0][0] <= trip_from):\n",
    "                stop, passengers = heapq.heappop(closest_stops)\n",
    "                total_passengers -= passengers\n",
    "            total_passengers += trip_new_passengers\n",
    "            heapq.heappush(closest_stops, [trip_to, trip_new_passengers])\n",
    "            if (total_passengers > capacity):\n",
    "                return False\n",
    "        return True"
   ]
  },
  {
   "cell_type": "code",
   "execution_count": 10,
   "metadata": {},
   "outputs": [
    {
     "name": "stdout",
     "output_type": "stream",
     "text": [
      "Ex 1:\n",
      " Result: False\n",
      " Desire: False\n",
      "Ex 2:\n",
      " Result: True\n",
      " Desire: True\n"
     ]
    }
   ],
   "source": [
    "sol = Solution()\n",
    "print('Ex 1:')\n",
    "print(' Result:', sol.carPooling(trips = [[2,1,5],[3,3,7]], capacity = 4))\n",
    "print(' Desire: False')\n",
    "print('Ex 2:')\n",
    "print(' Result:', sol.carPooling(trips = [[2,1,5],[3,3,7]], capacity = 5))\n",
    "print(' Desire: True')"
   ]
  },
  {
   "cell_type": "markdown",
   "metadata": {},
   "source": [
    "> ### Final Verdict\n",
    "> - Notice that we make use of the array sort function in python, this sort function has a time complexity of O(nlogn), where n is the number of trips in the trips array. In addition, our for loop only traverses once, hence O(n). All in all, this algorithm has a time complexity of O(nlogn) due to sorting\n",
    "> - In terms of space complexity, since we make use of a minheap data structure that stores at most n items, where n is the number of trips in the trips array, then the overall space comlexity of this algorithm is O(n)"
   ]
  }
 ],
 "metadata": {
  "kernelspec": {
   "display_name": "Python 3.9.5 64-bit",
   "language": "python",
   "name": "python3"
  },
  "language_info": {
   "codemirror_mode": {
    "name": "ipython",
    "version": 3
   },
   "file_extension": ".py",
   "mimetype": "text/x-python",
   "name": "python",
   "nbconvert_exporter": "python",
   "pygments_lexer": "ipython3",
   "version": "3.9.5"
  },
  "orig_nbformat": 4,
  "vscode": {
   "interpreter": {
    "hash": "058bbb4884dca741715548dc8689daaa712f0bb17b4c8a018873ab55db552143"
   }
  }
 },
 "nbformat": 4,
 "nbformat_minor": 2
}
