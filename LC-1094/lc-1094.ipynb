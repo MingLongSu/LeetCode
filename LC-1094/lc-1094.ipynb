{
 "cells": [
  {
   "cell_type": "markdown",
   "metadata": {},
   "source": [
    "# LeetCode 1094\n",
    "![lc-1094](./assets/question.jpg)\n",
    "![lc-1094](./assets/constraints.jpg)"
   ]
  },
  {
   "cell_type": "markdown",
   "metadata": {},
   "source": [
    "> Observations:\n",
    "> - The trips array will consist of a list that includes 3 components: numPassengers (number of passengers), from (start), to (destination)\n",
    "> - There will always be at least 1 trip\n",
    "> - Always be at least 1 passenger to pick up and drop off\n",
    "> - Capacity of at least 1\n",
    "> - Note that the car only drives east, and cannot turn around (this makes the question more linear, so to say)\n",
    ">   - Although the car only drives east, the question does not specify whether the list of trips is in order from closest to furthest \"from\" location, therefore, some sorting may be required first\n",
    "> - Notice that, for car pooling, the question asks whether it's possible to pick up and deliver all passengers in a single go \n",
    ">   - In order to determine whether such an operation is possible, we must also keep track of how many passengers to drop off at a particular destination\n",
    ">   - Since we've sorted the trips array, then adding the \"to\" points and their associated \"numPassengers\" to an alternate array and then having it sorted can ensure that we always drop off the priority passengers (the ones that need to be dropped off first)"
   ]
  }
 ],
 "metadata": {
  "kernelspec": {
   "display_name": "Python 3.9.5 64-bit",
   "language": "python",
   "name": "python3"
  },
  "language_info": {
   "name": "python",
   "version": "3.9.5"
  },
  "orig_nbformat": 4,
  "vscode": {
   "interpreter": {
    "hash": "058bbb4884dca741715548dc8689daaa712f0bb17b4c8a018873ab55db552143"
   }
  }
 },
 "nbformat": 4,
 "nbformat_minor": 2
}
