{
 "cells": [
  {
   "cell_type": "markdown",
   "metadata": {},
   "source": [
    "# LeetCode 53\n",
    "![lc-53](./assets/question.jpg)\n",
    "![lc-53](./assets/constraints.jpg)"
   ]
  },
  {
   "cell_type": "markdown",
   "metadata": {},
   "source": [
    "> Observations:\n",
    "> - Note that we have to find the largest sum achievable from a contiguous subarray of the given array, \"nums\"\n",
    "> - Note that there will always be at least one number in the array\n",
    ">   - Then, if there is one element in the number array, then we return that number"
   ]
  },
  {
   "cell_type": "markdown",
   "metadata": {},
   "source": [
    "![lc-53-ex1](./assets/ex1.jpg)\n",
    "![lc-53-ex2](./assets/ex2.jpg)\n",
    "![lc-53-ex3](./assets/ex3.jpg)"
   ]
  },
  {
   "cell_type": "markdown",
   "metadata": {},
   "source": [
    "> Notes:\n",
    "> - For example 1, the largest sum achieved is from [4, -1, 2, 1] which is sum = 6. Notice that we can kind of think of the problem as a sliding window\n",
    "> - For example 2, this is an instance where we can simply return the first value since len(nums) == 1 is True\n",
    "> - For example 3, notice that, although there is a negative number between the positive numbers in the array, the largest contiguous array is the array itself. So perhaps we should only be bothered with resetting a sum when the sum is less than 0\n",
    "> - Simplifying the problem from a sliding window, we could think of it as a simple single pass problem if we can reset the sum\n",
    "> - Since there is at least one number in the list, \"nums,\" then the initial max should be set to nums[0]\n",
    "> - In order to update the max, we will have a sum that accumulates as it traverses and adds the elements in \"nums\", and if sum > the max sum, then we should update the max sum"
   ]
  }
 ],
 "metadata": {
  "kernelspec": {
   "display_name": "Python 3.9.5 64-bit",
   "language": "python",
   "name": "python3"
  },
  "language_info": {
   "name": "python",
   "version": "3.9.5"
  },
  "orig_nbformat": 4,
  "vscode": {
   "interpreter": {
    "hash": "058bbb4884dca741715548dc8689daaa712f0bb17b4c8a018873ab55db552143"
   }
  }
 },
 "nbformat": 4,
 "nbformat_minor": 2
}
