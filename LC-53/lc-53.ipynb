{
 "cells": [
  {
   "cell_type": "markdown",
   "metadata": {},
   "source": [
    "# LeetCode 53\n",
    "![lc-53](./assets/question.jpg)\n",
    "![lc-53](./assets/constraints.jpg)"
   ]
  },
  {
   "cell_type": "markdown",
   "metadata": {},
   "source": [
    "> Observations:\n",
    "> - Note that we have to find the largest sum achievable from a contiguous subarray of the given array, \"nums\"\n",
    "> - Note that there will always be at least one number in the array\n",
    ">   - Then, if there is one element in the number array, then we return that number"
   ]
  },
  {
   "cell_type": "markdown",
   "metadata": {},
   "source": [
    "![lc-53-ex1](./assets/ex1.jpg)\n",
    "![lc-53-ex2](./assets/ex2.jpg)\n",
    "![lc-53-ex3](./assets/ex3.jpg)"
   ]
  },
  {
   "cell_type": "markdown",
   "metadata": {},
   "source": [
    "> Notes:\n",
    "> - For example 1, the largest sum achieved is from [4, -1, 2, 1] which is sum = 6. Notice that we can kind of think of the problem as a sliding window\n",
    "> - For example 2, this is an instance where we can simply return the first value since len(nums) == 1 is True\n",
    "> - For example 3, notice that, although there is a negative number between the positive numbers in the array, the largest contiguous array is the array itself. So perhaps we should only be bothered with resetting a sum when the sum is less than 0\n",
    "> - Simplifying the problem from a sliding window, we could think of it as a simple single pass problem if we can reset the sum\n",
    "> - Since there is at least one number in the list, \"nums,\" then the initial max should be set to nums[0]\n",
    "> - In order to update the max, we will have a sum that accumulates as it traverses and adds the elements in \"nums\", and if sum > the max sum, then we should update the max sum"
   ]
  },
  {
   "cell_type": "markdown",
   "metadata": {},
   "source": [
    "> ### Algorithm\n",
    "> - We need a variable to store the total as we traverse, \"total\"\n",
    "> - We need a variable to store the greatest total accumulatable from the subarrays, \"max_total\"\n",
    "> - If the length of nums is 1, then the greatest possible sum of a subarray of the array is the amount given by the first value of the array, so we return nums[0]\n",
    "> - \"total\" and \"max_total\" should both be initially set to nums[0] (since start of 0 would mean that, if the whole list had negative numbers, then max would be 0 albeit not existent in the array, \"nums\")\n",
    "> - As we traverse the array (we have to start from index 1 since we init'd with index 0), \"nums\":\n",
    ">   - if total is ever less than zero, then set total to 0\n",
    ">   - total should then be added by the value at nums[i] (where i is an index of the array)\n",
    ">   - Then, if total is greater than max_total, then we update max_total to total\n",
    "> - Finally, we return the value at max_total"
   ]
  },
  {
   "cell_type": "code",
   "execution_count": 1,
   "metadata": {},
   "outputs": [],
   "source": [
    "class Solution:\n",
    "    def maxSubArray(self, nums) -> int:\n",
    "        length = len(nums)\n",
    "        if (length == 1):\n",
    "            return nums[0]\n",
    "        total, max_total = nums[0], nums[0]\n",
    "        for i in range(1, length):\n",
    "            if (total < 0):\n",
    "                total = 0\n",
    "            total += nums[i]\n",
    "            max_total = max(total, max_total)\n",
    "        return max_total"
   ]
  },
  {
   "cell_type": "code",
   "execution_count": 2,
   "metadata": {},
   "outputs": [
    {
     "name": "stdout",
     "output_type": "stream",
     "text": [
      "Ex 1:\n",
      " Result: 6\n",
      " Desire: 6\n",
      "Ex 2:\n",
      " Result: 1\n",
      " Desire: 1\n",
      "Ex 3:\n",
      " Result: 23\n",
      " Desire: 23\n"
     ]
    }
   ],
   "source": [
    "sol = Solution()\n",
    "print('Ex 1:')\n",
    "print(' Result:', sol.maxSubArray([-2,1,-3,4,-1,2,1,-5,4]))\n",
    "print(' Desire: 6')\n",
    "print('Ex 2:')\n",
    "print(' Result:', sol.maxSubArray([1]))\n",
    "print(' Desire: 1')\n",
    "print('Ex 3:')\n",
    "print(' Result:', sol.maxSubArray([5,4,-1,7,8]))\n",
    "print(' Desire: 23')"
   ]
  },
  {
   "cell_type": "markdown",
   "metadata": {},
   "source": [
    "> ### Final Verdict\n",
    "> - Note that we end up traversing the entire array once, however, all other processes are O(1) and so this deliveres an algorithmic time complexity of O(n), where n is the length of nums\n",
    "> - As for space complexity, since we do not make use of any other data structures, this algorithm implements an O(1) space complexity"
   ]
  }
 ],
 "metadata": {
  "kernelspec": {
   "display_name": "Python 3.9.5 64-bit",
   "language": "python",
   "name": "python3"
  },
  "language_info": {
   "codemirror_mode": {
    "name": "ipython",
    "version": 3
   },
   "file_extension": ".py",
   "mimetype": "text/x-python",
   "name": "python",
   "nbconvert_exporter": "python",
   "pygments_lexer": "ipython3",
   "version": "3.9.5"
  },
  "orig_nbformat": 4,
  "vscode": {
   "interpreter": {
    "hash": "058bbb4884dca741715548dc8689daaa712f0bb17b4c8a018873ab55db552143"
   }
  }
 },
 "nbformat": 4,
 "nbformat_minor": 2
}
