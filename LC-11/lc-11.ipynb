{
 "cells": [
  {
   "cell_type": "markdown",
   "metadata": {},
   "source": [
    "# LeetCode 11\n",
    "![lc-11](./assets/question.jpg)\n",
    "![lc-11](./assets/constraints.jpg)"
   ]
  },
  {
   "cell_type": "markdown",
   "metadata": {},
   "source": [
    "> Observations:\n",
    "> - The elevation map will always have at least 2 pillars of elevation\n",
    "> - Although there is an immense elevation map width max and immense pillar height max, the height of the pillars will not affect the space or time complexity by any means\n",
    "> - Since we are attempting to maximize on area, a greedy algorithm may be deployed where we try to navigate to the largest pillars to check their produced areas"
   ]
  },
  {
   "cell_type": "markdown",
   "metadata": {},
   "source": [
    "![lc-11-ex1](./assets/ex1.jpg)\n",
    "![lc-11-ex2](./assets/ex2.jpg)"
   ]
  },
  {
   "cell_type": "markdown",
   "metadata": {},
   "source": [
    "> Notes:\n",
    "> - Since we are employing the greedy algorithm to uncover all potential max areas, then we could utilise double pointers; where each one starts on opposite sides\n",
    "> - Again with being greedy, since we want to navigate to the max height pillars, then if the height of one pillar is less than the other, then the pointer pointing at the lower height pillar should shift by one unit"
   ]
  },
  {
   "cell_type": "markdown",
   "metadata": {},
   "source": [
    "### Algorithm\n",
    "> - We need a variable to store the current max area conceived\n",
    "> - We need two variables to store the locations of our left and right pointers\n",
    "> - So while the left and right pointers have yet to meet, we calculate the area conceived at the current locations of l left and right pointers by taking the min(left, right) and multiplying it by the difference between the right and left pointer locations in the height list\n",
    "> - In terms of how we shift, if the height[left_pointer] <= height[right_pointer] then we move the left pointer to the right, otherwise we move the right pointer to the left since we want to see how much water can be captured by the two tallest pillars in the height list"
   ]
  }
 ],
 "metadata": {
  "kernelspec": {
   "display_name": "Python 3.9.5 64-bit",
   "language": "python",
   "name": "python3"
  },
  "language_info": {
   "codemirror_mode": {
    "name": "ipython",
    "version": 3
   },
   "file_extension": ".py",
   "mimetype": "text/x-python",
   "name": "python",
   "nbconvert_exporter": "python",
   "pygments_lexer": "ipython3",
   "version": "3.9.5"
  },
  "orig_nbformat": 4,
  "vscode": {
   "interpreter": {
    "hash": "058bbb4884dca741715548dc8689daaa712f0bb17b4c8a018873ab55db552143"
   }
  }
 },
 "nbformat": 4,
 "nbformat_minor": 2
}
