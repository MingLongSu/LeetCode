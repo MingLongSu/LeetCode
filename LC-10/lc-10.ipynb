{
 "cells": [
  {
   "cell_type": "markdown",
   "metadata": {},
   "source": [
    "# LeetCode 10\n",
    "![lc-10](./assets/question.jpg)\n",
    "![lc-10](./assets/constraints.jpg)"
   ]
  },
  {
   "cell_type": "markdown",
   "metadata": {},
   "source": [
    "> Observations:\n",
    "> - The lengths of the input and patterns strings are at least 1 character long\n",
    "> - Of course, only the pattern can carry '.' and '*' as characters, while the rest remains to be lowercase letters\n",
    "> - For all '*', then i - 1 is a position with a valid character (either '.' or a lowercase letter)\n",
    "> - Most importantly, \"*\" matches zero or more of the preceding element\n",
    ">   - This means that strange patterns, such as \"c*ab\" can still match with an input string \"ab\" since \"c\" can simply be repeated zero times"
   ]
  },
  {
   "cell_type": "markdown",
   "metadata": {},
   "source": [
    "![lc-10-ex1](./assets/ex1.jpg)\n",
    "![lc-10-ex2](./assets/ex2.jpg)\n",
    "![lc-10-ex3](./assets/ex3.jpg)"
   ]
  },
  {
   "cell_type": "markdown",
   "metadata": {},
   "source": [
    "> Notes:\n",
    "> - For example 1, the pattern \"a\" does not match that of the input string \"aa\" for relatively trivial reasons\n",
    ">   - However, note that the index goes out of bounds for the pattern before the string since the pattern itself is shorter than the input string\n",
    "> - For example 2, the pattern \"a*\" does match that of the input string \"aa\" because the \"a*\" can repeat itself once (repeat the \"a\" once) to match that of \"aa\"\n",
    ">   - Unlike example 1, we cannot traverse the strings using a common index, this may lead to the necessity for two pointers, one for the index of the input and the other for the pattern\n",
    ">   - To move to the next index, it's trivial to increment the respective pointer by 1; however, if there is a star, then the pattern pointer has to increment by 2\n",
    "> - For example 3, the pattern \".*\" does match with \"ab\" because \"a\" matches with \".\" and, since there is a star, then the \".\" can repeat to match up with \"b\" \n",
    "> - Perhaps a recursive solution will be particularly helpful in solving such a problem intuitively considering our irregular methods for incrementations\n",
    ">   - To settle on some base cases, one important one is that if pointer_input and pointer_pattern are both out of bounds, then it must be true that they match\n",
    ">   - If pointer_pattern is out of bounds and pointer_input isn't, then it must be the case that the pattern does not match the input\n",
    ">   - A match can be defined as when s[pointer_input] == p[pointer_pattern] or p[pointer_pattern] == '.'\n",
    ">       - An edge case to this is that pointer_input < len(s) must also be true, otherwise the match is false \n",
    ">       - Edge case derived from a example s = \"aa\" and p = \"aaa\", where pointer_input would be outside the bounds of the input string s yet there are still remainds to the pattern p\n",
    "> - If there is a character match and pointer_pattern + 1 == \"*\", then we should return a call to check the next element at pointer_input and remaind at pointer_pattern to respect the star\n",
    "> - If there is no character match and pointer_pattern + 1 == \"*\", then we should return a call to check the next element at pointer_pattern by doing pointer_pattern + 2 and remaining at pointer_input\n",
    "> - And, if there is no \"*\" and there is a match, then trivially, we just increment both pointers by 1 \n",
    "> - Otherwise, we return false to indicate that the two strings do not match"
   ]
  }
 ],
 "metadata": {
  "kernelspec": {
   "display_name": "Python 3.9.5 64-bit",
   "language": "python",
   "name": "python3"
  },
  "language_info": {
   "name": "python",
   "version": "3.9.5"
  },
  "orig_nbformat": 4,
  "vscode": {
   "interpreter": {
    "hash": "058bbb4884dca741715548dc8689daaa712f0bb17b4c8a018873ab55db552143"
   }
  }
 },
 "nbformat": 4,
 "nbformat_minor": 2
}
