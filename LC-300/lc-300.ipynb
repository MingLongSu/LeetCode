{
 "cells": [
  {
   "cell_type": "markdown",
   "metadata": {},
   "source": [
    "# LeetCode 300\n",
    "![lc-300](./assets/question.jpg)\n",
    "![lc-300](./assets/constraints.jpg)"
   ]
  },
  {
   "cell_type": "markdown",
   "metadata": {},
   "source": [
    "> Observations:\n",
    "> - Note that the length of the number array will be at least 1\n",
    "> - We want the longest strictly increasing subsequence of the given sequence"
   ]
  },
  {
   "cell_type": "markdown",
   "metadata": {},
   "source": [
    "![lc-300-ex1](./assets/ex1.jpg)\n",
    "![lc-300-ex2](./assets/ex2.jpg)\n",
    "![lc-300-ex3](./assets/ex3.jpg)"
   ]
  },
  {
   "cell_type": "markdown",
   "metadata": {},
   "source": [
    "> Notes:\n",
    "> - It IS NOT the longest increasing CONTIGUOUS subsequence. From example, notice that the longest increasing subsequence is [2, 3, 7, 101] for example 1\n",
    "> - Notice that finding the array itself is not the objective, but, rather, finding the longest possible is\n",
    "> - Suppose i precedes j as an index, then if nums[i] < nums[j], then we have a portion of the subsequence that increases, and we'll have to then take nums[j] element to compare with another nums[j] element. Almost as if finding the max of the array; however, this does not take into account all possible combinations and will thus lead us to the wrong solution. For example:\n",
    ">   - Suppose nums = [10,9,2,5,3,7,101,18,19]\n",
    ">   - If we follow the thought process of what I described earlier, then we risk getting the longest subsequence as [2, 3, 7, 101] when the longest is actually [2, 3, 7, 18, 19]\n",
    "> - But what happens if we start from the end of the nums array?\n",
    ">   - By starting from the end of the nums array, then we have to traverse to the front of nums array\n",
    ">   - Embedded, we could also have another pointer that starts from the outside pointer's position + 1, and moves to the end of the array\n",
    ">   - Since we also have to keep track of the longest subsequence, what if we have a vector of length len(nums) and save the max length as we go"
   ]
  },
  {
   "cell_type": "markdown",
   "metadata": {},
   "source": [
    "> ### Algorithm\n",
    "> - Create a list with length len(nums) called \"maxes\"\n",
    "> - Starting from the end, index i will traverse to the front of the array, nums\n",
    "> - Embedded within, we could have index j which will traverse starting from position i + 1 to the end of the array, nums\n",
    "> - And we update \"maxes\" if nums[i] > nums[j] by setting maxes[i] = max(maxes[i], 1 + maxes[j]) (we add 1 since we want to include all values that saved at maxes[j] and include the new value at nums[i])\n",
    "> - Finally, using the max function, we return the max value of the list, \"maxes\", which will represent the length of the longest non-contiguous subsequence"
   ]
  }
 ],
 "metadata": {
  "kernelspec": {
   "display_name": "Python 3.9.5 64-bit",
   "language": "python",
   "name": "python3"
  },
  "language_info": {
   "name": "python",
   "version": "3.9.5"
  },
  "orig_nbformat": 4,
  "vscode": {
   "interpreter": {
    "hash": "058bbb4884dca741715548dc8689daaa712f0bb17b4c8a018873ab55db552143"
   }
  }
 },
 "nbformat": 4,
 "nbformat_minor": 2
}
