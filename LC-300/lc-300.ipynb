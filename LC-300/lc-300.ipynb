{
 "cells": [
  {
   "cell_type": "markdown",
   "metadata": {},
   "source": [
    "# LeetCode 300\n",
    "![lc-300](./assets/question.jpg)\n",
    "![lc-300](./assets/constraints.jpg)"
   ]
  },
  {
   "cell_type": "markdown",
   "metadata": {},
   "source": [
    "> Observations:\n",
    "> - Note that the length of the number array will be at least 1\n",
    "> - We want the longest strictly increasing subsequence of the given sequence"
   ]
  },
  {
   "cell_type": "markdown",
   "metadata": {},
   "source": [
    "![lc-300-ex1](./assets/ex1.jpg)\n",
    "![lc-300-ex2](./assets/ex2.jpg)\n",
    "![lc-300-ex3](./assets/ex3.jpg)"
   ]
  },
  {
   "cell_type": "markdown",
   "metadata": {},
   "source": [
    "> Notes:\n",
    "> - It IS NOT the longest increasing CONTIGUOUS subsequence. From example, notice that the longest increasing subsequence is [2, 3, 7, 101] for example 1\n",
    "> - Notice that finding the array itself is not the objective, but, rather, finding the longest possible is\n",
    "> - Suppose i precedes j as an index, then if nums[i] < nums[j], then we have a portion of the subsequence that increases, and we'll have to then take nums[j] element to compare with another nums[j] element. Almost as if finding the max of the array; however, this does not take into account all possible combinations and will thus lead us to the wrong solution. For example:\n",
    ">   - Suppose nums = [10,9,2,5,3,7,101,18,19]\n",
    ">   - If we follow the thought process of what I described earlier, then we risk getting the longest subsequence as [2, 3, 7, 101] when the longest is actually [2, 3, 7, 18, 19]\n",
    "> - But what happens if we start from the end of the nums array?\n",
    ">   - By starting from the end of the nums array, then we have to traverse to the front of nums array\n",
    ">   - Embedded, we could also have another pointer that starts from the outside pointer's position + 1, and moves to the end of the array\n",
    ">   - Since we also have to keep track of the longest subsequence, what if we have a vector of length len(nums) and save the max length as we go"
   ]
  },
  {
   "cell_type": "markdown",
   "metadata": {},
   "source": [
    "> ### Algorithm\n",
    "> - Create a list with length len(nums) called \"maxes\"\n",
    "> - Starting from the end, index i will traverse to the front of the array, nums\n",
    "> - Embedded within, we could have index j which will traverse starting from position i + 1 to the end of the array, nums\n",
    "> - And we update \"maxes\" if nums[i] > nums[j] by setting maxes[i] = max(maxes[i], 1 + maxes[j]) (we add 1 since we want to include all values that saved at maxes[j] and include the new value at nums[i])\n",
    "> - Finally, using the max function, we return the max value of the list, \"maxes\", which will represent the length of the longest non-contiguous subsequence"
   ]
  },
  {
   "cell_type": "code",
   "execution_count": 1,
   "metadata": {},
   "outputs": [],
   "source": [
    "class Solution:\n",
    "    def lengthOfLIS(self, nums) -> int:\n",
    "        length = len(nums)\n",
    "        maxes = [1] * length\n",
    "        for i in range(length, -1, -1):\n",
    "            for j in range(i + 1, length):\n",
    "                if (nums[i] < nums[j]):\n",
    "                    maxes[i] = max(maxes[i], 1 + maxes[j])\n",
    "\n",
    "        return max(maxes)"
   ]
  },
  {
   "cell_type": "code",
   "execution_count": 2,
   "metadata": {},
   "outputs": [
    {
     "name": "stdout",
     "output_type": "stream",
     "text": [
      "Ex 1:\n",
      " Result: 4\n",
      " Desire: 4\n",
      "Ex 2:\n",
      " Result: 4\n",
      " Desire: 4\n",
      "Ex 3:\n",
      " Result: 1\n",
      " Desire: 1\n"
     ]
    }
   ],
   "source": [
    "sol = Solution()\n",
    "print('Ex 1:')\n",
    "print(' Result:', sol.lengthOfLIS([10,9,2,5,3,7,101,18]))\n",
    "print(' Desire: 4')\n",
    "print('Ex 2:')\n",
    "print(' Result:', sol.lengthOfLIS([0,1,0,3,2,3]))\n",
    "print(' Desire: 4')\n",
    "print('Ex 3:')\n",
    "print(' Result:', sol.lengthOfLIS([7,7,7,7,7,7,7]))\n",
    "print(' Desire: 1')"
   ]
  },
  {
   "cell_type": "markdown",
   "metadata": {},
   "source": [
    "> ### Final Verdict\n",
    "> - Although we do start from j = i + 1, we practically have an O(n^2) time complexity (where n is the length of the list, nums) since we are still checking all the elements of the array at indices that follow i. In terms of space complexity, since \"maxes\" only stores at most n values, then the space complexity for this solution is O(n)."
   ]
  }
 ],
 "metadata": {
  "kernelspec": {
   "display_name": "Python 3.9.5 64-bit",
   "language": "python",
   "name": "python3"
  },
  "language_info": {
   "codemirror_mode": {
    "name": "ipython",
    "version": 3
   },
   "file_extension": ".py",
   "mimetype": "text/x-python",
   "name": "python",
   "nbconvert_exporter": "python",
   "pygments_lexer": "ipython3",
   "version": "3.9.5"
  },
  "orig_nbformat": 4,
  "vscode": {
   "interpreter": {
    "hash": "058bbb4884dca741715548dc8689daaa712f0bb17b4c8a018873ab55db552143"
   }
  }
 },
 "nbformat": 4,
 "nbformat_minor": 2
}
